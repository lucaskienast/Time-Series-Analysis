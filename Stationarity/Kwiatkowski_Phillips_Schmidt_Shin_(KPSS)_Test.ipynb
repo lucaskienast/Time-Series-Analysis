{
  "nbformat": 4,
  "nbformat_minor": 0,
  "metadata": {
    "colab": {
      "name": "Kwiatkowski-Phillips-Schmidt-Shin (KPSS) Test.ipynb",
      "provenance": [],
      "collapsed_sections": [],
      "authorship_tag": "ABX9TyNkLRU9ayWgMPfErCx9RCpd"
    },
    "kernelspec": {
      "name": "python3",
      "display_name": "Python 3"
    },
    "language_info": {
      "name": "python"
    }
  },
  "cells": [
    {
      "cell_type": "markdown",
      "metadata": {
        "id": "ftPLrMbvmJP3"
      },
      "source": [
        "# Kwiatkowski-Phillips-Schmidt-Shin (KPSS) Test for Stationarity\n",
        "\n",
        "(Sourced from: https://www.machinelearningplus.com/time-series/kpss-test-for-stationarity/)\n",
        "\n",
        "KPSS test is a statistical (unit root) test to check for stationarity of a series around a deterministic trend. Like ADF test, the KPSS test is also commonly used to analyse the stationarity of a series. However, it has couple of key differences compared to the ADF test in function and in practical usage. Therefore, is not safe to just use them interchangeably. \n",
        "\n"
      ]
    },
    {
      "cell_type": "markdown",
      "metadata": {
        "id": "mTeHlyHEmiQb"
      },
      "source": [
        "## Unit Root Tests\n",
        "\n",
        "The KPSS test belongs to a category of tests called ‘Unit Root Test’, which is the proper method for testing the stationarity of a time series.\n",
        "\n",
        "Unit root is a characteristic of a time series that makes it non-stationary. Technically speaking, a unit root is said to exist in a time series of the value of alpha = 1 in the below equation.\n",
        "\n",
        "$Y_{t} = \\alpha Y_{t-1} + \\beta X_{e} + \\epsilon$\n",
        "\n",
        "where, $Y_t$ is the value of the time series at time $t$ and $X_e$ is an exogenous variable (a separate explanatory variable, which is also a time series).\n",
        "\n",
        "**The presence of a unit root means the time series is non-stationary.** Besides, the number of unit roots contained in the series corresponds to the number of differencing operations required to make the series stationary."
      ]
    },
    {
      "cell_type": "markdown",
      "metadata": {
        "id": "h4QkySgGrQ9t"
      },
      "source": [
        "## KPSS vs ADF Test\n",
        "\n",
        "A major difference between KPSS and ADF tests is the capability of the KPSS test to check for stationarity in the ‘presence of a deterministic trend’.\n",
        "\n",
        "**What that effectively means to us is, the test may not necessarily reject the null hypothesis (that the series is stationary) even if a series is steadily increasing or decreasing.**\n",
        "\n",
        "But what is a ‘deterministic trend’?\n",
        "\n",
        "The word ‘deterministic’ implies the slope of the trend in the series does not change permanently. That is, even if the series goes through a shock, it tends to regain its original path."
      ]
    },
    {
      "cell_type": "markdown",
      "metadata": {
        "id": "Tmw8OX_mnLjO"
      },
      "source": [
        "## KPSS Test in Python\n",
        "\n",
        "In python, the `statsmodels` package provides a convenient implementation of the KPSS test.\n",
        "\n",
        "**A key difference from ADF test is the null hypothesis of the KPSS test is that the series is stationary.** So practically, the interpretaion of p-value is just the opposite to each other. That is, if p-value is < signif level (say 0.05), then the series is non-stationary. Whereas in ADF test, it would mean the tested series is stationary.\n",
        "\n",
        "To implement the KPSS test, we’ll use the `kpss` function from the `statsmodels` library. \n",
        "\n",
        "The output of the KPSS test contains 4 things:\n",
        "\n",
        "- The KPSS statistic\n",
        "- p-value\n",
        "- Number of lags used by the test\n",
        "- Critical values\n",
        "\n",
        "The p-value reported by the test is the probability score based on which you can decide whether to reject the null hypothesis or not. If the p-value is less than a predefined alpha level (typically 0.05), we reject the null hypothesis.\n",
        "\n",
        "The KPSS statistic is the actual test statistic that is computed while performing the test.\n",
        "\n",
        "**In order to reject the null hypothesis, the test statistic should be greater than the provided critical values. If it is in fact higher than the target critical value, then that should automatically reflect in a low p-value.**\n",
        "\n",
        "That is, if the p-value is less than 0.05, the kpss statistic will be greater than the 5% critical value.\n",
        "\n",
        "The number of lags reported is the number of lags of the series that was actually used by the model equation of the kpss test. By default, the `statsmodels kpss()` uses the ‘legacy’ method. In `legacy` method, `int(12 * (n / 100)**(1 / 4))` number of lags is included, where n is the length of the series."
      ]
    },
    {
      "cell_type": "code",
      "metadata": {
        "colab": {
          "base_uri": "https://localhost:8080/"
        },
        "id": "IV4ITxxla3zS",
        "executionInfo": {
          "status": "ok",
          "timestamp": 1629194127155,
          "user_tz": -120,
          "elapsed": 681,
          "user": {
            "displayName": "Max Lucas Kienast",
            "photoUrl": "",
            "userId": "18136220580306165387"
          }
        },
        "outputId": "d09eebd5-e1ac-4963-f7f8-cace6316658a"
      },
      "source": [
        "# import libraries\n",
        "import pandas as pd\n",
        "import numpy as np\n",
        "import matplotlib.pyplot as plt\n",
        "from statsmodels.tsa.stattools import kpss\n",
        "from statsmodels. tsa.stattools import adfuller"
      ],
      "execution_count": 1,
      "outputs": [
        {
          "output_type": "stream",
          "text": [
            "/usr/local/lib/python3.7/dist-packages/statsmodels/tools/_testing.py:19: FutureWarning: pandas.util.testing is deprecated. Use the functions in the public API at pandas.testing instead.\n",
            "  import pandas.util.testing as tm\n"
          ],
          "name": "stderr"
        }
      ]
    },
    {
      "cell_type": "markdown",
      "metadata": {
        "id": "KmxvYVuta7tH"
      },
      "source": [
        "## Example 1: *Non-stationary* around constant"
      ]
    },
    {
      "cell_type": "markdown",
      "metadata": {
        "id": "hFnHCV1uonQY"
      },
      "source": [
        "This dataset contains the minimum daily temperature of the Melbourne city from 1981 to 1990."
      ]
    },
    {
      "cell_type": "code",
      "metadata": {
        "colab": {
          "base_uri": "https://localhost:8080/"
        },
        "id": "e3LGXsftn33B",
        "executionInfo": {
          "status": "ok",
          "timestamp": 1629194127156,
          "user_tz": -120,
          "elapsed": 6,
          "user": {
            "displayName": "Max Lucas Kienast",
            "photoUrl": "",
            "userId": "18136220580306165387"
          }
        },
        "outputId": "bbcb720a-fe1d-42c9-e962-3f7ec653d989"
      },
      "source": [
        "# load data\n",
        "url = 'https://raw.githubusercontent.com/selva86/datasets/master/daily-min-temperatures.csv'\n",
        "df = pd.read_csv(url, parse_dates=['Date'], index_col='Date')\n",
        "series = df.loc[:, \"Temp\"].values\n",
        "series"
      ],
      "execution_count": 2,
      "outputs": [
        {
          "output_type": "execute_result",
          "data": {
            "text/plain": [
              "array([20.7, 17.9, 18.8, ..., 13.5, 15.7, 13. ])"
            ]
          },
          "metadata": {
            "tags": []
          },
          "execution_count": 2
        }
      ]
    },
    {
      "cell_type": "code",
      "metadata": {
        "colab": {
          "base_uri": "https://localhost:8080/",
          "height": 525
        },
        "id": "W7dpmmZen8mf",
        "executionInfo": {
          "status": "ok",
          "timestamp": 1629194127852,
          "user_tz": -120,
          "elapsed": 699,
          "user": {
            "displayName": "Max Lucas Kienast",
            "photoUrl": "",
            "userId": "18136220580306165387"
          }
        },
        "outputId": "96c6b5fc-9c24-4a43-a01e-2862b7698127"
      },
      "source": [
        "# plot\n",
        "plt.figure(figsize=(16,8))\n",
        "plt.plot(df.index, df.loc[:, \"Temp\"], label=\"time series\")\n",
        "plt.title(\"Daily Temperatures\", fontsize=18)\n",
        "plt.legend(fontsize=18)\n",
        "plt.xlabel(\"Date\", fontsize=18)\n",
        "plt.ylabel(\"Temp\", fontsize=18)\n",
        "plt.show()"
      ],
      "execution_count": 3,
      "outputs": [
        {
          "output_type": "display_data",
          "data": {
            "image/png": "[encoded data removed]",
            "text/plain": [
              "<Figure size 1152x576 with 1 Axes>"
            ]
          },
          "metadata": {
            "tags": [],
            "needs_background": "light"
          }
        }
      ]
    },
    {
      "cell_type": "markdown",
      "metadata": {
        "id": "zw13bTG26lS2"
      },
      "source": [
        "### KPSS Test: Stationarity around constant ($H_0$: stationary)"
      ]
    },
    {
      "cell_type": "code",
      "metadata": {
        "colab": {
          "base_uri": "https://localhost:8080/"
        },
        "id": "jdiaTamhos8r",
        "executionInfo": {
          "status": "ok",
          "timestamp": 1629194127853,
          "user_tz": -120,
          "elapsed": 13,
          "user": {
            "displayName": "Max Lucas Kienast",
            "photoUrl": "",
            "userId": "18136220580306165387"
          }
        },
        "outputId": "6d1ee24a-3772-4110-cf2f-f44257a649a7"
      },
      "source": [
        "# KPSS test around constant\n",
        "result_kpss_c = kpss(series, regression=\"c\")\n",
        "\n",
        "statistic = result_kpss_c[0]\n",
        "p_value = result_kpss_c[1]\n",
        "n_lags = result_kpss_c[2]\n",
        "critical_values = result_kpss_c[3]\n",
        "\n",
        "print(\" > Is the data stationary ?\")\n",
        "print(f'KPSS Statistic: {statistic}')\n",
        "print(f'p-value: {p_value}')\n",
        "print(f'num lags: {n_lags}')\n",
        "print('Critial Values:')\n",
        "\n",
        "for key, value in critical_values.items():\n",
        "  print(f'   {key} : {value}')\n",
        "  \n",
        "print(f'\\nResult: The series is likely {\"not \" if p_value < 0.05 else \"\"}stationary around a constant')"
      ],
      "execution_count": 4,
      "outputs": [
        {
          "output_type": "stream",
          "text": [
            " > Is the data stationary ?\n",
            "KPSS Statistic: 0.06511041909758424\n",
            "p-value: 0.1\n",
            "num lags: 30\n",
            "Critial Values:\n",
            "   10% : 0.347\n",
            "   5% : 0.463\n",
            "   2.5% : 0.574\n",
            "   1% : 0.739\n",
            "\n",
            "Result: The series is likely stationary around a constant\n"
          ],
          "name": "stdout"
        },
        {
          "output_type": "stream",
          "text": [
            "/usr/local/lib/python3.7/dist-packages/statsmodels/tsa/stattools.py:1685: FutureWarning: The behavior of using lags=None will change in the next release. Currently lags=None is the same as lags='legacy', and so a sample-size lag length is used. After the next release, the default will change to be the same as lags='auto' which uses an automatic lag length selection method. To silence this warning, either use 'auto' or 'legacy'\n",
            "  warn(msg, FutureWarning)\n",
            "/usr/local/lib/python3.7/dist-packages/statsmodels/tsa/stattools.py:1711: InterpolationWarning: p-value is greater than the indicated p-value\n",
            "  warn(\"p-value is greater than the indicated p-value\", InterpolationWarning)\n"
          ],
          "name": "stderr"
        }
      ]
    },
    {
      "cell_type": "markdown",
      "metadata": {
        "id": "a6KkYLrV6p6A"
      },
      "source": [
        "### KPSS Test: Stationarity around trend ($H_0$: stationary)"
      ]
    },
    {
      "cell_type": "code",
      "metadata": {
        "colab": {
          "base_uri": "https://localhost:8080/"
        },
        "id": "TvQsOaJg6tMK",
        "executionInfo": {
          "status": "ok",
          "timestamp": 1629194127853,
          "user_tz": -120,
          "elapsed": 7,
          "user": {
            "displayName": "Max Lucas Kienast",
            "photoUrl": "",
            "userId": "18136220580306165387"
          }
        },
        "outputId": "4d5dc359-6cd6-4a35-8d9f-9d3dcbaddd70"
      },
      "source": [
        "# KPSS test around trend\n",
        "result_kpss_ct = kpss(series, regression=\"ct\")\n",
        "\n",
        "statistic = result_kpss_ct[0]\n",
        "p_value = result_kpss_ct[1]\n",
        "n_lags = result_kpss_ct[2]\n",
        "critical_values = result_kpss_ct[3]\n",
        "\n",
        "print(\" > Is the data stationary ?\")\n",
        "print(f'KPSS Statistic: {statistic}')\n",
        "print(f'p-value: {p_value}')\n",
        "print(f'num lags: {n_lags}')\n",
        "print('Critial Values:')\n",
        "\n",
        "for key, value in critical_values.items():\n",
        "  print(f'   {key} : {value}')\n",
        "  \n",
        "print(f'\\nResult: The series is likely {\"not \" if p_value < 0.05 else \"\"}stationary around a trend')"
      ],
      "execution_count": 5,
      "outputs": [
        {
          "output_type": "stream",
          "text": [
            " > Is the data stationary ?\n",
            "KPSS Statistic: 0.05754274261642033\n",
            "p-value: 0.1\n",
            "num lags: 30\n",
            "Critial Values:\n",
            "   10% : 0.119\n",
            "   5% : 0.146\n",
            "   2.5% : 0.176\n",
            "   1% : 0.216\n",
            "\n",
            "Result: The series is likely stationary around a trend\n"
          ],
          "name": "stdout"
        },
        {
          "output_type": "stream",
          "text": [
            "/usr/local/lib/python3.7/dist-packages/statsmodels/tsa/stattools.py:1685: FutureWarning: The behavior of using lags=None will change in the next release. Currently lags=None is the same as lags='legacy', and so a sample-size lag length is used. After the next release, the default will change to be the same as lags='auto' which uses an automatic lag length selection method. To silence this warning, either use 'auto' or 'legacy'\n",
            "  warn(msg, FutureWarning)\n",
            "/usr/local/lib/python3.7/dist-packages/statsmodels/tsa/stattools.py:1711: InterpolationWarning: p-value is greater than the indicated p-value\n",
            "  warn(\"p-value is greater than the indicated p-value\", InterpolationWarning)\n"
          ],
          "name": "stderr"
        }
      ]
    },
    {
      "cell_type": "markdown",
      "metadata": {
        "id": "4YHGRQ8A66YK"
      },
      "source": [
        "### ADF Test: Stationarity in general ($H_0$: non-stationary)"
      ]
    },
    {
      "cell_type": "code",
      "metadata": {
        "colab": {
          "base_uri": "https://localhost:8080/"
        },
        "id": "pkweBk5o69Yk",
        "executionInfo": {
          "status": "ok",
          "timestamp": 1629194128265,
          "user_tz": -120,
          "elapsed": 417,
          "user": {
            "displayName": "Max Lucas Kienast",
            "photoUrl": "",
            "userId": "18136220580306165387"
          }
        },
        "outputId": "36388e1f-3728-4520-df15-29ff78e166ef"
      },
      "source": [
        "# ADF test \n",
        "result_adf = adfuller(series, autolag=\"AIC\")\n",
        "\n",
        "statistic = result_adf[0]\n",
        "p_value = result_adf[1]\n",
        "used_lag = result_adf[2]\n",
        "nobs = result_adf[3]\n",
        "critical_values = result_adf[4]\n",
        "icbest = result_adf[5]\n",
        "\n",
        "print(\" > Is the data stationary ?\")\n",
        "print(f'ADF Statistic: {statistic}')\n",
        "print(f'p-value: {p_value}')\n",
        "print(f'num lags: {used_lag}')\n",
        "print('Critial Values:')\n",
        "\n",
        "for key, value in critical_values.items():\n",
        "    print(f'   {key}, {value}')  \n",
        "\n",
        "print(f'\\nResult: The series is likely {\"not \" if p_value > 0.05 else \"\"}stationary')"
      ],
      "execution_count": 6,
      "outputs": [
        {
          "output_type": "stream",
          "text": [
            " > Is the data stationary ?\n",
            "ADF Statistic: -4.4448049246117\n",
            "p-value: 0.0002470826300360994\n",
            "num lags: 20\n",
            "Critial Values:\n",
            "   1%, -3.4321532327220154\n",
            "   5%, -2.862336767636517\n",
            "   10%, -2.56719413172842\n",
            "\n",
            "Result: The series is likely stationary\n"
          ],
          "name": "stdout"
        }
      ]
    },
    {
      "cell_type": "markdown",
      "metadata": {
        "id": "pOkcuRJxbVzc"
      },
      "source": [
        "## Example 2: *stationary* around trend"
      ]
    },
    {
      "cell_type": "code",
      "metadata": {
        "colab": {
          "base_uri": "https://localhost:8080/"
        },
        "id": "AFdOQTr5pqJi",
        "executionInfo": {
          "status": "ok",
          "timestamp": 1629194128265,
          "user_tz": -120,
          "elapsed": 15,
          "user": {
            "displayName": "Max Lucas Kienast",
            "photoUrl": "",
            "userId": "18136220580306165387"
          }
        },
        "outputId": "ef896a28-0a2d-4716-e7dd-62ee30f3209c"
      },
      "source": [
        "# load data\n",
        "url = \"https://raw.githubusercontent.com/selva86/datasets/master/livestock.csv\"\n",
        "df = pd.read_csv(url, parse_dates=['date'], index_col='date')\n",
        "series = df.loc[:, \"value\"].values\n",
        "series"
      ],
      "execution_count": 7,
      "outputs": [
        {
          "output_type": "execute_result",
          "data": {
            "text/plain": [
              "array([232.288994, 229.536258, 233.145936, 243.763684, 252.602916,\n",
              "       259.677371, 260.766892, 269.784084, 266.414974, 263.917747,\n",
              "       268.307222, 260.662556, 266.639419, 277.515778, 283.834045,\n",
              "       290.309028, 292.474198, 300.830694, 309.286657, 318.331081,\n",
              "       329.37239 , 338.883998, 339.244126, 328.600632, 314.255385,\n",
              "       314.459695, 321.413779, 329.789292, 346.385165, 352.297882,\n",
              "       348.370515, 417.562922, 417.12357 , 417.749459, 412.233904,\n",
              "       411.946817, 394.697075, 401.49927 , 408.270468, 414.2428  ,\n",
              "       407.997978, 403.460832, 413.824928, 428.104959, 445.338742,\n",
              "       452.994173, 455.74017 ])"
            ]
          },
          "metadata": {
            "tags": []
          },
          "execution_count": 7
        }
      ]
    },
    {
      "cell_type": "code",
      "metadata": {
        "colab": {
          "base_uri": "https://localhost:8080/",
          "height": 525
        },
        "id": "UJUus9CGsj05",
        "executionInfo": {
          "status": "ok",
          "timestamp": 1629194128266,
          "user_tz": -120,
          "elapsed": 14,
          "user": {
            "displayName": "Max Lucas Kienast",
            "photoUrl": "",
            "userId": "18136220580306165387"
          }
        },
        "outputId": "ca813295-1ee1-4151-ed70-d0dd87c55281"
      },
      "source": [
        "# plot\n",
        "plt.figure(figsize=(16,8))\n",
        "plt.plot(df.index, df.loc[:, \"value\"], label=\"time series\")\n",
        "plt.title(\"Annual Livestock\", fontsize=18)\n",
        "plt.legend(fontsize=18)\n",
        "plt.xlabel(\"Date\", fontsize=18)\n",
        "plt.ylabel(\"Temp\", fontsize=18)\n",
        "plt.show()"
      ],
      "execution_count": 8,
      "outputs": [
        {
          "output_type": "display_data",
          "data": {
            "image/png": "[encoded data removed]",
            "text/plain": [
              "<Figure size 1152x576 with 1 Axes>"
            ]
          },
          "metadata": {
            "tags": [],
            "needs_background": "light"
          }
        }
      ]
    },
    {
      "cell_type": "markdown",
      "metadata": {
        "id": "cPCGKrXVs0sC"
      },
      "source": [
        "There appears to be a steady increasing trend overall. So, you could expect that this series is stationary around the trend.\n",
        "\n",
        "Lets see..."
      ]
    },
    {
      "cell_type": "markdown",
      "metadata": {
        "id": "1oaqFUtF55Da"
      },
      "source": [
        "### KPSS Test: Stationarity around constant ($H_0$: stationary)"
      ]
    },
    {
      "cell_type": "code",
      "metadata": {
        "colab": {
          "base_uri": "https://localhost:8080/"
        },
        "id": "K1jJUTiH3tfU",
        "executionInfo": {
          "status": "ok",
          "timestamp": 1629194128267,
          "user_tz": -120,
          "elapsed": 13,
          "user": {
            "displayName": "Max Lucas Kienast",
            "photoUrl": "",
            "userId": "18136220580306165387"
          }
        },
        "outputId": "b1275355-ed7a-4b8f-d945-17ef0088b285"
      },
      "source": [
        "# KPSS test around constant\n",
        "result_kpss_c = kpss(series, regression=\"c\")\n",
        "\n",
        "statistic = result_kpss_c[0]\n",
        "p_value = result_kpss_c[1]\n",
        "n_lags = result_kpss_c[2]\n",
        "critical_values = result_kpss_c[3]\n",
        "\n",
        "print(\" > Is the data stationary ?\")\n",
        "print(f'KPSS Statistic: {statistic}')\n",
        "print(f'p-value: {p_value}')\n",
        "print(f'num lags: {n_lags}')\n",
        "print('Critial Values:')\n",
        "\n",
        "for key, value in critical_values.items():\n",
        "  print(f'   {key} : {value}')\n",
        "  \n",
        "print(f'\\nResult: The series is likely {\"not \" if p_value < 0.05 else \"\"}stationary around a constant')"
      ],
      "execution_count": 9,
      "outputs": [
        {
          "output_type": "stream",
          "text": [
            " > Is the data stationary ?\n",
            "KPSS Statistic: 0.5488001951803195\n",
            "p-value: 0.030675631716144246\n",
            "num lags: 10\n",
            "Critial Values:\n",
            "   10% : 0.347\n",
            "   5% : 0.463\n",
            "   2.5% : 0.574\n",
            "   1% : 0.739\n",
            "\n",
            "Result: The series is likely not stationary around a constant\n"
          ],
          "name": "stdout"
        },
        {
          "output_type": "stream",
          "text": [
            "/usr/local/lib/python3.7/dist-packages/statsmodels/tsa/stattools.py:1685: FutureWarning: The behavior of using lags=None will change in the next release. Currently lags=None is the same as lags='legacy', and so a sample-size lag length is used. After the next release, the default will change to be the same as lags='auto' which uses an automatic lag length selection method. To silence this warning, either use 'auto' or 'legacy'\n",
            "  warn(msg, FutureWarning)\n"
          ],
          "name": "stderr"
        }
      ]
    },
    {
      "cell_type": "markdown",
      "metadata": {
        "id": "jj62Cqp55-lI"
      },
      "source": [
        "### KPSS Test: Stationarity around trend ($H_0$: stationary)"
      ]
    },
    {
      "cell_type": "code",
      "metadata": {
        "colab": {
          "base_uri": "https://localhost:8080/"
        },
        "id": "xzvlXM9BsvxA",
        "executionInfo": {
          "status": "ok",
          "timestamp": 1629194128267,
          "user_tz": -120,
          "elapsed": 11,
          "user": {
            "displayName": "Max Lucas Kienast",
            "photoUrl": "",
            "userId": "18136220580306165387"
          }
        },
        "outputId": "1b87aa6c-946d-417b-bc9d-8e5e0efb6bcc"
      },
      "source": [
        "# KPSS test around trend\n",
        "result_kpss_ct = kpss(series, regression=\"ct\")\n",
        "\n",
        "statistic = result_kpss_ct[0]\n",
        "p_value = result_kpss_ct[1]\n",
        "n_lags = result_kpss_ct[2]\n",
        "critical_values = result_kpss_ct[3]\n",
        "\n",
        "print(\" > Is the data stationary ?\")\n",
        "print(f'KPSS Statistic: {statistic}')\n",
        "print(f'p-value: {p_value}')\n",
        "print(f'num lags: {n_lags}')\n",
        "print('Critial Values:')\n",
        "\n",
        "for key, value in critical_values.items():\n",
        "  print(f'   {key} : {value}')\n",
        "  \n",
        "print(f'\\nResult: The series is likely {\"not \" if p_value < 0.05 else \"\"}stationary around a trend')"
      ],
      "execution_count": 10,
      "outputs": [
        {
          "output_type": "stream",
          "text": [
            " > Is the data stationary ?\n",
            "KPSS Statistic: 0.11743798430485865\n",
            "p-value: 0.1\n",
            "num lags: 10\n",
            "Critial Values:\n",
            "   10% : 0.119\n",
            "   5% : 0.146\n",
            "   2.5% : 0.176\n",
            "   1% : 0.216\n",
            "\n",
            "Result: The series is likely stationary around a trend\n"
          ],
          "name": "stdout"
        },
        {
          "output_type": "stream",
          "text": [
            "/usr/local/lib/python3.7/dist-packages/statsmodels/tsa/stattools.py:1685: FutureWarning: The behavior of using lags=None will change in the next release. Currently lags=None is the same as lags='legacy', and so a sample-size lag length is used. After the next release, the default will change to be the same as lags='auto' which uses an automatic lag length selection method. To silence this warning, either use 'auto' or 'legacy'\n",
            "  warn(msg, FutureWarning)\n",
            "/usr/local/lib/python3.7/dist-packages/statsmodels/tsa/stattools.py:1711: InterpolationWarning: p-value is greater than the indicated p-value\n",
            "  warn(\"p-value is greater than the indicated p-value\", InterpolationWarning)\n"
          ],
          "name": "stderr"
        }
      ]
    },
    {
      "cell_type": "markdown",
      "metadata": {
        "id": "NF-zUPGr6Cen"
      },
      "source": [
        "### ADF Test: Stationarity in general ($H_0$: non-stationary)"
      ]
    },
    {
      "cell_type": "code",
      "metadata": {
        "colab": {
          "base_uri": "https://localhost:8080/"
        },
        "id": "Kdkwj7HI6Tp-",
        "executionInfo": {
          "status": "ok",
          "timestamp": 1629194128267,
          "user_tz": -120,
          "elapsed": 9,
          "user": {
            "displayName": "Max Lucas Kienast",
            "photoUrl": "",
            "userId": "18136220580306165387"
          }
        },
        "outputId": "0c72cba7-cc7f-42fa-e588-d5afe0b23c9d"
      },
      "source": [
        "# ADF test \n",
        "result_adf = adfuller(series, autolag=\"AIC\")\n",
        "\n",
        "statistic = result_adf[0]\n",
        "p_value = result_adf[1]\n",
        "used_lag = result_adf[2]\n",
        "nobs = result_adf[3]\n",
        "critical_values = result_adf[4]\n",
        "icbest = result_adf[5]\n",
        "\n",
        "print(\" > Is the data stationary ?\")\n",
        "print(f'ADF Statistic: {statistic}')\n",
        "print(f'p-value: {p_value}')\n",
        "print(f'num lags: {used_lag}')\n",
        "print('Critial Values:')\n",
        "\n",
        "for key, value in critical_values.items():\n",
        "    print(f'   {key}, {value}')  \n",
        "\n",
        "print(f'\\nResult: The series is likely {\"not \" if p_value > 0.05 else \"\"}stationary')"
      ],
      "execution_count": 11,
      "outputs": [
        {
          "output_type": "stream",
          "text": [
            " > Is the data stationary ?\n",
            "ADF Statistic: -0.2383837252991\n",
            "p-value: 0.9337890318823667\n",
            "num lags: 0\n",
            "Critial Values:\n",
            "   1%, -3.5812576580093696\n",
            "   5%, -2.9267849124681518\n",
            "   10%, -2.6015409829867675\n",
            "\n",
            "Result: The series is likely not stationary\n"
          ],
          "name": "stdout"
        }
      ]
    },
    {
      "cell_type": "markdown",
      "metadata": {
        "id": "6s0wQ3Gn6brT"
      },
      "source": [
        "Since p-value is well above the 0.05 alpha level, you cannot reject the null hypothesis. So the series is NOT stationary according to ADF test, which is actually expected."
      ]
    },
    {
      "cell_type": "markdown",
      "metadata": {
        "id": "Y36Xl2rB8abY"
      },
      "source": [
        "So overall what this means to us is, if a series is stationary according to the KPSS test by setting regression='ct' and is not stationary according to the ADF test, it means the series is stationary around a deterministic trend and so is fairly easy to model this series and produce fairly accurate forecasts."
      ]
    },
    {
      "cell_type": "code",
      "metadata": {
        "id": "i7lpNq5r6WKU",
        "executionInfo": {
          "status": "ok",
          "timestamp": 1629194128584,
          "user_tz": -120,
          "elapsed": 3,
          "user": {
            "displayName": "Max Lucas Kienast",
            "photoUrl": "",
            "userId": "18136220580306165387"
          }
        }
      },
      "source": [
        ""
      ],
      "execution_count": 11,
      "outputs": []
    }
  ]
}
