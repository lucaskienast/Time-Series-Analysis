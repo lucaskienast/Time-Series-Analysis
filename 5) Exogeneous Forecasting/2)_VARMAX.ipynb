{
  "nbformat": 4,
  "nbformat_minor": 0,
  "metadata": {
    "colab": {
      "name": "2) VARMAX.ipynb",
      "provenance": [],
      "collapsed_sections": []
    },
    "kernelspec": {
      "name": "python3",
      "display_name": "Python 3"
    },
    "language_info": {
      "name": "python"
    }
  },
  "cells": [
    {
      "cell_type": "markdown",
      "metadata": {
        "id": "aNIwcB3hM9os"
      },
      "source": [
        "# Exogeneous TS Forecasting: VARMAX\n",
        "\n",
        "The method is suitable for multivariate time series without trend and seasonal components with exogenous variables."
      ]
    },
    {
      "cell_type": "markdown",
      "metadata": {
        "id": "5JVUCIi7NUnf"
      },
      "source": [
        "## Import libraries"
      ]
    },
    {
      "cell_type": "code",
      "metadata": {
        "colab": {
          "base_uri": "https://localhost:8080/"
        },
        "id": "9jOc1nSlM3x0",
        "outputId": "a6d80d88-fc79-46b5-9ec0-efaf5cf81143"
      },
      "source": [
        "import numpy as np\n",
        "from statsmodels.tsa.statespace.varmax import VARMAX"
      ],
      "execution_count": 1,
      "outputs": [
        {
          "output_type": "stream",
          "text": [
            "/usr/local/lib/python3.7/dist-packages/statsmodels/tools/_testing.py:19: FutureWarning: pandas.util.testing is deprecated. Use the functions in the public API at pandas.testing instead.\n",
            "  import pandas.util.testing as tm\n"
          ],
          "name": "stderr"
        }
      ]
    },
    {
      "cell_type": "markdown",
      "metadata": {
        "id": "Xmg1tudVNctj"
      },
      "source": [
        "## Load data"
      ]
    },
    {
      "cell_type": "code",
      "metadata": {
        "id": "1CPwzpXJNb7-"
      },
      "source": [
        "# Generate a sample dataset with correlated multiple time series and an independent exogenous variable\n",
        "v1 = np.random.normal(loc=1, scale=1, size=100)\n",
        "v2 = v1 + np.random.normal(loc=1, scale=1, size=100)\n",
        "data = np.column_stack((v1, v2))\n",
        "data_exog = np.arange(0, 100, 1) + np.random.normal(1, 1, 100)"
      ],
      "execution_count": 2,
      "outputs": []
    },
    {
      "cell_type": "markdown",
      "metadata": {
        "id": "96OeOmdJOL-A"
      },
      "source": [
        "## VARMAX Model Implementation"
      ]
    },
    {
      "cell_type": "code",
      "metadata": {
        "colab": {
          "base_uri": "https://localhost:8080/"
        },
        "id": "U_4LqL7MOF6L",
        "outputId": "22ab1aed-43a2-4853-da5e-bae40fc6ee20"
      },
      "source": [
        "# only demonstration (summary values not important here)\n",
        "model = VARMAX(data, exog=data_exog, order=(1, 1))\n",
        "model_fit = model.fit(disp=False)\n",
        "print(model_fit.summary())"
      ],
      "execution_count": 3,
      "outputs": [
        {
          "output_type": "stream",
          "text": [
            "/usr/local/lib/python3.7/dist-packages/statsmodels/tsa/statespace/varmax.py:159: EstimationWarning: Estimation of VARMA(p,q) models is not generically robust, due especially to identification issues.\n",
            "  EstimationWarning)\n"
          ],
          "name": "stderr"
        },
        {
          "output_type": "stream",
          "text": [
            "                           Statespace Model Results                           \n",
            "==============================================================================\n",
            "Dep. Variable:           ['y1', 'y2']   No. Observations:                  100\n",
            "Model:                    VARMAX(1,1)   Log Likelihood                -258.171\n",
            "                          + intercept   AIC                            546.342\n",
            "Date:                Fri, 20 Aug 2021   BIC                            585.420\n",
            "Time:                        15:46:35   HQIC                           562.157\n",
            "Sample:                             0                                         \n",
            "                                - 100                                         \n",
            "Covariance Type:                  opg                                         \n",
            "===================================================================================\n",
            "Ljung-Box (Q):                25.29, 42.00   Jarque-Bera (JB):           1.36, 0.72\n",
            "Prob(Q):                        0.97, 0.38   Prob(JB):                   0.51, 0.70\n",
            "Heteroskedasticity (H):         1.66, 0.53   Skew:                       0.09, 0.11\n",
            "Prob(H) (two-sided):            0.15, 0.07   Kurtosis:                   3.54, 2.65\n",
            "                           Results for equation y1                            \n",
            "==============================================================================\n",
            "                 coef    std err          z      P>|z|      [0.025      0.975]\n",
            "------------------------------------------------------------------------------\n",
            "intercept      0.9136      1.147      0.796      0.426      -1.335       3.162\n",
            "L1.y1          0.1419      0.405      0.350      0.726      -0.652       0.936\n",
            "L1.y2         -0.0276      0.653     -0.042      0.966      -1.307       1.251\n",
            "L1.e(y1)      -0.4180      0.393     -1.063      0.288      -1.189       0.353\n",
            "L1.e(y2)       0.1641      0.664      0.247      0.805      -1.137       1.465\n",
            "beta.x1        0.0007      0.003      0.256      0.798      -0.005       0.006\n",
            "                           Results for equation y2                            \n",
            "==============================================================================\n",
            "                 coef    std err          z      P>|z|      [0.025      0.975]\n",
            "------------------------------------------------------------------------------\n",
            "intercept      2.1012      1.810      1.161      0.246      -1.447       5.649\n",
            "L1.y1         -0.4910      0.802     -0.612      0.541      -2.064       1.082\n",
            "L1.y2          0.1566      1.080      0.145      0.885      -1.961       2.274\n",
            "L1.e(y1)       0.3534      0.856      0.413      0.680      -1.325       2.032\n",
            "L1.e(y2)      -0.1684      1.105     -0.152      0.879      -2.334       1.997\n",
            "beta.x1        0.0017      0.005      0.348      0.728      -0.008       0.011\n",
            "                             Error covariance matrix                              \n",
            "==================================================================================\n",
            "                     coef    std err          z      P>|z|      [0.025      0.975]\n",
            "----------------------------------------------------------------------------------\n",
            "sqrt.var.y1        0.7613      0.050     15.152      0.000       0.663       0.860\n",
            "sqrt.cov.y1.y2     0.6393      0.136      4.687      0.000       0.372       0.907\n",
            "sqrt.var.y2        0.9993      0.088     11.303      0.000       0.826       1.173\n",
            "==================================================================================\n",
            "\n",
            "Warnings:\n",
            "[1] Covariance matrix calculated using the outer product of gradients (complex-step).\n"
          ],
          "name": "stdout"
        },
        {
          "output_type": "stream",
          "text": [
            "/usr/local/lib/python3.7/dist-packages/statsmodels/base/model.py:512: ConvergenceWarning: Maximum Likelihood optimization failed to converge. Check mle_retvals\n",
            "  \"Check mle_retvals\", ConvergenceWarning)\n"
          ],
          "name": "stderr"
        }
      ]
    },
    {
      "cell_type": "markdown",
      "metadata": {
        "id": "nYjAfR_1Ogxf"
      },
      "source": [
        "## Make Prediction"
      ]
    },
    {
      "cell_type": "code",
      "metadata": {
        "colab": {
          "base_uri": "https://localhost:8080/"
        },
        "id": "3EPCDvmBObkE",
        "outputId": "28eff821-001e-4088-e524-104f4191a059"
      },
      "source": [
        "# just one prediction step\n",
        "data_exog2 = np.arange(100, 101, 1)\n",
        "yhat = model_fit.forecast(exog=[data_exog2])\n",
        "print(yhat)"
      ],
      "execution_count": 4,
      "outputs": [
        {
          "output_type": "stream",
          "text": [
            "[[1.20017663 1.90509929]]\n"
          ],
          "name": "stdout"
        },
        {
          "output_type": "stream",
          "text": [
            "/usr/local/lib/python3.7/dist-packages/statsmodels/tsa/statespace/varmax.py:159: EstimationWarning: Estimation of VARMA(p,q) models is not generically robust, due especially to identification issues.\n",
            "  EstimationWarning)\n"
          ],
          "name": "stderr"
        }
      ]
    },
    {
      "cell_type": "code",
      "metadata": {
        "id": "13W2mEhrPVgW"
      },
      "source": [
        ""
      ],
      "execution_count": 4,
      "outputs": []
    }
  ]
}