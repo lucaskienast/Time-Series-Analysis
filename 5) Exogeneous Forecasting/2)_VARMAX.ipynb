{
  "nbformat": 4,
  "nbformat_minor": 0,
  "metadata": {
    "colab": {
      "name": "2) VARMAX.ipynb",
      "provenance": [],
      "collapsed_sections": [],
      "authorship_tag": "ABX9TyMw9+WP3GXxDgODXruDA8Ub"
    },
    "kernelspec": {
      "name": "python3",
      "display_name": "Python 3"
    },
    "language_info": {
      "name": "python"
    }
  },
  "cells": [
    {
      "cell_type": "markdown",
      "metadata": {
        "id": "aNIwcB3hM9os"
      },
      "source": [
        "# Exogeneous TS Forecasting: VARMAX\n",
        "\n",
        "The method is suitable for multivariate time series without trend and seasonal components with exogenous variables."
      ]
    },
    {
      "cell_type": "markdown",
      "metadata": {
        "id": "5JVUCIi7NUnf"
      },
      "source": [
        "## Import libraries"
      ]
    },
    {
      "cell_type": "code",
      "metadata": {
        "colab": {
          "base_uri": "https://localhost:8080/"
        },
        "id": "9jOc1nSlM3x0",
        "executionInfo": {
          "status": "ok",
          "timestamp": 1629475448943,
          "user_tz": -120,
          "elapsed": 785,
          "user": {
            "displayName": "Max Lucas Kienast",
            "photoUrl": "",
            "userId": "18136220580306165387"
          }
        },
        "outputId": "d10f1f02-6288-4739-fb7b-c581775e84eb"
      },
      "source": [
        "import numpy as np\n",
        "from statsmodels.tsa.statespace.varmax import VARMAX"
      ],
      "execution_count": 1,
      "outputs": [
        {
          "output_type": "stream",
          "text": [
            "/usr/local/lib/python3.7/dist-packages/statsmodels/tools/_testing.py:19: FutureWarning: pandas.util.testing is deprecated. Use the functions in the public API at pandas.testing instead.\n",
            "  import pandas.util.testing as tm\n"
          ],
          "name": "stderr"
        }
      ]
    },
    {
      "cell_type": "markdown",
      "metadata": {
        "id": "Xmg1tudVNctj"
      },
      "source": [
        "## Load data"
      ]
    },
    {
      "cell_type": "code",
      "metadata": {
        "id": "1CPwzpXJNb7-",
        "executionInfo": {
          "status": "ok",
          "timestamp": 1629475448943,
          "user_tz": -120,
          "elapsed": 3,
          "user": {
            "displayName": "Max Lucas Kienast",
            "photoUrl": "",
            "userId": "18136220580306165387"
          }
        }
      },
      "source": [
        "# Generate a sample dataset with correlated multiple time series and an independent exogenous variable\n",
        "v1 = np.random.normal(loc=0, scale=1, size=100)\n",
        "v2 = v1 + np.random.normal(loc=0, scale=1, size=100)\n",
        "data = np.column_stack((v1, v2))\n",
        "data_exog = np.arange(0, 100, 1) + np.random.normal(0, 1, 100)"
      ],
      "execution_count": 2,
      "outputs": []
    },
    {
      "cell_type": "markdown",
      "metadata": {
        "id": "96OeOmdJOL-A"
      },
      "source": [
        "## VARMAX Model Implementation"
      ]
    },
    {
      "cell_type": "code",
      "metadata": {
        "colab": {
          "base_uri": "https://localhost:8080/"
        },
        "id": "U_4LqL7MOF6L",
        "executionInfo": {
          "status": "ok",
          "timestamp": 1629475450910,
          "user_tz": -120,
          "elapsed": 1970,
          "user": {
            "displayName": "Max Lucas Kienast",
            "photoUrl": "",
            "userId": "18136220580306165387"
          }
        },
        "outputId": "1440ba9b-c9c1-44e9-c18f-58e710b60d78"
      },
      "source": [
        "# only demonstration (summary values not important here)\n",
        "model = VARMAX(data, exog=data_exog, order=(1, 1))\n",
        "model_fit = model.fit(disp=False)\n",
        "print(model_fit.summary())"
      ],
      "execution_count": 3,
      "outputs": [
        {
          "output_type": "stream",
          "text": [
            "/usr/local/lib/python3.7/dist-packages/statsmodels/tsa/statespace/varmax.py:159: EstimationWarning: Estimation of VARMA(p,q) models is not generically robust, due especially to identification issues.\n",
            "  EstimationWarning)\n"
          ],
          "name": "stderr"
        },
        {
          "output_type": "stream",
          "text": [
            "                           Statespace Model Results                           \n",
            "==============================================================================\n",
            "Dep. Variable:           ['y1', 'y2']   No. Observations:                  100\n",
            "Model:                    VARMAX(1,1)   Log Likelihood                -281.898\n",
            "                          + intercept   AIC                            593.797\n",
            "Date:                Fri, 20 Aug 2021   BIC                            632.874\n",
            "Time:                        16:04:10   HQIC                           609.612\n",
            "Sample:                             0                                         \n",
            "                                - 100                                         \n",
            "Covariance Type:                  opg                                         \n",
            "===================================================================================\n",
            "Ljung-Box (Q):                51.43, 66.18   Jarque-Bera (JB):           2.70, 1.65\n",
            "Prob(Q):                        0.11, 0.01   Prob(JB):                   0.26, 0.44\n",
            "Heteroskedasticity (H):         1.13, 1.22   Skew:                     -0.40, -0.27\n",
            "Prob(H) (two-sided):            0.74, 0.58   Kurtosis:                   3.02, 3.31\n",
            "                           Results for equation y1                            \n",
            "==============================================================================\n",
            "                 coef    std err          z      P>|z|      [0.025      0.975]\n",
            "------------------------------------------------------------------------------\n",
            "intercept      0.0534      1.102      0.048      0.961      -2.107       2.214\n",
            "L1.y1         -0.0840      8.032     -0.010      0.992     -15.826      15.658\n",
            "L1.y2          0.0753      8.362      0.009      0.993     -16.314      16.465\n",
            "L1.e(y1)      -0.0079      8.000     -0.001      0.999     -15.688      15.672\n",
            "L1.e(y2)      -0.0083      8.314     -0.001      0.999     -16.304      16.287\n",
            "beta.x1       -0.0011      0.007     -0.157      0.875      -0.015       0.013\n",
            "                           Results for equation y2                            \n",
            "==============================================================================\n",
            "                 coef    std err          z      P>|z|      [0.025      0.975]\n",
            "------------------------------------------------------------------------------\n",
            "intercept      0.1806      1.356      0.133      0.894      -2.476       2.838\n",
            "L1.y1         -0.1015      9.489     -0.011      0.991     -18.700      18.497\n",
            "L1.y2          0.0487     10.269      0.005      0.996     -20.077      20.175\n",
            "L1.e(y1)       0.0070      9.492      0.001      0.999     -18.597      18.611\n",
            "L1.e(y2)       0.0068     10.253      0.001      0.999     -20.089      20.102\n",
            "beta.x1       -0.0017      0.009     -0.188      0.851      -0.020       0.016\n",
            "                             Error covariance matrix                              \n",
            "==================================================================================\n",
            "                     coef    std err          z      P>|z|      [0.025      0.975]\n",
            "----------------------------------------------------------------------------------\n",
            "sqrt.var.y1        1.0813      0.091     11.824      0.000       0.902       1.261\n",
            "sqrt.cov.y1.y2     1.1548      0.140      8.245      0.000       0.880       1.429\n",
            "sqrt.var.y2        0.9032      0.066     13.634      0.000       0.773       1.033\n",
            "==================================================================================\n",
            "\n",
            "Warnings:\n",
            "[1] Covariance matrix calculated using the outer product of gradients (complex-step).\n"
          ],
          "name": "stdout"
        },
        {
          "output_type": "stream",
          "text": [
            "/usr/local/lib/python3.7/dist-packages/statsmodels/base/model.py:512: ConvergenceWarning: Maximum Likelihood optimization failed to converge. Check mle_retvals\n",
            "  \"Check mle_retvals\", ConvergenceWarning)\n"
          ],
          "name": "stderr"
        }
      ]
    },
    {
      "cell_type": "markdown",
      "metadata": {
        "id": "nYjAfR_1Ogxf"
      },
      "source": [
        "## Make Prediction"
      ]
    },
    {
      "cell_type": "code",
      "metadata": {
        "colab": {
          "base_uri": "https://localhost:8080/"
        },
        "id": "3EPCDvmBObkE",
        "executionInfo": {
          "status": "ok",
          "timestamp": 1629475450910,
          "user_tz": -120,
          "elapsed": 5,
          "user": {
            "displayName": "Max Lucas Kienast",
            "photoUrl": "",
            "userId": "18136220580306165387"
          }
        },
        "outputId": "07606cb2-7a94-4ad3-b44c-001265fad6f8"
      },
      "source": [
        "# just one prediction step\n",
        "data_exog2 = np.arange(100, 101, 1)\n",
        "yhat = model_fit.forecast(exog=[data_exog2])\n",
        "print(yhat)"
      ],
      "execution_count": 4,
      "outputs": [
        {
          "output_type": "stream",
          "text": [
            "[[0.03713558 0.09141134]]\n"
          ],
          "name": "stdout"
        },
        {
          "output_type": "stream",
          "text": [
            "/usr/local/lib/python3.7/dist-packages/statsmodels/tsa/statespace/varmax.py:159: EstimationWarning: Estimation of VARMA(p,q) models is not generically robust, due especially to identification issues.\n",
            "  EstimationWarning)\n"
          ],
          "name": "stderr"
        }
      ]
    },
    {
      "cell_type": "code",
      "metadata": {
        "id": "13W2mEhrPVgW",
        "executionInfo": {
          "status": "ok",
          "timestamp": 1629475450912,
          "user_tz": -120,
          "elapsed": 5,
          "user": {
            "displayName": "Max Lucas Kienast",
            "photoUrl": "",
            "userId": "18136220580306165387"
          }
        }
      },
      "source": [
        ""
      ],
      "execution_count": 4,
      "outputs": []
    }
  ]
}
