{
  "nbformat": 4,
  "nbformat_minor": 0,
  "metadata": {
    "colab": {
      "name": "1) SARIMAX.ipynb",
      "provenance": [],
      "collapsed_sections": []
    },
    "kernelspec": {
      "name": "python3",
      "display_name": "Python 3"
    },
    "language_info": {
      "name": "python"
    }
  },
  "cells": [
    {
      "cell_type": "markdown",
      "metadata": {
        "id": "zt7u_6ulJ-C_"
      },
      "source": [
        "# Exogeneous TS Forecasting: SARIMAX\n",
        "\n",
        "The method is suitable for univariate time series with trend and/or seasonal components and exogenous variables.\n",
        "\n",
        "The Seasonal Autoregressive Integrated Moving-Average with Exogenous Regressors (SARIMAX) is an extension of the SARIMA model that also includes the modeling of exogenous variables.\n",
        "\n",
        "- An exogenous variable is one whose value is determined outside the model and is imposed on the model. Here, X is an exogenous variable\n",
        "- An endogenous variable is a variable whose value is determined by the model. Here, main series to be forecasted is an endogenous variable.\n",
        "\n",
        "In time series, the exogenous variable is a parallel time series that are not modeled directly but is used as a weighted input to the model. The SARIMAX method can also be used to model the other variations with exogenous variables, such as ARX, MAX, ARMAX, and ARIMAX by including an exogenous variable.\n"
      ]
    },
    {
      "cell_type": "markdown",
      "metadata": {
        "id": "sluFd5aAKfQs"
      },
      "source": [
        "## Import libraries"
      ]
    },
    {
      "cell_type": "code",
      "metadata": {
        "colab": {
          "base_uri": "https://localhost:8080/"
        },
        "id": "sH_BO9sBJ32V",
        "outputId": "fa4c3e8f-1231-4c3f-aa97-6866cb252218"
      },
      "source": [
        "import numpy as np\n",
        "from statsmodels.tsa.statespace.sarimax import SARIMAX"
      ],
      "execution_count": 1,
      "outputs": [
        {
          "output_type": "stream",
          "text": [
            "/usr/local/lib/python3.7/dist-packages/statsmodels/tools/_testing.py:19: FutureWarning: pandas.util.testing is deprecated. Use the functions in the public API at pandas.testing instead.\n",
            "  import pandas.util.testing as tm\n"
          ],
          "name": "stderr"
        }
      ]
    },
    {
      "cell_type": "markdown",
      "metadata": {
        "id": "MBPXAgdLKndx"
      },
      "source": [
        "## Load data"
      ]
    },
    {
      "cell_type": "code",
      "metadata": {
        "id": "8HmxPn43Kmru"
      },
      "source": [
        "# generate random data\n",
        "data1 = np.arange(1, 100, 1) + np.random.normal(1,1,99)\n",
        "data2 = np.arange(101, 200, 1) + np.random.normal(1, 1, 99)"
      ],
      "execution_count": 2,
      "outputs": []
    },
    {
      "cell_type": "markdown",
      "metadata": {
        "id": "hDuqB15ULS6O"
      },
      "source": [
        "## SARIMAX Model Implementation"
      ]
    },
    {
      "cell_type": "code",
      "metadata": {
        "colab": {
          "base_uri": "https://localhost:8080/"
        },
        "id": "wepwxNIxLK8L",
        "outputId": "913ba0a5-eab0-4ace-a9a3-69d65dd6583b"
      },
      "source": [
        "# only demonstration (summary values not important here)\n",
        "model = SARIMAX(data1, exog=data2, \n",
        "                order=(1, 1, 1), seasonal_order=(0, 0, 0, 0))\n",
        "model_fit = model.fit(disp=False)\n",
        "print(model_fit.summary())"
      ],
      "execution_count": 3,
      "outputs": [
        {
          "output_type": "stream",
          "text": [
            "                           Statespace Model Results                           \n",
            "==============================================================================\n",
            "Dep. Variable:                      y   No. Observations:                   99\n",
            "Model:               SARIMAX(1, 1, 1)   Log Likelihood                -172.185\n",
            "Date:                Fri, 20 Aug 2021   AIC                            352.370\n",
            "Time:                        15:34:40   BIC                            362.710\n",
            "Sample:                             0   HQIC                           356.553\n",
            "                                 - 99                                         \n",
            "Covariance Type:                  opg                                         \n",
            "==============================================================================\n",
            "                 coef    std err          z      P>|z|      [0.025      0.975]\n",
            "------------------------------------------------------------------------------\n",
            "x1             1.0088      0.005    223.221      0.000       1.000       1.018\n",
            "ar.L1         -0.1100      0.117     -0.939      0.348      -0.340       0.120\n",
            "ma.L1         -0.9998      6.509     -0.154      0.878     -13.757      11.758\n",
            "sigma2         1.8728     12.192      0.154      0.878     -22.024      25.769\n",
            "===================================================================================\n",
            "Ljung-Box (Q):                       37.96   Jarque-Bera (JB):                 1.14\n",
            "Prob(Q):                              0.56   Prob(JB):                         0.57\n",
            "Heteroskedasticity (H):               0.97   Skew:                             0.20\n",
            "Prob(H) (two-sided):                  0.94   Kurtosis:                         2.65\n",
            "===================================================================================\n",
            "\n",
            "Warnings:\n",
            "[1] Covariance matrix calculated using the outer product of gradients (complex-step).\n"
          ],
          "name": "stdout"
        }
      ]
    },
    {
      "cell_type": "markdown",
      "metadata": {
        "id": "05xBpcVeMLmA"
      },
      "source": [
        "## Make Prediction"
      ]
    },
    {
      "cell_type": "code",
      "metadata": {
        "colab": {
          "base_uri": "https://localhost:8080/"
        },
        "id": "vf4Rbmm8L6Ut",
        "outputId": "0679084c-cb3f-4c57-e7b4-3130266e6eaa"
      },
      "source": [
        "# just one prediction into future\n",
        "exog2 = np.arange(200, 201, 1) + np.random.normal(1, 1, 1)\n",
        "yhat = model_fit.predict(start=data1.shape[0], end=data1.shape[0], exog=[exog2])\n",
        "print(yhat)"
      ],
      "execution_count": 4,
      "outputs": [
        {
          "output_type": "stream",
          "text": [
            "[101.32416675]\n"
          ],
          "name": "stdout"
        }
      ]
    },
    {
      "cell_type": "code",
      "metadata": {
        "id": "gLEbtbRhMm6P"
      },
      "source": [
        ""
      ],
      "execution_count": 4,
      "outputs": []
    }
  ]
}