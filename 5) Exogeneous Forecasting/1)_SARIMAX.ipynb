{
  "nbformat": 4,
  "nbformat_minor": 0,
  "metadata": {
    "colab": {
      "name": "1) SARIMAX.ipynb",
      "provenance": [],
      "collapsed_sections": [],
      "authorship_tag": "ABX9TyPwlgsD2uFGPFmGNHpmvz0I"
    },
    "kernelspec": {
      "name": "python3",
      "display_name": "Python 3"
    },
    "language_info": {
      "name": "python"
    }
  },
  "cells": [
    {
      "cell_type": "markdown",
      "metadata": {
        "id": "zt7u_6ulJ-C_"
      },
      "source": [
        "# Exogeneous TS Forecasting: SARIMAX\n",
        "\n",
        "The method is suitable for univariate time series with trend and/or seasonal components and exogenous variables.\n",
        "\n",
        "The Seasonal Autoregressive Integrated Moving-Average with Exogenous Regressors (SARIMAX) is an extension of the SARIMA model that also includes the modeling of exogenous variables.\n",
        "\n",
        "- An exogenous variable is one whose value is determined outside the model and is imposed on the model. Here, X is an exogenous variable\n",
        "- An endogenous variable is a variable whose value is determined by the model. Here, main series to be forecasted is an endogenous variable.\n",
        "\n",
        "In time series, the exogenous variable is a parallel time series that are not modeled directly but is used as a weighted input to the model. The SARIMAX method can also be used to model the other variations with exogenous variables, such as ARX, MAX, ARMAX, and ARIMAX by including an exogenous variable.\n"
      ]
    },
    {
      "cell_type": "markdown",
      "metadata": {
        "id": "sluFd5aAKfQs"
      },
      "source": [
        "## Import libraries"
      ]
    },
    {
      "cell_type": "code",
      "metadata": {
        "colab": {
          "base_uri": "https://localhost:8080/"
        },
        "id": "sH_BO9sBJ32V",
        "executionInfo": {
          "status": "ok",
          "timestamp": 1629475513368,
          "user_tz": -120,
          "elapsed": 590,
          "user": {
            "displayName": "Max Lucas Kienast",
            "photoUrl": "",
            "userId": "18136220580306165387"
          }
        },
        "outputId": "b8d38a36-5879-45aa-c02b-7a22a31dc57c"
      },
      "source": [
        "import numpy as np\n",
        "from statsmodels.tsa.statespace.sarimax import SARIMAX"
      ],
      "execution_count": 1,
      "outputs": [
        {
          "output_type": "stream",
          "text": [
            "/usr/local/lib/python3.7/dist-packages/statsmodels/tools/_testing.py:19: FutureWarning: pandas.util.testing is deprecated. Use the functions in the public API at pandas.testing instead.\n",
            "  import pandas.util.testing as tm\n"
          ],
          "name": "stderr"
        }
      ]
    },
    {
      "cell_type": "markdown",
      "metadata": {
        "id": "MBPXAgdLKndx"
      },
      "source": [
        "## Load data"
      ]
    },
    {
      "cell_type": "code",
      "metadata": {
        "id": "8HmxPn43Kmru",
        "executionInfo": {
          "status": "ok",
          "timestamp": 1629475513368,
          "user_tz": -120,
          "elapsed": 3,
          "user": {
            "displayName": "Max Lucas Kienast",
            "photoUrl": "",
            "userId": "18136220580306165387"
          }
        }
      },
      "source": [
        "# generate random data\n",
        "data1 = np.arange(1, 100, 1) + np.random.normal(0,1,99)\n",
        "data2 = np.arange(101, 200, 1) + np.random.normal(0, 1, 99)"
      ],
      "execution_count": 2,
      "outputs": []
    },
    {
      "cell_type": "markdown",
      "metadata": {
        "id": "hDuqB15ULS6O"
      },
      "source": [
        "## SARIMAX Model Implementation"
      ]
    },
    {
      "cell_type": "code",
      "metadata": {
        "colab": {
          "base_uri": "https://localhost:8080/"
        },
        "id": "wepwxNIxLK8L",
        "executionInfo": {
          "status": "ok",
          "timestamp": 1629475513762,
          "user_tz": -120,
          "elapsed": 397,
          "user": {
            "displayName": "Max Lucas Kienast",
            "photoUrl": "",
            "userId": "18136220580306165387"
          }
        },
        "outputId": "534b0b7e-7db4-4454-df31-64848b4e931c"
      },
      "source": [
        "# only demonstration (summary values not important here)\n",
        "model = SARIMAX(data1, exog=data2, \n",
        "                order=(1, 1, 1), seasonal_order=(0, 0, 0, 0))\n",
        "model_fit = model.fit(disp=False)\n",
        "print(model_fit.summary())"
      ],
      "execution_count": 3,
      "outputs": [
        {
          "output_type": "stream",
          "text": [
            "                           Statespace Model Results                           \n",
            "==============================================================================\n",
            "Dep. Variable:                      y   No. Observations:                   99\n",
            "Model:               SARIMAX(1, 1, 1)   Log Likelihood                -157.302\n",
            "Date:                Fri, 20 Aug 2021   AIC                            322.605\n",
            "Time:                        16:05:13   BIC                            332.945\n",
            "Sample:                             0   HQIC                           326.787\n",
            "                                 - 99                                         \n",
            "Covariance Type:                  opg                                         \n",
            "==============================================================================\n",
            "                 coef    std err          z      P>|z|      [0.025      0.975]\n",
            "------------------------------------------------------------------------------\n",
            "x1             0.9989      0.005    209.130      0.000       0.990       1.008\n",
            "ar.L1          0.1555      0.115      1.350      0.177      -0.070       0.381\n",
            "ma.L1         -0.9999     17.329     -0.058      0.954     -34.964      32.964\n",
            "sigma2         1.3892     23.980      0.058      0.954     -45.610      48.389\n",
            "===================================================================================\n",
            "Ljung-Box (Q):                       33.68   Jarque-Bera (JB):                 0.23\n",
            "Prob(Q):                              0.75   Prob(JB):                         0.89\n",
            "Heteroskedasticity (H):               1.12   Skew:                            -0.04\n",
            "Prob(H) (two-sided):                  0.74   Kurtosis:                         3.22\n",
            "===================================================================================\n",
            "\n",
            "Warnings:\n",
            "[1] Covariance matrix calculated using the outer product of gradients (complex-step).\n"
          ],
          "name": "stdout"
        }
      ]
    },
    {
      "cell_type": "markdown",
      "metadata": {
        "id": "05xBpcVeMLmA"
      },
      "source": [
        "## Make Prediction"
      ]
    },
    {
      "cell_type": "code",
      "metadata": {
        "colab": {
          "base_uri": "https://localhost:8080/"
        },
        "id": "vf4Rbmm8L6Ut",
        "executionInfo": {
          "status": "ok",
          "timestamp": 1629475513763,
          "user_tz": -120,
          "elapsed": 6,
          "user": {
            "displayName": "Max Lucas Kienast",
            "photoUrl": "",
            "userId": "18136220580306165387"
          }
        },
        "outputId": "2b9dba7e-fb8c-4c0e-c4b9-c028b6bdd734"
      },
      "source": [
        "# just one prediction into future\n",
        "exog2 = np.arange(200, 201, 1) + np.random.normal(0, 1, 1)\n",
        "yhat = model_fit.predict(start=data1.shape[0], end=data1.shape[0], exog=[exog2])\n",
        "print(yhat)"
      ],
      "execution_count": 4,
      "outputs": [
        {
          "output_type": "stream",
          "text": [
            "[101.2155858]\n"
          ],
          "name": "stdout"
        }
      ]
    },
    {
      "cell_type": "code",
      "metadata": {
        "id": "gLEbtbRhMm6P",
        "executionInfo": {
          "status": "ok",
          "timestamp": 1629475513763,
          "user_tz": -120,
          "elapsed": 4,
          "user": {
            "displayName": "Max Lucas Kienast",
            "photoUrl": "",
            "userId": "18136220580306165387"
          }
        }
      },
      "source": [
        ""
      ],
      "execution_count": 4,
      "outputs": []
    }
  ]
}
