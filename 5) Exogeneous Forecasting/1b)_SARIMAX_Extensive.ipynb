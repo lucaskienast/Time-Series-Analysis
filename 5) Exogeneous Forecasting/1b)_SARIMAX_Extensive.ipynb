{
  "nbformat": 4,
  "nbformat_minor": 0,
  "metadata": {
    "colab": {
      "name": "SARIMAX Basics.ipynb",
      "provenance": [],
      "collapsed_sections": []
    },
    "kernelspec": {
      "name": "python3",
      "display_name": "Python 3"
    },
    "language_info": {
      "name": "python"
    }
  },
  "cells": [
    {
      "cell_type": "markdown",
      "metadata": {
        "id": "EDpW-1R-Vkcj"
      },
      "source": [
        "# SARIMAX Model\n",
        "\n",
        "(Sourced: https://www.machinelearningplus.com/time-series/arima-model-time-series-forecasting-python/)\n",
        "\n",
        "SARIMAX includes an external predictor, also called, ‘exogenous variable’ into the SARIMA model.\n",
        "\n",
        "**The only requirement to use an exogenous variable is you need to know the value of the variable during the forecast period as well**.\n",
        "\n",
        "For the sake of demonstration, I am going to use the seasonal index from the classical seasonal decomposition on the latest 36 months of data. Why the seasonal index? Isn’t SARIMA already modeling the seasonality? That is correct.\n",
        "\n",
        "But also, I want to see how the model looks if we force the recent seasonality pattern into the training and forecast.\n",
        "\n",
        "Secondly, this is a good variable for demo purpose. So you can use this as a template and plug in any of your variables into the code. The seasonal index is a good exogenous variable because it repeats every frequency cycle, 12 months in this case.\n",
        "\n",
        "So, you will always know what values the seasonal index will hold for the future forecasts.\n"
      ]
    },
    {
      "cell_type": "markdown",
      "metadata": {
        "id": "z8rnRe85WbsS"
      },
      "source": [
        "## Import libraries"
      ]
    },
    {
      "cell_type": "code",
      "metadata": {
        "colab": {
          "base_uri": "https://localhost:8080/"
        },
        "id": "Q4tuSS5_SNYa",
        "outputId": "29003bf9-1687-4eff-9c90-f4aabb33743f"
      },
      "source": [
        "pip install pmdarima"
      ],
      "execution_count": 1,
      "outputs": [
        {
          "output_type": "stream",
          "text": [
            "Requirement already satisfied: pmdarima in /usr/local/lib/python3.7/dist-packages (1.8.2)\n",
            "Requirement already satisfied: Cython!=0.29.18,>=0.29 in /usr/local/lib/python3.7/dist-packages (from pmdarima) (0.29.24)\n",
            "Requirement already satisfied: scipy>=1.3.2 in /usr/local/lib/python3.7/dist-packages (from pmdarima) (1.4.1)\n",
            "Requirement already satisfied: setuptools!=50.0.0,>=38.6.0 in /usr/local/lib/python3.7/dist-packages (from pmdarima) (57.4.0)\n",
            "Requirement already satisfied: statsmodels!=0.12.0,>=0.11 in /usr/local/lib/python3.7/dist-packages (from pmdarima) (0.12.2)\n",
            "Requirement already satisfied: pandas>=0.19 in /usr/local/lib/python3.7/dist-packages (from pmdarima) (1.1.5)\n",
            "Requirement already satisfied: joblib>=0.11 in /usr/local/lib/python3.7/dist-packages (from pmdarima) (1.0.1)\n",
            "Requirement already satisfied: scikit-learn>=0.22 in /usr/local/lib/python3.7/dist-packages (from pmdarima) (0.22.2.post1)\n",
            "Requirement already satisfied: numpy~=1.19.0 in /usr/local/lib/python3.7/dist-packages (from pmdarima) (1.19.5)\n",
            "Requirement already satisfied: urllib3 in /usr/local/lib/python3.7/dist-packages (from pmdarima) (1.24.3)\n",
            "Requirement already satisfied: pytz>=2017.2 in /usr/local/lib/python3.7/dist-packages (from pandas>=0.19->pmdarima) (2018.9)\n",
            "Requirement already satisfied: python-dateutil>=2.7.3 in /usr/local/lib/python3.7/dist-packages (from pandas>=0.19->pmdarima) (2.8.2)\n",
            "Requirement already satisfied: six>=1.5 in /usr/local/lib/python3.7/dist-packages (from python-dateutil>=2.7.3->pandas>=0.19->pmdarima) (1.15.0)\n",
            "Requirement already satisfied: patsy>=0.5 in /usr/local/lib/python3.7/dist-packages (from statsmodels!=0.12.0,>=0.11->pmdarima) (0.5.1)\n"
          ],
          "name": "stdout"
        }
      ]
    },
    {
      "cell_type": "code",
      "metadata": {
        "id": "MFrw5wAYWehp"
      },
      "source": [
        "import numpy as np\n",
        "import pandas as pd\n",
        "import matplotlib.pyplot as plt\n",
        "import pmdarima as pm\n",
        "from statsmodels.tsa.seasonal import seasonal_decompose\n",
        "plt.style.use(\"seaborn-whitegrid\")"
      ],
      "execution_count": 2,
      "outputs": []
    },
    {
      "cell_type": "markdown",
      "metadata": {
        "id": "DosMOS7mWrit"
      },
      "source": [
        "## Load data"
      ]
    },
    {
      "cell_type": "code",
      "metadata": {
        "colab": {
          "base_uri": "https://localhost:8080/",
          "height": 450
        },
        "id": "Yu_Ka-QzWpPJ",
        "outputId": "3a963959-483e-43da-97f0-6a2e102388ba"
      },
      "source": [
        "data = pd.read_csv('https://raw.githubusercontent.com/selva86/datasets/master/a10.csv', parse_dates=['date'], index_col='date')\n",
        "data"
      ],
      "execution_count": 3,
      "outputs": [
        {
          "output_type": "execute_result",
          "data": {
            "text/html": [
              "<div>\n",
              "<style scoped>\n",
              "    .dataframe tbody tr th:only-of-type {\n",
              "        vertical-align: middle;\n",
              "    }\n",
              "\n",
              "    .dataframe tbody tr th {\n",
              "        vertical-align: top;\n",
              "    }\n",
              "\n",
              "    .dataframe thead th {\n",
              "        text-align: right;\n",
              "    }\n",
              "</style>\n",
              "<table border=\"1\" class=\"dataframe\">\n",
              "  <thead>\n",
              "    <tr style=\"text-align: right;\">\n",
              "      <th></th>\n",
              "      <th>value</th>\n",
              "    </tr>\n",
              "    <tr>\n",
              "      <th>date</th>\n",
              "      <th></th>\n",
              "    </tr>\n",
              "  </thead>\n",
              "  <tbody>\n",
              "    <tr>\n",
              "      <th>1991-07-01</th>\n",
              "      <td>3.526591</td>\n",
              "    </tr>\n",
              "    <tr>\n",
              "      <th>1991-08-01</th>\n",
              "      <td>3.180891</td>\n",
              "    </tr>\n",
              "    <tr>\n",
              "      <th>1991-09-01</th>\n",
              "      <td>3.252221</td>\n",
              "    </tr>\n",
              "    <tr>\n",
              "      <th>1991-10-01</th>\n",
              "      <td>3.611003</td>\n",
              "    </tr>\n",
              "    <tr>\n",
              "      <th>1991-11-01</th>\n",
              "      <td>3.565869</td>\n",
              "    </tr>\n",
              "    <tr>\n",
              "      <th>...</th>\n",
              "      <td>...</td>\n",
              "    </tr>\n",
              "    <tr>\n",
              "      <th>2008-02-01</th>\n",
              "      <td>21.654285</td>\n",
              "    </tr>\n",
              "    <tr>\n",
              "      <th>2008-03-01</th>\n",
              "      <td>18.264945</td>\n",
              "    </tr>\n",
              "    <tr>\n",
              "      <th>2008-04-01</th>\n",
              "      <td>23.107677</td>\n",
              "    </tr>\n",
              "    <tr>\n",
              "      <th>2008-05-01</th>\n",
              "      <td>22.912510</td>\n",
              "    </tr>\n",
              "    <tr>\n",
              "      <th>2008-06-01</th>\n",
              "      <td>19.431740</td>\n",
              "    </tr>\n",
              "  </tbody>\n",
              "</table>\n",
              "<p>204 rows × 1 columns</p>\n",
              "</div>"
            ],
            "text/plain": [
              "                value\n",
              "date                 \n",
              "1991-07-01   3.526591\n",
              "1991-08-01   3.180891\n",
              "1991-09-01   3.252221\n",
              "1991-10-01   3.611003\n",
              "1991-11-01   3.565869\n",
              "...               ...\n",
              "2008-02-01  21.654285\n",
              "2008-03-01  18.264945\n",
              "2008-04-01  23.107677\n",
              "2008-05-01  22.912510\n",
              "2008-06-01  19.431740\n",
              "\n",
              "[204 rows x 1 columns]"
            ]
          },
          "metadata": {
            "tags": []
          },
          "execution_count": 3
        }
      ]
    },
    {
      "cell_type": "markdown",
      "metadata": {
        "id": "XwFvWB0mXEnF"
      },
      "source": [
        "## Plot time series"
      ]
    },
    {
      "cell_type": "code",
      "metadata": {
        "id": "dWgAfHNhXGcb"
      },
      "source": [
        "def plot_time_series(df, x, y, title=\"\", xlabel=\"\", ylabel=\"\", color=\"\"):\n",
        "  plt.figure(figsize=(16,8))\n",
        "  plt.plot(x, y, color=color)\n",
        "  plt.title(title, fontsize=18)\n",
        "  plt.xlabel(xlabel, fontsize=18)\n",
        "  plt.ylabel(ylabel, fontsize=18)\n",
        "  plt.show()"
      ],
      "execution_count": 4,
      "outputs": []
    },
    {
      "cell_type": "code",
      "metadata": {
        "colab": {
          "base_uri": "https://localhost:8080/",
          "height": 519
        },
        "id": "2nANfYxfXGCs",
        "outputId": "2242b3f0-a763-4659-e98c-383d25e3f558"
      },
      "source": [
        "plot_time_series(data, x=data.index, y=data.loc[:, \"value\"], title=\"Monthly Sales Numbers (1991-2008)\", xlabel=\"Date\", ylabel=\"Value\", color=\"blue\")"
      ],
      "execution_count": 5,
      "outputs": [
        {
          "output_type": "display_data",
          "data": {
            "image/png": "[encoded data removed]",
            "text/plain": [
              "<Figure size 1152x576 with 1 Axes>"
            ]
          },
          "metadata": {
            "tags": []
          }
        }
      ]
    },
    {
      "cell_type": "markdown",
      "metadata": {
        "id": "wJl3ltR_Wx_v"
      },
      "source": [
        "## Compute seasonal index\n",
        "\n",
        "Let’s compute the seasonal index so that it can be forced as a (exogenous) predictor to the SARIMAX model."
      ]
    },
    {
      "cell_type": "code",
      "metadata": {
        "colab": {
          "base_uri": "https://localhost:8080/"
        },
        "id": "hlAlBNR5WuoB",
        "outputId": "18db83e7-6884-4d4d-ef06-ea3e0c149399"
      },
      "source": [
        "# multiplicative seasonal component\n",
        "result_mul = seasonal_decompose(data['value'][-36:],   # 3 years\n",
        "                                model='multiplicative', \n",
        "                                extrapolate_trend='freq')\n",
        "result_mul.seasonal"
      ],
      "execution_count": 6,
      "outputs": [
        {
          "output_type": "execute_result",
          "data": {
            "text/plain": [
              "date\n",
              "2005-07-01    0.970490\n",
              "2005-08-01    1.050900\n",
              "2005-09-01    0.998881\n",
              "2005-10-01    1.059657\n",
              "2005-11-01    1.146141\n",
              "2005-12-01    1.150750\n",
              "2006-01-01    1.316913\n",
              "2006-02-01    0.803279\n",
              "2006-03-01    0.850667\n",
              "2006-04-01    0.832227\n",
              "2006-05-01    0.954751\n",
              "2006-06-01    0.865344\n",
              "2006-07-01    0.970490\n",
              "2006-08-01    1.050900\n",
              "2006-09-01    0.998881\n",
              "2006-10-01    1.059657\n",
              "2006-11-01    1.146141\n",
              "2006-12-01    1.150750\n",
              "2007-01-01    1.316913\n",
              "2007-02-01    0.803279\n",
              "2007-03-01    0.850667\n",
              "2007-04-01    0.832227\n",
              "2007-05-01    0.954751\n",
              "2007-06-01    0.865344\n",
              "2007-07-01    0.970490\n",
              "2007-08-01    1.050900\n",
              "2007-09-01    0.998881\n",
              "2007-10-01    1.059657\n",
              "2007-11-01    1.146141\n",
              "2007-12-01    1.150750\n",
              "2008-01-01    1.316913\n",
              "2008-02-01    0.803279\n",
              "2008-03-01    0.850667\n",
              "2008-04-01    0.832227\n",
              "2008-05-01    0.954751\n",
              "2008-06-01    0.865344\n",
              "Name: seasonal, dtype: float64"
            ]
          },
          "metadata": {
            "tags": []
          },
          "execution_count": 6
        }
      ]
    },
    {
      "cell_type": "code",
      "metadata": {
        "colab": {
          "base_uri": "https://localhost:8080/",
          "height": 452
        },
        "id": "4haqhELtYNo_",
        "outputId": "1794aead-0c12-4c47-a70d-6160b7495de5"
      },
      "source": [
        "# seasonal index\n",
        "seasonal_index = result_mul.seasonal[-12:].to_frame()\n",
        "seasonal_index['month'] = pd.to_datetime(seasonal_index.index).month\n",
        "seasonal_index"
      ],
      "execution_count": 7,
      "outputs": [
        {
          "output_type": "execute_result",
          "data": {
            "text/html": [
              "<div>\n",
              "<style scoped>\n",
              "    .dataframe tbody tr th:only-of-type {\n",
              "        vertical-align: middle;\n",
              "    }\n",
              "\n",
              "    .dataframe tbody tr th {\n",
              "        vertical-align: top;\n",
              "    }\n",
              "\n",
              "    .dataframe thead th {\n",
              "        text-align: right;\n",
              "    }\n",
              "</style>\n",
              "<table border=\"1\" class=\"dataframe\">\n",
              "  <thead>\n",
              "    <tr style=\"text-align: right;\">\n",
              "      <th></th>\n",
              "      <th>seasonal</th>\n",
              "      <th>month</th>\n",
              "    </tr>\n",
              "    <tr>\n",
              "      <th>date</th>\n",
              "      <th></th>\n",
              "      <th></th>\n",
              "    </tr>\n",
              "  </thead>\n",
              "  <tbody>\n",
              "    <tr>\n",
              "      <th>2007-07-01</th>\n",
              "      <td>0.970490</td>\n",
              "      <td>7</td>\n",
              "    </tr>\n",
              "    <tr>\n",
              "      <th>2007-08-01</th>\n",
              "      <td>1.050900</td>\n",
              "      <td>8</td>\n",
              "    </tr>\n",
              "    <tr>\n",
              "      <th>2007-09-01</th>\n",
              "      <td>0.998881</td>\n",
              "      <td>9</td>\n",
              "    </tr>\n",
              "    <tr>\n",
              "      <th>2007-10-01</th>\n",
              "      <td>1.059657</td>\n",
              "      <td>10</td>\n",
              "    </tr>\n",
              "    <tr>\n",
              "      <th>2007-11-01</th>\n",
              "      <td>1.146141</td>\n",
              "      <td>11</td>\n",
              "    </tr>\n",
              "    <tr>\n",
              "      <th>2007-12-01</th>\n",
              "      <td>1.150750</td>\n",
              "      <td>12</td>\n",
              "    </tr>\n",
              "    <tr>\n",
              "      <th>2008-01-01</th>\n",
              "      <td>1.316913</td>\n",
              "      <td>1</td>\n",
              "    </tr>\n",
              "    <tr>\n",
              "      <th>2008-02-01</th>\n",
              "      <td>0.803279</td>\n",
              "      <td>2</td>\n",
              "    </tr>\n",
              "    <tr>\n",
              "      <th>2008-03-01</th>\n",
              "      <td>0.850667</td>\n",
              "      <td>3</td>\n",
              "    </tr>\n",
              "    <tr>\n",
              "      <th>2008-04-01</th>\n",
              "      <td>0.832227</td>\n",
              "      <td>4</td>\n",
              "    </tr>\n",
              "    <tr>\n",
              "      <th>2008-05-01</th>\n",
              "      <td>0.954751</td>\n",
              "      <td>5</td>\n",
              "    </tr>\n",
              "    <tr>\n",
              "      <th>2008-06-01</th>\n",
              "      <td>0.865344</td>\n",
              "      <td>6</td>\n",
              "    </tr>\n",
              "  </tbody>\n",
              "</table>\n",
              "</div>"
            ],
            "text/plain": [
              "            seasonal  month\n",
              "date                       \n",
              "2007-07-01  0.970490      7\n",
              "2007-08-01  1.050900      8\n",
              "2007-09-01  0.998881      9\n",
              "2007-10-01  1.059657     10\n",
              "2007-11-01  1.146141     11\n",
              "2007-12-01  1.150750     12\n",
              "2008-01-01  1.316913      1\n",
              "2008-02-01  0.803279      2\n",
              "2008-03-01  0.850667      3\n",
              "2008-04-01  0.832227      4\n",
              "2008-05-01  0.954751      5\n",
              "2008-06-01  0.865344      6"
            ]
          },
          "metadata": {
            "tags": []
          },
          "execution_count": 7
        }
      ]
    },
    {
      "cell_type": "code",
      "metadata": {
        "colab": {
          "base_uri": "https://localhost:8080/",
          "height": 450
        },
        "id": "8glJdfYVXrY2",
        "outputId": "0ad55441-a834-4032-f5c7-4c8c3bc4acde"
      },
      "source": [
        "# merge with the base data\n",
        "data['month'] = data.index.month\n",
        "df = pd.merge(data, seasonal_index, how='left', on='month')\n",
        "df.columns = ['value', 'month', 'seasonal_index']\n",
        "df.index = data.index  # reassign the index.\n",
        "df"
      ],
      "execution_count": 8,
      "outputs": [
        {
          "output_type": "execute_result",
          "data": {
            "text/html": [
              "<div>\n",
              "<style scoped>\n",
              "    .dataframe tbody tr th:only-of-type {\n",
              "        vertical-align: middle;\n",
              "    }\n",
              "\n",
              "    .dataframe tbody tr th {\n",
              "        vertical-align: top;\n",
              "    }\n",
              "\n",
              "    .dataframe thead th {\n",
              "        text-align: right;\n",
              "    }\n",
              "</style>\n",
              "<table border=\"1\" class=\"dataframe\">\n",
              "  <thead>\n",
              "    <tr style=\"text-align: right;\">\n",
              "      <th></th>\n",
              "      <th>value</th>\n",
              "      <th>month</th>\n",
              "      <th>seasonal_index</th>\n",
              "    </tr>\n",
              "    <tr>\n",
              "      <th>date</th>\n",
              "      <th></th>\n",
              "      <th></th>\n",
              "      <th></th>\n",
              "    </tr>\n",
              "  </thead>\n",
              "  <tbody>\n",
              "    <tr>\n",
              "      <th>1991-07-01</th>\n",
              "      <td>3.526591</td>\n",
              "      <td>7</td>\n",
              "      <td>0.970490</td>\n",
              "    </tr>\n",
              "    <tr>\n",
              "      <th>1991-08-01</th>\n",
              "      <td>3.180891</td>\n",
              "      <td>8</td>\n",
              "      <td>1.050900</td>\n",
              "    </tr>\n",
              "    <tr>\n",
              "      <th>1991-09-01</th>\n",
              "      <td>3.252221</td>\n",
              "      <td>9</td>\n",
              "      <td>0.998881</td>\n",
              "    </tr>\n",
              "    <tr>\n",
              "      <th>1991-10-01</th>\n",
              "      <td>3.611003</td>\n",
              "      <td>10</td>\n",
              "      <td>1.059657</td>\n",
              "    </tr>\n",
              "    <tr>\n",
              "      <th>1991-11-01</th>\n",
              "      <td>3.565869</td>\n",
              "      <td>11</td>\n",
              "      <td>1.146141</td>\n",
              "    </tr>\n",
              "    <tr>\n",
              "      <th>...</th>\n",
              "      <td>...</td>\n",
              "      <td>...</td>\n",
              "      <td>...</td>\n",
              "    </tr>\n",
              "    <tr>\n",
              "      <th>2008-02-01</th>\n",
              "      <td>21.654285</td>\n",
              "      <td>2</td>\n",
              "      <td>0.803279</td>\n",
              "    </tr>\n",
              "    <tr>\n",
              "      <th>2008-03-01</th>\n",
              "      <td>18.264945</td>\n",
              "      <td>3</td>\n",
              "      <td>0.850667</td>\n",
              "    </tr>\n",
              "    <tr>\n",
              "      <th>2008-04-01</th>\n",
              "      <td>23.107677</td>\n",
              "      <td>4</td>\n",
              "      <td>0.832227</td>\n",
              "    </tr>\n",
              "    <tr>\n",
              "      <th>2008-05-01</th>\n",
              "      <td>22.912510</td>\n",
              "      <td>5</td>\n",
              "      <td>0.954751</td>\n",
              "    </tr>\n",
              "    <tr>\n",
              "      <th>2008-06-01</th>\n",
              "      <td>19.431740</td>\n",
              "      <td>6</td>\n",
              "      <td>0.865344</td>\n",
              "    </tr>\n",
              "  </tbody>\n",
              "</table>\n",
              "<p>204 rows × 3 columns</p>\n",
              "</div>"
            ],
            "text/plain": [
              "                value  month  seasonal_index\n",
              "date                                        \n",
              "1991-07-01   3.526591      7        0.970490\n",
              "1991-08-01   3.180891      8        1.050900\n",
              "1991-09-01   3.252221      9        0.998881\n",
              "1991-10-01   3.611003     10        1.059657\n",
              "1991-11-01   3.565869     11        1.146141\n",
              "...               ...    ...             ...\n",
              "2008-02-01  21.654285      2        0.803279\n",
              "2008-03-01  18.264945      3        0.850667\n",
              "2008-04-01  23.107677      4        0.832227\n",
              "2008-05-01  22.912510      5        0.954751\n",
              "2008-06-01  19.431740      6        0.865344\n",
              "\n",
              "[204 rows x 3 columns]"
            ]
          },
          "metadata": {
            "tags": []
          },
          "execution_count": 8
        }
      ]
    },
    {
      "cell_type": "code",
      "metadata": {
        "colab": {
          "base_uri": "https://localhost:8080/",
          "height": 452
        },
        "id": "I1BimYEAYkSs",
        "outputId": "07a64977-86ac-4230-a1c5-85684f01aa3c"
      },
      "source": [
        "df.iloc[0:12]"
      ],
      "execution_count": 9,
      "outputs": [
        {
          "output_type": "execute_result",
          "data": {
            "text/html": [
              "<div>\n",
              "<style scoped>\n",
              "    .dataframe tbody tr th:only-of-type {\n",
              "        vertical-align: middle;\n",
              "    }\n",
              "\n",
              "    .dataframe tbody tr th {\n",
              "        vertical-align: top;\n",
              "    }\n",
              "\n",
              "    .dataframe thead th {\n",
              "        text-align: right;\n",
              "    }\n",
              "</style>\n",
              "<table border=\"1\" class=\"dataframe\">\n",
              "  <thead>\n",
              "    <tr style=\"text-align: right;\">\n",
              "      <th></th>\n",
              "      <th>value</th>\n",
              "      <th>month</th>\n",
              "      <th>seasonal_index</th>\n",
              "    </tr>\n",
              "    <tr>\n",
              "      <th>date</th>\n",
              "      <th></th>\n",
              "      <th></th>\n",
              "      <th></th>\n",
              "    </tr>\n",
              "  </thead>\n",
              "  <tbody>\n",
              "    <tr>\n",
              "      <th>1991-07-01</th>\n",
              "      <td>3.526591</td>\n",
              "      <td>7</td>\n",
              "      <td>0.970490</td>\n",
              "    </tr>\n",
              "    <tr>\n",
              "      <th>1991-08-01</th>\n",
              "      <td>3.180891</td>\n",
              "      <td>8</td>\n",
              "      <td>1.050900</td>\n",
              "    </tr>\n",
              "    <tr>\n",
              "      <th>1991-09-01</th>\n",
              "      <td>3.252221</td>\n",
              "      <td>9</td>\n",
              "      <td>0.998881</td>\n",
              "    </tr>\n",
              "    <tr>\n",
              "      <th>1991-10-01</th>\n",
              "      <td>3.611003</td>\n",
              "      <td>10</td>\n",
              "      <td>1.059657</td>\n",
              "    </tr>\n",
              "    <tr>\n",
              "      <th>1991-11-01</th>\n",
              "      <td>3.565869</td>\n",
              "      <td>11</td>\n",
              "      <td>1.146141</td>\n",
              "    </tr>\n",
              "    <tr>\n",
              "      <th>1991-12-01</th>\n",
              "      <td>4.306371</td>\n",
              "      <td>12</td>\n",
              "      <td>1.150750</td>\n",
              "    </tr>\n",
              "    <tr>\n",
              "      <th>1992-01-01</th>\n",
              "      <td>5.088335</td>\n",
              "      <td>1</td>\n",
              "      <td>1.316913</td>\n",
              "    </tr>\n",
              "    <tr>\n",
              "      <th>1992-02-01</th>\n",
              "      <td>2.814520</td>\n",
              "      <td>2</td>\n",
              "      <td>0.803279</td>\n",
              "    </tr>\n",
              "    <tr>\n",
              "      <th>1992-03-01</th>\n",
              "      <td>2.985811</td>\n",
              "      <td>3</td>\n",
              "      <td>0.850667</td>\n",
              "    </tr>\n",
              "    <tr>\n",
              "      <th>1992-04-01</th>\n",
              "      <td>3.204780</td>\n",
              "      <td>4</td>\n",
              "      <td>0.832227</td>\n",
              "    </tr>\n",
              "    <tr>\n",
              "      <th>1992-05-01</th>\n",
              "      <td>3.127578</td>\n",
              "      <td>5</td>\n",
              "      <td>0.954751</td>\n",
              "    </tr>\n",
              "    <tr>\n",
              "      <th>1992-06-01</th>\n",
              "      <td>3.270523</td>\n",
              "      <td>6</td>\n",
              "      <td>0.865344</td>\n",
              "    </tr>\n",
              "  </tbody>\n",
              "</table>\n",
              "</div>"
            ],
            "text/plain": [
              "               value  month  seasonal_index\n",
              "date                                       \n",
              "1991-07-01  3.526591      7        0.970490\n",
              "1991-08-01  3.180891      8        1.050900\n",
              "1991-09-01  3.252221      9        0.998881\n",
              "1991-10-01  3.611003     10        1.059657\n",
              "1991-11-01  3.565869     11        1.146141\n",
              "1991-12-01  4.306371     12        1.150750\n",
              "1992-01-01  5.088335      1        1.316913\n",
              "1992-02-01  2.814520      2        0.803279\n",
              "1992-03-01  2.985811      3        0.850667\n",
              "1992-04-01  3.204780      4        0.832227\n",
              "1992-05-01  3.127578      5        0.954751\n",
              "1992-06-01  3.270523      6        0.865344"
            ]
          },
          "metadata": {
            "tags": []
          },
          "execution_count": 9
        }
      ]
    },
    {
      "cell_type": "code",
      "metadata": {
        "colab": {
          "base_uri": "https://localhost:8080/",
          "height": 452
        },
        "id": "q2tc6cwbZC4H",
        "outputId": "a4ad48ae-2cf8-4c95-dd46-02dd80a3e30a"
      },
      "source": [
        "df.iloc[12:24]"
      ],
      "execution_count": 10,
      "outputs": [
        {
          "output_type": "execute_result",
          "data": {
            "text/html": [
              "<div>\n",
              "<style scoped>\n",
              "    .dataframe tbody tr th:only-of-type {\n",
              "        vertical-align: middle;\n",
              "    }\n",
              "\n",
              "    .dataframe tbody tr th {\n",
              "        vertical-align: top;\n",
              "    }\n",
              "\n",
              "    .dataframe thead th {\n",
              "        text-align: right;\n",
              "    }\n",
              "</style>\n",
              "<table border=\"1\" class=\"dataframe\">\n",
              "  <thead>\n",
              "    <tr style=\"text-align: right;\">\n",
              "      <th></th>\n",
              "      <th>value</th>\n",
              "      <th>month</th>\n",
              "      <th>seasonal_index</th>\n",
              "    </tr>\n",
              "    <tr>\n",
              "      <th>date</th>\n",
              "      <th></th>\n",
              "      <th></th>\n",
              "      <th></th>\n",
              "    </tr>\n",
              "  </thead>\n",
              "  <tbody>\n",
              "    <tr>\n",
              "      <th>1992-07-01</th>\n",
              "      <td>3.737851</td>\n",
              "      <td>7</td>\n",
              "      <td>0.970490</td>\n",
              "    </tr>\n",
              "    <tr>\n",
              "      <th>1992-08-01</th>\n",
              "      <td>3.558776</td>\n",
              "      <td>8</td>\n",
              "      <td>1.050900</td>\n",
              "    </tr>\n",
              "    <tr>\n",
              "      <th>1992-09-01</th>\n",
              "      <td>3.777202</td>\n",
              "      <td>9</td>\n",
              "      <td>0.998881</td>\n",
              "    </tr>\n",
              "    <tr>\n",
              "      <th>1992-10-01</th>\n",
              "      <td>3.924490</td>\n",
              "      <td>10</td>\n",
              "      <td>1.059657</td>\n",
              "    </tr>\n",
              "    <tr>\n",
              "      <th>1992-11-01</th>\n",
              "      <td>4.386531</td>\n",
              "      <td>11</td>\n",
              "      <td>1.146141</td>\n",
              "    </tr>\n",
              "    <tr>\n",
              "      <th>1992-12-01</th>\n",
              "      <td>5.810549</td>\n",
              "      <td>12</td>\n",
              "      <td>1.150750</td>\n",
              "    </tr>\n",
              "    <tr>\n",
              "      <th>1993-01-01</th>\n",
              "      <td>6.192068</td>\n",
              "      <td>1</td>\n",
              "      <td>1.316913</td>\n",
              "    </tr>\n",
              "    <tr>\n",
              "      <th>1993-02-01</th>\n",
              "      <td>3.450857</td>\n",
              "      <td>2</td>\n",
              "      <td>0.803279</td>\n",
              "    </tr>\n",
              "    <tr>\n",
              "      <th>1993-03-01</th>\n",
              "      <td>3.772307</td>\n",
              "      <td>3</td>\n",
              "      <td>0.850667</td>\n",
              "    </tr>\n",
              "    <tr>\n",
              "      <th>1993-04-01</th>\n",
              "      <td>3.734303</td>\n",
              "      <td>4</td>\n",
              "      <td>0.832227</td>\n",
              "    </tr>\n",
              "    <tr>\n",
              "      <th>1993-05-01</th>\n",
              "      <td>3.905399</td>\n",
              "      <td>5</td>\n",
              "      <td>0.954751</td>\n",
              "    </tr>\n",
              "    <tr>\n",
              "      <th>1993-06-01</th>\n",
              "      <td>4.049687</td>\n",
              "      <td>6</td>\n",
              "      <td>0.865344</td>\n",
              "    </tr>\n",
              "  </tbody>\n",
              "</table>\n",
              "</div>"
            ],
            "text/plain": [
              "               value  month  seasonal_index\n",
              "date                                       \n",
              "1992-07-01  3.737851      7        0.970490\n",
              "1992-08-01  3.558776      8        1.050900\n",
              "1992-09-01  3.777202      9        0.998881\n",
              "1992-10-01  3.924490     10        1.059657\n",
              "1992-11-01  4.386531     11        1.146141\n",
              "1992-12-01  5.810549     12        1.150750\n",
              "1993-01-01  6.192068      1        1.316913\n",
              "1993-02-01  3.450857      2        0.803279\n",
              "1993-03-01  3.772307      3        0.850667\n",
              "1993-04-01  3.734303      4        0.832227\n",
              "1993-05-01  3.905399      5        0.954751\n",
              "1993-06-01  4.049687      6        0.865344"
            ]
          },
          "metadata": {
            "tags": []
          },
          "execution_count": 10
        }
      ]
    },
    {
      "cell_type": "markdown",
      "metadata": {
        "id": "oM4hh2HMZzEO"
      },
      "source": [
        "## Build SARIMAX Model\n",
        "\n",
        "The exogenous variable (seasonal index) is ready. Let’s build the SARIMAX model."
      ]
    },
    {
      "cell_type": "code",
      "metadata": {
        "colab": {
          "base_uri": "https://localhost:8080/",
          "height": 1000
        },
        "id": "pTYff8BcZFK_",
        "outputId": "6e458a7f-6880-4d36-f42c-8c404316d4ae"
      },
      "source": [
        "# SARIMAX Model\n",
        "sxmodel = pm.auto_arima(df[['value']], exogenous=df[['seasonal_index']],\n",
        "                           start_p=1, start_q=1,\n",
        "                           test='adf',\n",
        "                           max_p=3, max_q=3, m=12,\n",
        "                           start_P=0, seasonal=True,\n",
        "                           d=None, D=1, trace=True,\n",
        "                           error_action='ignore',  \n",
        "                           suppress_warnings=True, \n",
        "                           stepwise=True)\n",
        "\n",
        "sxmodel.summary()"
      ],
      "execution_count": 11,
      "outputs": [
        {
          "output_type": "stream",
          "text": [
            "Performing stepwise search to minimize aic\n",
            " ARIMA(1,0,1)(0,1,1)[12] intercept   : AIC=536.818, Time=1.84 sec\n",
            " ARIMA(0,0,0)(0,1,0)[12] intercept   : AIC=626.061, Time=0.06 sec\n",
            " ARIMA(1,0,0)(1,1,0)[12] intercept   : AIC=598.068, Time=0.60 sec\n",
            " ARIMA(0,0,1)(0,1,1)[12] intercept   : AIC=613.475, Time=0.43 sec\n",
            " ARIMA(0,0,0)(0,1,0)[12]             : AIC=759.274, Time=0.13 sec\n",
            " ARIMA(1,0,1)(0,1,0)[12] intercept   : AIC=561.407, Time=0.41 sec\n",
            " ARIMA(1,0,1)(1,1,1)[12] intercept   : AIC=inf, Time=2.60 sec\n",
            " ARIMA(1,0,1)(0,1,2)[12] intercept   : AIC=538.817, Time=4.05 sec\n",
            " ARIMA(1,0,1)(1,1,0)[12] intercept   : AIC=545.106, Time=1.54 sec\n",
            " ARIMA(1,0,1)(1,1,2)[12] intercept   : AIC=539.549, Time=5.53 sec\n",
            " ARIMA(1,0,0)(0,1,1)[12] intercept   : AIC=596.467, Time=0.44 sec\n",
            " ARIMA(2,0,1)(0,1,1)[12] intercept   : AIC=531.829, Time=1.50 sec\n",
            " ARIMA(2,0,1)(0,1,0)[12] intercept   : AIC=557.198, Time=0.48 sec\n",
            " ARIMA(2,0,1)(1,1,1)[12] intercept   : AIC=inf, Time=2.89 sec\n",
            " ARIMA(2,0,1)(0,1,2)[12] intercept   : AIC=533.168, Time=3.67 sec\n",
            " ARIMA(2,0,1)(1,1,0)[12] intercept   : AIC=536.757, Time=1.41 sec\n",
            " ARIMA(2,0,1)(1,1,2)[12] intercept   : AIC=525.816, Time=6.52 sec\n",
            " ARIMA(2,0,1)(2,1,2)[12] intercept   : AIC=535.034, Time=6.45 sec\n",
            " ARIMA(2,0,1)(2,1,1)[12] intercept   : AIC=533.829, Time=6.96 sec\n",
            " ARIMA(2,0,0)(1,1,2)[12] intercept   : AIC=547.610, Time=5.46 sec\n",
            " ARIMA(3,0,1)(1,1,2)[12] intercept   : AIC=inf, Time=7.00 sec\n",
            " ARIMA(2,0,2)(1,1,2)[12] intercept   : AIC=526.642, Time=8.67 sec\n",
            " ARIMA(1,0,0)(1,1,2)[12] intercept   : AIC=595.876, Time=3.39 sec\n",
            " ARIMA(1,0,2)(1,1,2)[12] intercept   : AIC=526.180, Time=7.33 sec\n",
            " ARIMA(3,0,0)(1,1,2)[12] intercept   : AIC=inf, Time=5.70 sec\n",
            " ARIMA(3,0,2)(1,1,2)[12] intercept   : AIC=inf, Time=9.18 sec\n",
            " ARIMA(2,0,1)(1,1,2)[12]             : AIC=524.352, Time=4.64 sec\n",
            " ARIMA(2,0,1)(0,1,2)[12]             : AIC=534.149, Time=2.70 sec\n",
            " ARIMA(2,0,1)(1,1,1)[12]             : AIC=inf, Time=2.89 sec\n",
            " ARIMA(2,0,1)(2,1,2)[12]             : AIC=inf, Time=6.54 sec\n",
            " ARIMA(2,0,1)(0,1,1)[12]             : AIC=532.961, Time=1.32 sec\n",
            " ARIMA(2,0,1)(2,1,1)[12]             : AIC=inf, Time=5.47 sec\n",
            " ARIMA(1,0,1)(1,1,2)[12]             : AIC=inf, Time=3.11 sec\n",
            " ARIMA(2,0,0)(1,1,2)[12]             : AIC=551.430, Time=2.56 sec\n",
            " ARIMA(3,0,1)(1,1,2)[12]             : AIC=inf, Time=5.66 sec\n",
            " ARIMA(2,0,2)(1,1,2)[12]             : AIC=526.295, Time=5.83 sec\n",
            " ARIMA(1,0,0)(1,1,2)[12]             : AIC=625.250, Time=2.13 sec\n",
            " ARIMA(1,0,2)(1,1,2)[12]             : AIC=526.136, Time=4.74 sec\n",
            " ARIMA(3,0,0)(1,1,2)[12]             : AIC=inf, Time=4.00 sec\n",
            " ARIMA(3,0,2)(1,1,2)[12]             : AIC=inf, Time=5.23 sec\n",
            "\n",
            "Best model:  ARIMA(2,0,1)(1,1,2)[12]          \n",
            "Total fit time: 151.145 seconds\n"
          ],
          "name": "stdout"
        },
        {
          "output_type": "execute_result",
          "data": {
            "text/html": [
              "<table class=\"simpletable\">\n",
              "<caption>SARIMAX Results</caption>\n",
              "<tr>\n",
              "  <th>Dep. Variable:</th>                    <td>y</td>                  <th>  No. Observations:  </th>    <td>204</td>  \n",
              "</tr>\n",
              "<tr>\n",
              "  <th>Model:</th>           <td>SARIMAX(2, 0, 1)x(1, 1, [1, 2], 12)</td> <th>  Log Likelihood     </th> <td>-254.176</td>\n",
              "</tr>\n",
              "<tr>\n",
              "  <th>Date:</th>                     <td>Wed, 18 Aug 2021</td>           <th>  AIC                </th>  <td>524.352</td>\n",
              "</tr>\n",
              "<tr>\n",
              "  <th>Time:</th>                         <td>09:02:13</td>               <th>  BIC                </th>  <td>550.412</td>\n",
              "</tr>\n",
              "<tr>\n",
              "  <th>Sample:</th>                      <td>07-01-1991</td>              <th>  HQIC               </th>  <td>534.907</td>\n",
              "</tr>\n",
              "<tr>\n",
              "  <th></th>                            <td>- 06-01-2008</td>             <th>                     </th>     <td> </td>   \n",
              "</tr>\n",
              "<tr>\n",
              "  <th>Covariance Type:</th>                 <td>opg</td>                 <th>                     </th>     <td> </td>   \n",
              "</tr>\n",
              "</table>\n",
              "<table class=\"simpletable\">\n",
              "<tr>\n",
              "         <td></td>           <th>coef</th>     <th>std err</th>      <th>z</th>      <th>P>|z|</th>  <th>[0.025</th>    <th>0.975]</th>  \n",
              "</tr>\n",
              "<tr>\n",
              "  <th>seasonal_index</th> <td> -8.82e-06</td> <td> 2.76e+04</td> <td> -3.2e-10</td> <td> 1.000</td> <td> -5.4e+04</td> <td>  5.4e+04</td>\n",
              "</tr>\n",
              "<tr>\n",
              "  <th>ar.L1</th>          <td>    0.6750</td> <td>    0.069</td> <td>    9.744</td> <td> 0.000</td> <td>    0.539</td> <td>    0.811</td>\n",
              "</tr>\n",
              "<tr>\n",
              "  <th>ar.L2</th>          <td>    0.3149</td> <td>    0.064</td> <td>    4.923</td> <td> 0.000</td> <td>    0.190</td> <td>    0.440</td>\n",
              "</tr>\n",
              "<tr>\n",
              "  <th>ma.L1</th>          <td>   -0.6390</td> <td>    0.063</td> <td>  -10.124</td> <td> 0.000</td> <td>   -0.763</td> <td>   -0.515</td>\n",
              "</tr>\n",
              "<tr>\n",
              "  <th>ar.S.L12</th>       <td>    0.8484</td> <td>    0.152</td> <td>    5.572</td> <td> 0.000</td> <td>    0.550</td> <td>    1.147</td>\n",
              "</tr>\n",
              "<tr>\n",
              "  <th>ma.S.L12</th>       <td>   -1.5857</td> <td>    0.174</td> <td>   -9.122</td> <td> 0.000</td> <td>   -1.926</td> <td>   -1.245</td>\n",
              "</tr>\n",
              "<tr>\n",
              "  <th>ma.S.L24</th>       <td>    0.7618</td> <td>    0.110</td> <td>    6.946</td> <td> 0.000</td> <td>    0.547</td> <td>    0.977</td>\n",
              "</tr>\n",
              "<tr>\n",
              "  <th>sigma2</th>         <td>    0.7455</td> <td>    0.068</td> <td>   10.924</td> <td> 0.000</td> <td>    0.612</td> <td>    0.879</td>\n",
              "</tr>\n",
              "</table>\n",
              "<table class=\"simpletable\">\n",
              "<tr>\n",
              "  <th>Ljung-Box (L1) (Q):</th>     <td>0.08</td>  <th>  Jarque-Bera (JB):  </th> <td>197.88</td>\n",
              "</tr>\n",
              "<tr>\n",
              "  <th>Prob(Q):</th>                <td>0.78</td>  <th>  Prob(JB):          </th>  <td>0.00</td> \n",
              "</tr>\n",
              "<tr>\n",
              "  <th>Heteroskedasticity (H):</th> <td>15.44</td> <th>  Skew:              </th>  <td>0.07</td> \n",
              "</tr>\n",
              "<tr>\n",
              "  <th>Prob(H) (two-sided):</th>    <td>0.00</td>  <th>  Kurtosis:          </th>  <td>7.97</td> \n",
              "</tr>\n",
              "</table><br/><br/>Warnings:<br/>[1] Covariance matrix calculated using the outer product of gradients (complex-step)."
            ],
            "text/plain": [
              "<class 'statsmodels.iolib.summary.Summary'>\n",
              "\"\"\"\n",
              "                                        SARIMAX Results                                        \n",
              "===============================================================================================\n",
              "Dep. Variable:                                       y   No. Observations:                  204\n",
              "Model:             SARIMAX(2, 0, 1)x(1, 1, [1, 2], 12)   Log Likelihood                -254.176\n",
              "Date:                                 Wed, 18 Aug 2021   AIC                            524.352\n",
              "Time:                                         09:02:13   BIC                            550.412\n",
              "Sample:                                     07-01-1991   HQIC                           534.907\n",
              "                                          - 06-01-2008                                         \n",
              "Covariance Type:                                   opg                                         \n",
              "==================================================================================\n",
              "                     coef    std err          z      P>|z|      [0.025      0.975]\n",
              "----------------------------------------------------------------------------------\n",
              "seasonal_index  -8.82e-06   2.76e+04   -3.2e-10      1.000    -5.4e+04     5.4e+04\n",
              "ar.L1              0.6750      0.069      9.744      0.000       0.539       0.811\n",
              "ar.L2              0.3149      0.064      4.923      0.000       0.190       0.440\n",
              "ma.L1             -0.6390      0.063    -10.124      0.000      -0.763      -0.515\n",
              "ar.S.L12           0.8484      0.152      5.572      0.000       0.550       1.147\n",
              "ma.S.L12          -1.5857      0.174     -9.122      0.000      -1.926      -1.245\n",
              "ma.S.L24           0.7618      0.110      6.946      0.000       0.547       0.977\n",
              "sigma2             0.7455      0.068     10.924      0.000       0.612       0.879\n",
              "===================================================================================\n",
              "Ljung-Box (L1) (Q):                   0.08   Jarque-Bera (JB):               197.88\n",
              "Prob(Q):                              0.78   Prob(JB):                         0.00\n",
              "Heteroskedasticity (H):              15.44   Skew:                             0.07\n",
              "Prob(H) (two-sided):                  0.00   Kurtosis:                         7.97\n",
              "===================================================================================\n",
              "\n",
              "Warnings:\n",
              "[1] Covariance matrix calculated using the outer product of gradients (complex-step).\n",
              "\"\"\""
            ]
          },
          "metadata": {
            "tags": []
          },
          "execution_count": 11
        }
      ]
    },
    {
      "cell_type": "markdown",
      "metadata": {
        "id": "y3Kdg3iZcI_1"
      },
      "source": [
        "We have effectively forced the latest seasonal effect of the latest 3 years into the model instead of the entire history.\n",
        "\n",
        "Alright let’s forecast into the next 24 months. For this, you need the value of the seasonal index for the next 24 months."
      ]
    },
    {
      "cell_type": "markdown",
      "metadata": {
        "id": "UQjZ19CdcM9Y"
      },
      "source": [
        "## Forecast"
      ]
    },
    {
      "cell_type": "code",
      "metadata": {
        "id": "WvIMmde2Z-Lg"
      },
      "source": [
        "# Forecast\n",
        "n_periods = 24\n",
        "fitted, confint = sxmodel.predict(n_periods=n_periods, \n",
        "                                  exogenous=np.tile(seasonal_index.seasonal, 2).reshape(-1,1), \n",
        "                                  return_conf_int=True)\n",
        "\n",
        "index_of_fc = pd.date_range(data.index[-1], periods = n_periods, freq='MS')"
      ],
      "execution_count": 12,
      "outputs": []
    },
    {
      "cell_type": "code",
      "metadata": {
        "id": "NImwrEXXcRPt"
      },
      "source": [
        "# make series for plotting purpose\n",
        "fitted_series = pd.Series(fitted, index=index_of_fc)\n",
        "lower_series = pd.Series(confint[:, 0], index=index_of_fc)\n",
        "upper_series = pd.Series(confint[:, 1], index=index_of_fc)"
      ],
      "execution_count": 13,
      "outputs": []
    },
    {
      "cell_type": "code",
      "metadata": {
        "colab": {
          "base_uri": "https://localhost:8080/",
          "height": 608
        },
        "id": "V8rhFnX5cQin",
        "outputId": "b9fcc837-e21d-4b39-f37f-9bfa60805a81"
      },
      "source": [
        "# Plot\n",
        "plt.figure(figsize=(17,10))\n",
        "plt.plot(data['value'], label=\"past values\")\n",
        "plt.plot(fitted_series, color='darkgreen', label=\"forecast\")\n",
        "plt.fill_between(lower_series.index, \n",
        "                 lower_series, \n",
        "                 upper_series, \n",
        "                 color='k', alpha=.15, label=\"confidence interval\")\n",
        "\n",
        "plt.title(\"SARIMAX Forecast of a10 - Drug Sales\")\n",
        "plt.legend(loc='upper left', fontsize=16)\n",
        "plt.xticks(fontsize=16)\n",
        "plt.yticks(fontsize=16)\n",
        "plt.show()"
      ],
      "execution_count": 14,
      "outputs": [
        {
          "output_type": "display_data",
          "data": {
            "image/png": "[encoded data removed]",
            "text/plain": [
              "<Figure size 1224x720 with 1 Axes>"
            ]
          },
          "metadata": {
            "tags": []
          }
        }
      ]
    },
    {
      "cell_type": "code",
      "metadata": {
        "id": "4Ot6MQv4c_w8"
      },
      "source": [
        ""
      ],
      "execution_count": 15,
      "outputs": []
    }
  ]
}
