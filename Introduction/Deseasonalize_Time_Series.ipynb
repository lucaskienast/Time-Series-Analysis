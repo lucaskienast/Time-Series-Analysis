{
  "nbformat": 4,
  "nbformat_minor": 0,
  "metadata": {
    "colab": {
      "name": "Deseasonalize Time Series.ipynb",
      "provenance": [],
      "collapsed_sections": [],
      "authorship_tag": "ABX9TyNc5IOnTFFUDixx/dNDcbeu"
    },
    "kernelspec": {
      "name": "python3",
      "display_name": "Python 3"
    },
    "language_info": {
      "name": "python"
    }
  },
  "cells": [
    {
      "cell_type": "markdown",
      "metadata": {
        "id": "I4t4ZSXMRfEB"
      },
      "source": [
        "# Deseasonalize Times Series\n",
        "\n",
        "(Sourced from: https://www.machinelearningplus.com/time-series/time-series-analysis-python/)\n",
        "\n",
        "Deseasonalizing a time series means to remove the seasonality component from a time series.\n",
        "\n",
        "Approaches:\n",
        "\n",
        "- take a moving average with length as the seasonal window (this will smoothen the series).\n",
        "- seasonal difference the time series (subtract the value of the previous season from the current value)\n",
        "- divide the series by the seasonal index obtained from STL decomposition (seasonal and trend decomposition using Loess). If dividing by the seasonal index does not work well, try taking a log of the series and then do the deseasonalizing. You can later restore to the original scale by taking an exponential.\n",
        "\n"
      ]
    },
    {
      "cell_type": "markdown",
      "metadata": {
        "id": "NDyb2y2mWmcn"
      },
      "source": [
        "## Division by seasonal index"
      ]
    },
    {
      "cell_type": "code",
      "metadata": {
        "colab": {
          "base_uri": "https://localhost:8080/"
        },
        "id": "SInvKHfMRcQL",
        "executionInfo": {
          "status": "ok",
          "timestamp": 1629124165890,
          "user_tz": -120,
          "elapsed": 484,
          "user": {
            "displayName": "Max Lucas Kienast",
            "photoUrl": "",
            "userId": "18136220580306165387"
          }
        },
        "outputId": "ff861468-2780-41c4-b53a-5fcc0f80e788"
      },
      "source": [
        "# import libraries\n",
        "import numpy as np\n",
        "import pandas as pd\n",
        "import matplotlib.pyplot as plt\n",
        "from statsmodels.tsa.seasonal import seasonal_decompose"
      ],
      "execution_count": 1,
      "outputs": [
        {
          "output_type": "stream",
          "text": [
            "/usr/local/lib/python3.7/dist-packages/statsmodels/tools/_testing.py:19: FutureWarning: pandas.util.testing is deprecated. Use the functions in the public API at pandas.testing instead.\n",
            "  import pandas.util.testing as tm\n"
          ],
          "name": "stderr"
        }
      ]
    },
    {
      "cell_type": "code",
      "metadata": {
        "colab": {
          "base_uri": "https://localhost:8080/",
          "height": 450
        },
        "id": "6w3qdAF0SobI",
        "executionInfo": {
          "status": "ok",
          "timestamp": 1629124166214,
          "user_tz": -120,
          "elapsed": 327,
          "user": {
            "displayName": "Max Lucas Kienast",
            "photoUrl": "",
            "userId": "18136220580306165387"
          }
        },
        "outputId": "38cbbf2d-b1ed-40b8-83b3-74f08f78945a"
      },
      "source": [
        "# load data\n",
        "url = \"https://raw.githubusercontent.com/selva86/datasets/master/a10.csv\"\n",
        "df = pd.read_csv(url, parse_dates=[\"date\"], index_col=\"date\")\n",
        "df"
      ],
      "execution_count": 2,
      "outputs": [
        {
          "output_type": "execute_result",
          "data": {
            "text/html": [
              "<div>\n",
              "<style scoped>\n",
              "    .dataframe tbody tr th:only-of-type {\n",
              "        vertical-align: middle;\n",
              "    }\n",
              "\n",
              "    .dataframe tbody tr th {\n",
              "        vertical-align: top;\n",
              "    }\n",
              "\n",
              "    .dataframe thead th {\n",
              "        text-align: right;\n",
              "    }\n",
              "</style>\n",
              "<table border=\"1\" class=\"dataframe\">\n",
              "  <thead>\n",
              "    <tr style=\"text-align: right;\">\n",
              "      <th></th>\n",
              "      <th>value</th>\n",
              "    </tr>\n",
              "    <tr>\n",
              "      <th>date</th>\n",
              "      <th></th>\n",
              "    </tr>\n",
              "  </thead>\n",
              "  <tbody>\n",
              "    <tr>\n",
              "      <th>1991-07-01</th>\n",
              "      <td>3.526591</td>\n",
              "    </tr>\n",
              "    <tr>\n",
              "      <th>1991-08-01</th>\n",
              "      <td>3.180891</td>\n",
              "    </tr>\n",
              "    <tr>\n",
              "      <th>1991-09-01</th>\n",
              "      <td>3.252221</td>\n",
              "    </tr>\n",
              "    <tr>\n",
              "      <th>1991-10-01</th>\n",
              "      <td>3.611003</td>\n",
              "    </tr>\n",
              "    <tr>\n",
              "      <th>1991-11-01</th>\n",
              "      <td>3.565869</td>\n",
              "    </tr>\n",
              "    <tr>\n",
              "      <th>...</th>\n",
              "      <td>...</td>\n",
              "    </tr>\n",
              "    <tr>\n",
              "      <th>2008-02-01</th>\n",
              "      <td>21.654285</td>\n",
              "    </tr>\n",
              "    <tr>\n",
              "      <th>2008-03-01</th>\n",
              "      <td>18.264945</td>\n",
              "    </tr>\n",
              "    <tr>\n",
              "      <th>2008-04-01</th>\n",
              "      <td>23.107677</td>\n",
              "    </tr>\n",
              "    <tr>\n",
              "      <th>2008-05-01</th>\n",
              "      <td>22.912510</td>\n",
              "    </tr>\n",
              "    <tr>\n",
              "      <th>2008-06-01</th>\n",
              "      <td>19.431740</td>\n",
              "    </tr>\n",
              "  </tbody>\n",
              "</table>\n",
              "<p>204 rows × 1 columns</p>\n",
              "</div>"
            ],
            "text/plain": [
              "                value\n",
              "date                 \n",
              "1991-07-01   3.526591\n",
              "1991-08-01   3.180891\n",
              "1991-09-01   3.252221\n",
              "1991-10-01   3.611003\n",
              "1991-11-01   3.565869\n",
              "...               ...\n",
              "2008-02-01  21.654285\n",
              "2008-03-01  18.264945\n",
              "2008-04-01  23.107677\n",
              "2008-05-01  22.912510\n",
              "2008-06-01  19.431740\n",
              "\n",
              "[204 rows x 1 columns]"
            ]
          },
          "metadata": {
            "tags": []
          },
          "execution_count": 2
        }
      ]
    },
    {
      "cell_type": "code",
      "metadata": {
        "colab": {
          "base_uri": "https://localhost:8080/"
        },
        "id": "rXmlwRQPSzJH",
        "executionInfo": {
          "status": "ok",
          "timestamp": 1629124166215,
          "user_tz": -120,
          "elapsed": 8,
          "user": {
            "displayName": "Max Lucas Kienast",
            "photoUrl": "",
            "userId": "18136220580306165387"
          }
        },
        "outputId": "cd23ef2e-1266-41ed-962f-d734b56e34a2"
      },
      "source": [
        "# time series decomposition\n",
        "multi_decomp = seasonal_decompose(df.loc[:, \"value\"], model=\"multiplicative\", extrapolate_trend=\"freq\")\n",
        "multi_decomp.seasonal"
      ],
      "execution_count": 3,
      "outputs": [
        {
          "output_type": "execute_result",
          "data": {
            "text/plain": [
              "date\n",
              "1991-07-01    0.987845\n",
              "1991-08-01    0.990481\n",
              "1991-09-01    0.987476\n",
              "1991-10-01    1.048329\n",
              "1991-11-01    1.074527\n",
              "                ...   \n",
              "2008-02-01    0.785976\n",
              "2008-03-01    0.868249\n",
              "2008-04-01    0.861883\n",
              "2008-05-01    0.931613\n",
              "2008-06-01    0.907423\n",
              "Name: value, Length: 204, dtype: float64"
            ]
          },
          "metadata": {
            "tags": []
          },
          "execution_count": 3
        }
      ]
    },
    {
      "cell_type": "code",
      "metadata": {
        "colab": {
          "base_uri": "https://localhost:8080/"
        },
        "id": "-Oki3vEXS6gv",
        "executionInfo": {
          "status": "ok",
          "timestamp": 1629124166216,
          "user_tz": -120,
          "elapsed": 7,
          "user": {
            "displayName": "Max Lucas Kienast",
            "photoUrl": "",
            "userId": "18136220580306165387"
          }
        },
        "outputId": "b819b41d-6e4b-4b90-d5df-5ea3fd7b82ed"
      },
      "source": [
        "# deseasonalize\n",
        "deseasonalized_series = df.loc[:, \"value\"] / multi_decomp.seasonal\n",
        "deseasonalized_series"
      ],
      "execution_count": 4,
      "outputs": [
        {
          "output_type": "execute_result",
          "data": {
            "text/plain": [
              "date\n",
              "1991-07-01     3.569985\n",
              "1991-08-01     3.211461\n",
              "1991-09-01     3.293470\n",
              "1991-10-01     3.444533\n",
              "1991-11-01     3.318548\n",
              "                ...    \n",
              "2008-02-01    27.550814\n",
              "2008-03-01    21.036534\n",
              "2008-04-01    26.810702\n",
              "2008-05-01    24.594452\n",
              "2008-06-01    21.414195\n",
              "Name: value, Length: 204, dtype: float64"
            ]
          },
          "metadata": {
            "tags": []
          },
          "execution_count": 4
        }
      ]
    },
    {
      "cell_type": "code",
      "metadata": {
        "colab": {
          "base_uri": "https://localhost:8080/",
          "height": 404
        },
        "id": "hE_R2wyBTHbY",
        "executionInfo": {
          "status": "ok",
          "timestamp": 1629124167141,
          "user_tz": -120,
          "elapsed": 930,
          "user": {
            "displayName": "Max Lucas Kienast",
            "photoUrl": "",
            "userId": "18136220580306165387"
          }
        },
        "outputId": "2e1e26cb-6d0c-475e-9778-611f4202d613"
      },
      "source": [
        "# plot original next to deseasonalized time series\n",
        "fig, axes = plt.subplots(nrows=1, ncols=2, figsize=(18, 6))\n",
        "\n",
        "axes[0].set_title(\"Original Drug Sales Time Series\")\n",
        "axes[0].set_xlabel('Date')\n",
        "axes[0].set_ylabel('Values')\n",
        "axes[0].plot(df.index, df.loc[:, \"value\"])\n",
        "\n",
        "axes[1].set_title(\"Drug deseasonalized by division with seasonal index\")\n",
        "axes[1].set_xlabel('Date')\n",
        "axes[1].set_ylabel('Deseasonalized Values')\n",
        "axes[1].plot(df.index, deseasonalized_series)\n",
        "\n",
        "plt.show()"
      ],
      "execution_count": 5,
      "outputs": [
        {
          "output_type": "display_data",
          "data": {
            "image/png": "[encoded data removed]",
            "text/plain": [
              "<Figure size 1296x432 with 2 Axes>"
            ]
          },
          "metadata": {
            "tags": [],
            "needs_background": "light"
          }
        }
      ]
    },
    {
      "cell_type": "code",
      "metadata": {
        "id": "MfLcvz_xTbcv",
        "executionInfo": {
          "status": "ok",
          "timestamp": 1629124167142,
          "user_tz": -120,
          "elapsed": 5,
          "user": {
            "displayName": "Max Lucas Kienast",
            "photoUrl": "",
            "userId": "18136220580306165387"
          }
        }
      },
      "source": [
        ""
      ],
      "execution_count": 5,
      "outputs": []
    }
  ]
}
