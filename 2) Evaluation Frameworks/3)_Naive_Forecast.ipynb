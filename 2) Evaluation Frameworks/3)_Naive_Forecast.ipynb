{
  "nbformat": 4,
  "nbformat_minor": 0,
  "metadata": {
    "colab": {
      "name": "3) Naive Forecast.ipynb",
      "provenance": [],
      "collapsed_sections": [],
      "authorship_tag": "ABX9TyMPpALkv3imRkTwX/x3o0yf"
    },
    "kernelspec": {
      "name": "python3",
      "display_name": "Python 3"
    },
    "language_info": {
      "name": "python"
    }
  },
  "cells": [
    {
      "cell_type": "markdown",
      "metadata": {
        "id": "Ykmc7OBjGRkz"
      },
      "source": [
        "# Evaluation Framework: Naive Forecast\n",
        "\n",
        "Let’s establish a baseline forecast performance which we can use as a point of reference while evaluating the performance of different techniques. We can improve the model if its accuracy is as at par or below the baseline, in case we fail to achieve the desired accuracy, we can explore other techniques.\n",
        "\n",
        "\n",
        "The most common baseline method for time series forecasting is the Naive forecast, this is simply the latest value of the series that is available at the time of prediction. The naive algorithm uses the value at the current time step (t) to predict the expected outcome at the next time step (t+1)."
      ]
    },
    {
      "cell_type": "markdown",
      "metadata": {
        "id": "apkz6ZVgIIK8"
      },
      "source": [
        "## Import libraries"
      ]
    },
    {
      "cell_type": "code",
      "metadata": {
        "id": "yGlHWURIGNDZ",
        "executionInfo": {
          "status": "ok",
          "timestamp": 1629451090985,
          "user_tz": -120,
          "elapsed": 358,
          "user": {
            "displayName": "Max Lucas Kienast",
            "photoUrl": "",
            "userId": "18136220580306165387"
          }
        }
      },
      "source": [
        "import numpy as np\n",
        "import pandas as pd\n",
        "import matplotlib.pyplot as plt\n",
        "plt.style.use(\"seaborn-whitegrid\")"
      ],
      "execution_count": 1,
      "outputs": []
    },
    {
      "cell_type": "markdown",
      "metadata": {
        "id": "Vj28dsUZIXwv"
      },
      "source": [
        "## Reframe time series data as supervised learning dataset\n",
        "\n",
        "Let's transform our ‘airline-passengers’ dataset into a supervised learning problem, we can achieve this by creating a lag feature. In this transformed dataset, values at (t) are predictors (X) and values at (t+1) are the target variable (Y)."
      ]
    },
    {
      "cell_type": "code",
      "metadata": {
        "colab": {
          "base_uri": "https://localhost:8080/",
          "height": 204
        },
        "id": "AgNeSLZbIV-M",
        "executionInfo": {
          "status": "ok",
          "timestamp": 1629451091368,
          "user_tz": -120,
          "elapsed": 12,
          "user": {
            "displayName": "Max Lucas Kienast",
            "photoUrl": "",
            "userId": "18136220580306165387"
          }
        },
        "outputId": "4deaeadf-c339-4d73-8ce4-7caf1d251b7d"
      },
      "source": [
        "# load data\n",
        "url = \"https://raw.githubusercontent.com/jbrownlee/Datasets/master/airline-passengers.csv\"\n",
        "raw_df = pd.read_csv(url, header=0, parse_dates=True)\n",
        "raw_df.head()"
      ],
      "execution_count": 2,
      "outputs": [
        {
          "output_type": "execute_result",
          "data": {
            "text/html": [
              "<div>\n",
              "<style scoped>\n",
              "    .dataframe tbody tr th:only-of-type {\n",
              "        vertical-align: middle;\n",
              "    }\n",
              "\n",
              "    .dataframe tbody tr th {\n",
              "        vertical-align: top;\n",
              "    }\n",
              "\n",
              "    .dataframe thead th {\n",
              "        text-align: right;\n",
              "    }\n",
              "</style>\n",
              "<table border=\"1\" class=\"dataframe\">\n",
              "  <thead>\n",
              "    <tr style=\"text-align: right;\">\n",
              "      <th></th>\n",
              "      <th>Month</th>\n",
              "      <th>Passengers</th>\n",
              "    </tr>\n",
              "  </thead>\n",
              "  <tbody>\n",
              "    <tr>\n",
              "      <th>0</th>\n",
              "      <td>1949-01</td>\n",
              "      <td>112</td>\n",
              "    </tr>\n",
              "    <tr>\n",
              "      <th>1</th>\n",
              "      <td>1949-02</td>\n",
              "      <td>118</td>\n",
              "    </tr>\n",
              "    <tr>\n",
              "      <th>2</th>\n",
              "      <td>1949-03</td>\n",
              "      <td>132</td>\n",
              "    </tr>\n",
              "    <tr>\n",
              "      <th>3</th>\n",
              "      <td>1949-04</td>\n",
              "      <td>129</td>\n",
              "    </tr>\n",
              "    <tr>\n",
              "      <th>4</th>\n",
              "      <td>1949-05</td>\n",
              "      <td>121</td>\n",
              "    </tr>\n",
              "  </tbody>\n",
              "</table>\n",
              "</div>"
            ],
            "text/plain": [
              "     Month  Passengers\n",
              "0  1949-01         112\n",
              "1  1949-02         118\n",
              "2  1949-03         132\n",
              "3  1949-04         129\n",
              "4  1949-05         121"
            ]
          },
          "metadata": {},
          "execution_count": 2
        }
      ]
    },
    {
      "cell_type": "code",
      "metadata": {
        "colab": {
          "base_uri": "https://localhost:8080/",
          "height": 979
        },
        "id": "Xh-KZfU-Ik7Y",
        "executionInfo": {
          "status": "ok",
          "timestamp": 1629451091368,
          "user_tz": -120,
          "elapsed": 10,
          "user": {
            "displayName": "Max Lucas Kienast",
            "photoUrl": "",
            "userId": "18136220580306165387"
          }
        },
        "outputId": "a9c0b753-d7a1-4c11-f668-65bb319b45d2"
      },
      "source": [
        "# create lag feature\n",
        "df = raw_df.copy().drop([\"Month\"], axis=1)\n",
        "df.columns = [\"t\"]\n",
        "df[\"t+1\"] = df.shift(-1)\n",
        "df.iloc[90:120]"
      ],
      "execution_count": 3,
      "outputs": [
        {
          "output_type": "execute_result",
          "data": {
            "text/html": [
              "<div>\n",
              "<style scoped>\n",
              "    .dataframe tbody tr th:only-of-type {\n",
              "        vertical-align: middle;\n",
              "    }\n",
              "\n",
              "    .dataframe tbody tr th {\n",
              "        vertical-align: top;\n",
              "    }\n",
              "\n",
              "    .dataframe thead th {\n",
              "        text-align: right;\n",
              "    }\n",
              "</style>\n",
              "<table border=\"1\" class=\"dataframe\">\n",
              "  <thead>\n",
              "    <tr style=\"text-align: right;\">\n",
              "      <th></th>\n",
              "      <th>t</th>\n",
              "      <th>t+1</th>\n",
              "    </tr>\n",
              "  </thead>\n",
              "  <tbody>\n",
              "    <tr>\n",
              "      <th>90</th>\n",
              "      <td>413</td>\n",
              "      <td>405.0</td>\n",
              "    </tr>\n",
              "    <tr>\n",
              "      <th>91</th>\n",
              "      <td>405</td>\n",
              "      <td>355.0</td>\n",
              "    </tr>\n",
              "    <tr>\n",
              "      <th>92</th>\n",
              "      <td>355</td>\n",
              "      <td>306.0</td>\n",
              "    </tr>\n",
              "    <tr>\n",
              "      <th>93</th>\n",
              "      <td>306</td>\n",
              "      <td>271.0</td>\n",
              "    </tr>\n",
              "    <tr>\n",
              "      <th>94</th>\n",
              "      <td>271</td>\n",
              "      <td>306.0</td>\n",
              "    </tr>\n",
              "    <tr>\n",
              "      <th>95</th>\n",
              "      <td>306</td>\n",
              "      <td>315.0</td>\n",
              "    </tr>\n",
              "    <tr>\n",
              "      <th>96</th>\n",
              "      <td>315</td>\n",
              "      <td>301.0</td>\n",
              "    </tr>\n",
              "    <tr>\n",
              "      <th>97</th>\n",
              "      <td>301</td>\n",
              "      <td>356.0</td>\n",
              "    </tr>\n",
              "    <tr>\n",
              "      <th>98</th>\n",
              "      <td>356</td>\n",
              "      <td>348.0</td>\n",
              "    </tr>\n",
              "    <tr>\n",
              "      <th>99</th>\n",
              "      <td>348</td>\n",
              "      <td>355.0</td>\n",
              "    </tr>\n",
              "    <tr>\n",
              "      <th>100</th>\n",
              "      <td>355</td>\n",
              "      <td>422.0</td>\n",
              "    </tr>\n",
              "    <tr>\n",
              "      <th>101</th>\n",
              "      <td>422</td>\n",
              "      <td>465.0</td>\n",
              "    </tr>\n",
              "    <tr>\n",
              "      <th>102</th>\n",
              "      <td>465</td>\n",
              "      <td>467.0</td>\n",
              "    </tr>\n",
              "    <tr>\n",
              "      <th>103</th>\n",
              "      <td>467</td>\n",
              "      <td>404.0</td>\n",
              "    </tr>\n",
              "    <tr>\n",
              "      <th>104</th>\n",
              "      <td>404</td>\n",
              "      <td>347.0</td>\n",
              "    </tr>\n",
              "    <tr>\n",
              "      <th>105</th>\n",
              "      <td>347</td>\n",
              "      <td>305.0</td>\n",
              "    </tr>\n",
              "    <tr>\n",
              "      <th>106</th>\n",
              "      <td>305</td>\n",
              "      <td>336.0</td>\n",
              "    </tr>\n",
              "    <tr>\n",
              "      <th>107</th>\n",
              "      <td>336</td>\n",
              "      <td>340.0</td>\n",
              "    </tr>\n",
              "    <tr>\n",
              "      <th>108</th>\n",
              "      <td>340</td>\n",
              "      <td>318.0</td>\n",
              "    </tr>\n",
              "    <tr>\n",
              "      <th>109</th>\n",
              "      <td>318</td>\n",
              "      <td>362.0</td>\n",
              "    </tr>\n",
              "    <tr>\n",
              "      <th>110</th>\n",
              "      <td>362</td>\n",
              "      <td>348.0</td>\n",
              "    </tr>\n",
              "    <tr>\n",
              "      <th>111</th>\n",
              "      <td>348</td>\n",
              "      <td>363.0</td>\n",
              "    </tr>\n",
              "    <tr>\n",
              "      <th>112</th>\n",
              "      <td>363</td>\n",
              "      <td>435.0</td>\n",
              "    </tr>\n",
              "    <tr>\n",
              "      <th>113</th>\n",
              "      <td>435</td>\n",
              "      <td>491.0</td>\n",
              "    </tr>\n",
              "    <tr>\n",
              "      <th>114</th>\n",
              "      <td>491</td>\n",
              "      <td>505.0</td>\n",
              "    </tr>\n",
              "    <tr>\n",
              "      <th>115</th>\n",
              "      <td>505</td>\n",
              "      <td>404.0</td>\n",
              "    </tr>\n",
              "    <tr>\n",
              "      <th>116</th>\n",
              "      <td>404</td>\n",
              "      <td>359.0</td>\n",
              "    </tr>\n",
              "    <tr>\n",
              "      <th>117</th>\n",
              "      <td>359</td>\n",
              "      <td>310.0</td>\n",
              "    </tr>\n",
              "    <tr>\n",
              "      <th>118</th>\n",
              "      <td>310</td>\n",
              "      <td>337.0</td>\n",
              "    </tr>\n",
              "    <tr>\n",
              "      <th>119</th>\n",
              "      <td>337</td>\n",
              "      <td>360.0</td>\n",
              "    </tr>\n",
              "  </tbody>\n",
              "</table>\n",
              "</div>"
            ],
            "text/plain": [
              "       t    t+1\n",
              "90   413  405.0\n",
              "91   405  355.0\n",
              "92   355  306.0\n",
              "93   306  271.0\n",
              "94   271  306.0\n",
              "95   306  315.0\n",
              "96   315  301.0\n",
              "97   301  356.0\n",
              "98   356  348.0\n",
              "99   348  355.0\n",
              "100  355  422.0\n",
              "101  422  465.0\n",
              "102  465  467.0\n",
              "103  467  404.0\n",
              "104  404  347.0\n",
              "105  347  305.0\n",
              "106  305  336.0\n",
              "107  336  340.0\n",
              "108  340  318.0\n",
              "109  318  362.0\n",
              "110  362  348.0\n",
              "111  348  363.0\n",
              "112  363  435.0\n",
              "113  435  491.0\n",
              "114  491  505.0\n",
              "115  505  404.0\n",
              "116  404  359.0\n",
              "117  359  310.0\n",
              "118  310  337.0\n",
              "119  337  360.0"
            ]
          },
          "metadata": {},
          "execution_count": 3
        }
      ]
    },
    {
      "cell_type": "markdown",
      "metadata": {
        "id": "UL41EzoXJ2f4"
      },
      "source": [
        "## Create Train-Test Split\n",
        "\n",
        "Next, we can split the dataset into training and test subsets as below. 70% of the series created as training and 30% as a test subset.\n"
      ]
    },
    {
      "cell_type": "code",
      "metadata": {
        "id": "mKJT2F4qJOM1",
        "executionInfo": {
          "status": "ok",
          "timestamp": 1629451091369,
          "user_tz": -120,
          "elapsed": 10,
          "user": {
            "displayName": "Max Lucas Kienast",
            "photoUrl": "",
            "userId": "18136220580306165387"
          }
        }
      },
      "source": [
        "# train test split\n",
        "train_size = int(df.shape[0] * 0.7)\n",
        "\n",
        "train = df.iloc[:train_size-1]\n",
        "test = df.iloc[train_size-1:]\n",
        "\n",
        "train_X = train.loc[:,\"t\"]\n",
        "train_y = train.loc[:,\"t+1\"]\n",
        "\n",
        "test_X = test.loc[:,\"t\"]\n",
        "test_y = test.loc[:,\"t+1\"]"
      ],
      "execution_count": 4,
      "outputs": []
    },
    {
      "cell_type": "markdown",
      "metadata": {
        "id": "_6-YSu4ILERw"
      },
      "source": [
        "## Develop a Naive Forecast\n",
        "\n",
        "It’s fairly simple to set up a baseline model. We know the naive algorithm uses the value at the current time step (t) to predict the expected outcome at the next time step (t+1). Therefore, in our transformed supervised version of the dataset, the first column is the prediction for the second column. We have to discard the last row of the dataset as it doesn’t have any input value."
      ]
    },
    {
      "cell_type": "code",
      "metadata": {
        "id": "JJ1aDKffJ-1o",
        "executionInfo": {
          "status": "ok",
          "timestamp": 1629451091369,
          "user_tz": -120,
          "elapsed": 10,
          "user": {
            "displayName": "Max Lucas Kienast",
            "photoUrl": "",
            "userId": "18136220580306165387"
          }
        }
      },
      "source": [
        "# create baseline model (Naive model)\n",
        "def model_persistence(x):\n",
        "  return x"
      ],
      "execution_count": 5,
      "outputs": []
    },
    {
      "cell_type": "markdown",
      "metadata": {
        "id": "8z7MKRQZLrX6"
      },
      "source": [
        "## Predict and Evaluate Forecast\n",
        "\n",
        "As a final step, we can evaluate our baseline model on the test dataset. In this case, no model training or retraining is required, we know the first column is prediction and the second column is the actual number. We walk through the test dataset time step by time step and get predictions."
      ]
    },
    {
      "cell_type": "code",
      "metadata": {
        "colab": {
          "base_uri": "https://localhost:8080/"
        },
        "id": "M_bGuXi-LqQ0",
        "executionInfo": {
          "status": "ok",
          "timestamp": 1629451091370,
          "user_tz": -120,
          "elapsed": 10,
          "user": {
            "displayName": "Max Lucas Kienast",
            "photoUrl": "",
            "userId": "18136220580306165387"
          }
        },
        "outputId": "7c5abb2b-628a-46f9-e68b-6220d571043f"
      },
      "source": [
        "# walk-forward validation\n",
        "predicted = list()\n",
        "for x in test_X:\n",
        "  yhat = model_persistence(x)\n",
        "  predicted.append(yhat)\n",
        "predicted = pd.Series(np.array(predicted))\n",
        "predicted.index = test_y.index\n",
        "\n",
        "# Root Mean Squared Error (RMSE)\n",
        "rmse = np.mean((predicted - test_y)**2)**.5\n",
        "print(\"Test RMSE: {:.3f}\".format(rmse))"
      ],
      "execution_count": 6,
      "outputs": [
        {
          "output_type": "stream",
          "text": [
            "Test RMSE: 49.409\n"
          ],
          "name": "stdout"
        }
      ]
    },
    {
      "cell_type": "code",
      "metadata": {
        "colab": {
          "base_uri": "https://localhost:8080/",
          "height": 502
        },
        "id": "8hIrigdwMbN6",
        "executionInfo": {
          "status": "ok",
          "timestamp": 1629451091804,
          "user_tz": -120,
          "elapsed": 442,
          "user": {
            "displayName": "Max Lucas Kienast",
            "photoUrl": "",
            "userId": "18136220580306165387"
          }
        },
        "outputId": "160d042b-592b-4cb9-c067-65c06ea87b48"
      },
      "source": [
        "# Plot\n",
        "plt.figure(figsize=(17,8))\n",
        "\n",
        "plt.plot(train_y, label='training')\n",
        "plt.plot(test_y, label='actual')\n",
        "plt.plot(predicted, label='forecast')\n",
        "\n",
        "plt.title('Forecast vs Actuals', fontsize=16)\n",
        "plt.legend(loc='upper left', fontsize=16)\n",
        "plt.xticks(fontsize=16)\n",
        "plt.yticks(fontsize=16)\n",
        "\n",
        "plt.show()"
      ],
      "execution_count": 7,
      "outputs": [
        {
          "output_type": "display_data",
          "data": {
            "image/png": "[encoded data removed]",
            "text/plain": [
              "<Figure size 1224x576 with 1 Axes>"
            ]
          },
          "metadata": {
            "needs_background": "light"
          }
        }
      ]
    },
    {
      "cell_type": "markdown",
      "metadata": {
        "id": "kHYdtCXIPoLC"
      },
      "source": [
        "Looking at the line plot we can see a decent prediction on the test dataset. We have to maintain or improve this accuracy when we explore other advanced techniques."
      ]
    },
    {
      "cell_type": "code",
      "metadata": {
        "id": "usYaY_0AN9se",
        "executionInfo": {
          "status": "ok",
          "timestamp": 1629451091804,
          "user_tz": -120,
          "elapsed": 5,
          "user": {
            "displayName": "Max Lucas Kienast",
            "photoUrl": "",
            "userId": "18136220580306165387"
          }
        }
      },
      "source": [
        ""
      ],
      "execution_count": 7,
      "outputs": []
    }
  ]
}
