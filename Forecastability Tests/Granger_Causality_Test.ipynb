{
  "nbformat": 4,
  "nbformat_minor": 0,
  "metadata": {
    "colab": {
      "name": "Granger Causality Test.ipynb",
      "provenance": [],
      "collapsed_sections": []
    },
    "kernelspec": {
      "name": "python3",
      "display_name": "Python 3"
    },
    "language_info": {
      "name": "python"
    }
  },
  "cells": [
    {
      "cell_type": "markdown",
      "metadata": {
        "id": "hzTSuPNESD5D"
      },
      "source": [
        "# Granger Causality Test\n",
        "\n",
        "(Sourced from: https://www.machinelearningplus.com/time-series/time-series-analysis-python/)\n",
        "\n",
        "Granger causality test is used to determine if one time series will be useful to forecast another.\n",
        "\n",
        "- It is based on the idea that if X causes Y, then the forecast of Y based on previous values of Y AND the previous values of X should outperform the forecast of Y based on previous values of Y alone.\n",
        "\n",
        "- So, understand that Granger causality should not be used to test if a lag of Y causes Y. Instead, it is generally used on exogenous (not Y lag) variables only.\n",
        "\n",
        "- Its mathematical formulation is based on linear regression modeling of stochastic processes (Granger 1969). More complex extensions to nonlinear cases exist, however these extensions are often more difficult to apply in practice.\n",
        "\n",
        "It is nicely implemented in the `statsmodel` package.\n",
        "\n",
        "- It accepts a 2D array with 2 columns as the main argument. The values are in the first column and the predictor (X) is in the second column.\n",
        "\n",
        "- **The Null hypothesis is: the series in the second column, does not Granger cause the series in the first.** If the P-Values are less than a significance level (0.05) then you reject the null hypothesis and conclude that the said lag of X is indeed useful.\n",
        "\n",
        "- The second argument `maxlag` says till how many lags of Y should be included in the test."
      ]
    },
    {
      "cell_type": "code",
      "metadata": {
        "colab": {
          "base_uri": "https://localhost:8080/"
        },
        "id": "NNYlpUvYRSsG",
        "outputId": "090e99f6-fc21-4e70-ea5c-5c122c457ee4"
      },
      "source": [
        "# import libraries\n",
        "import numpy as np\n",
        "import pandas as pd\n",
        "from statsmodels.tsa.stattools import grangercausalitytests"
      ],
      "execution_count": 1,
      "outputs": [
        {
          "output_type": "stream",
          "text": [
            "/usr/local/lib/python3.7/dist-packages/statsmodels/tools/_testing.py:19: FutureWarning: pandas.util.testing is deprecated. Use the functions in the public API at pandas.testing instead.\n",
            "  import pandas.util.testing as tm\n"
          ],
          "name": "stderr"
        }
      ]
    },
    {
      "cell_type": "code",
      "metadata": {
        "colab": {
          "base_uri": "https://localhost:8080/",
          "height": 419
        },
        "id": "GFcKU8f_TUIf",
        "outputId": "6b1161e6-cae2-4f2e-912c-52ef791b4eb9"
      },
      "source": [
        "# load data\n",
        "url = \"https://raw.githubusercontent.com/selva86/datasets/master/a10.csv\"\n",
        "df = pd.read_csv(url, parse_dates=[\"date\"])\n",
        "df.loc[:, \"month\"] = df.loc[:, \"date\"].dt.month\n",
        "df"
      ],
      "execution_count": 2,
      "outputs": [
        {
          "output_type": "execute_result",
          "data": {
            "text/html": [
              "<div>\n",
              "<style scoped>\n",
              "    .dataframe tbody tr th:only-of-type {\n",
              "        vertical-align: middle;\n",
              "    }\n",
              "\n",
              "    .dataframe tbody tr th {\n",
              "        vertical-align: top;\n",
              "    }\n",
              "\n",
              "    .dataframe thead th {\n",
              "        text-align: right;\n",
              "    }\n",
              "</style>\n",
              "<table border=\"1\" class=\"dataframe\">\n",
              "  <thead>\n",
              "    <tr style=\"text-align: right;\">\n",
              "      <th></th>\n",
              "      <th>date</th>\n",
              "      <th>value</th>\n",
              "      <th>month</th>\n",
              "    </tr>\n",
              "  </thead>\n",
              "  <tbody>\n",
              "    <tr>\n",
              "      <th>0</th>\n",
              "      <td>1991-07-01</td>\n",
              "      <td>3.526591</td>\n",
              "      <td>7</td>\n",
              "    </tr>\n",
              "    <tr>\n",
              "      <th>1</th>\n",
              "      <td>1991-08-01</td>\n",
              "      <td>3.180891</td>\n",
              "      <td>8</td>\n",
              "    </tr>\n",
              "    <tr>\n",
              "      <th>2</th>\n",
              "      <td>1991-09-01</td>\n",
              "      <td>3.252221</td>\n",
              "      <td>9</td>\n",
              "    </tr>\n",
              "    <tr>\n",
              "      <th>3</th>\n",
              "      <td>1991-10-01</td>\n",
              "      <td>3.611003</td>\n",
              "      <td>10</td>\n",
              "    </tr>\n",
              "    <tr>\n",
              "      <th>4</th>\n",
              "      <td>1991-11-01</td>\n",
              "      <td>3.565869</td>\n",
              "      <td>11</td>\n",
              "    </tr>\n",
              "    <tr>\n",
              "      <th>...</th>\n",
              "      <td>...</td>\n",
              "      <td>...</td>\n",
              "      <td>...</td>\n",
              "    </tr>\n",
              "    <tr>\n",
              "      <th>199</th>\n",
              "      <td>2008-02-01</td>\n",
              "      <td>21.654285</td>\n",
              "      <td>2</td>\n",
              "    </tr>\n",
              "    <tr>\n",
              "      <th>200</th>\n",
              "      <td>2008-03-01</td>\n",
              "      <td>18.264945</td>\n",
              "      <td>3</td>\n",
              "    </tr>\n",
              "    <tr>\n",
              "      <th>201</th>\n",
              "      <td>2008-04-01</td>\n",
              "      <td>23.107677</td>\n",
              "      <td>4</td>\n",
              "    </tr>\n",
              "    <tr>\n",
              "      <th>202</th>\n",
              "      <td>2008-05-01</td>\n",
              "      <td>22.912510</td>\n",
              "      <td>5</td>\n",
              "    </tr>\n",
              "    <tr>\n",
              "      <th>203</th>\n",
              "      <td>2008-06-01</td>\n",
              "      <td>19.431740</td>\n",
              "      <td>6</td>\n",
              "    </tr>\n",
              "  </tbody>\n",
              "</table>\n",
              "<p>204 rows × 3 columns</p>\n",
              "</div>"
            ],
            "text/plain": [
              "          date      value  month\n",
              "0   1991-07-01   3.526591      7\n",
              "1   1991-08-01   3.180891      8\n",
              "2   1991-09-01   3.252221      9\n",
              "3   1991-10-01   3.611003     10\n",
              "4   1991-11-01   3.565869     11\n",
              "..         ...        ...    ...\n",
              "199 2008-02-01  21.654285      2\n",
              "200 2008-03-01  18.264945      3\n",
              "201 2008-04-01  23.107677      4\n",
              "202 2008-05-01  22.912510      5\n",
              "203 2008-06-01  19.431740      6\n",
              "\n",
              "[204 rows x 3 columns]"
            ]
          },
          "metadata": {
            "tags": []
          },
          "execution_count": 2
        }
      ]
    },
    {
      "cell_type": "code",
      "metadata": {
        "colab": {
          "base_uri": "https://localhost:8080/"
        },
        "id": "0Cm-fVQeTmyN",
        "outputId": "b4b10ce9-20ef-4baf-8312-f65ec958c39d"
      },
      "source": [
        "# Granger Causality Test\n",
        "grangercausalitytests(df.loc[:, [\"value\", \"month\"]], maxlag=2)"
      ],
      "execution_count": 3,
      "outputs": [
        {
          "output_type": "stream",
          "text": [
            "\n",
            "Granger Causality\n",
            "number of lags (no zero) 1\n",
            "ssr based F test:         F=54.7797 , p=0.0000  , df_denom=200, df_num=1\n",
            "ssr based chi2 test:   chi2=55.6014 , p=0.0000  , df=1\n",
            "likelihood ratio test: chi2=49.1426 , p=0.0000  , df=1\n",
            "parameter F test:         F=54.7797 , p=0.0000  , df_denom=200, df_num=1\n",
            "\n",
            "Granger Causality\n",
            "number of lags (no zero) 2\n",
            "ssr based F test:         F=162.6989, p=0.0000  , df_denom=197, df_num=2\n",
            "ssr based chi2 test:   chi2=333.6567, p=0.0000  , df=2\n",
            "likelihood ratio test: chi2=196.9956, p=0.0000  , df=2\n",
            "parameter F test:         F=162.6989, p=0.0000  , df_denom=197, df_num=2\n"
          ],
          "name": "stdout"
        },
        {
          "output_type": "execute_result",
          "data": {
            "text/plain": [
              "{1: ({'lrtest': (49.14260233004984, 2.38014300604565e-12, 1),\n",
              "   'params_ftest': (54.77967483557343, 3.661425871353366e-12, 200.0, 1.0),\n",
              "   'ssr_chi2test': (55.60136995810727, 8.876175235021185e-14, 1),\n",
              "   'ssr_ftest': (54.779674835573665, 3.661425871352945e-12, 200.0, 1)},\n",
              "  [<statsmodels.regression.linear_model.RegressionResultsWrapper at 0x7fefc53a76d0>,\n",
              "   <statsmodels.regression.linear_model.RegressionResultsWrapper at 0x7fefc1997710>,\n",
              "   array([[0., 1., 0.]])]),\n",
              " 2: ({'lrtest': (196.9955927718221, 1.670900349911483e-43, 2),\n",
              "   'params_ftest': (162.6989179987324, 1.9133235086856426e-42, 197.0, 2.0),\n",
              "   'ssr_chi2test': (333.65666432227357, 3.5267600881278635e-73, 2),\n",
              "   'ssr_ftest': (162.6989179987324, 1.9133235086856426e-42, 197.0, 2)},\n",
              "  [<statsmodels.regression.linear_model.RegressionResultsWrapper at 0x7fefb0bf0d10>,\n",
              "   <statsmodels.regression.linear_model.RegressionResultsWrapper at 0x7fefc1997950>,\n",
              "   array([[0., 0., 1., 0., 0.],\n",
              "          [0., 0., 0., 1., 0.]])])}"
            ]
          },
          "metadata": {
            "tags": []
          },
          "execution_count": 3
        }
      ]
    },
    {
      "cell_type": "markdown",
      "metadata": {
        "id": "ONdM9cnWUTPu"
      },
      "source": [
        "In the above case, the P-Values are Zero for all tests. So the ‘month’ indeed can be used to forecast the Air Passengers."
      ]
    },
    {
      "cell_type": "code",
      "metadata": {
        "id": "BQf1_WLzT8-m"
      },
      "source": [
        ""
      ],
      "execution_count": 3,
      "outputs": []
    }
  ]
}