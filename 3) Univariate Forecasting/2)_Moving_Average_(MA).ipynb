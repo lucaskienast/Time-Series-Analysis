{
  "nbformat": 4,
  "nbformat_minor": 0,
  "metadata": {
    "colab": {
      "name": "2) Moving Average (MA).ipynb",
      "provenance": [],
      "collapsed_sections": []
    },
    "kernelspec": {
      "name": "python3",
      "display_name": "Python 3"
    },
    "language_info": {
      "name": "python"
    }
  },
  "cells": [
    {
      "cell_type": "markdown",
      "metadata": {
        "id": "36jWyXFIR7L4"
      },
      "source": [
        "# Univariate TS Forecasting: Moving Average (MA)\n",
        "\n",
        "The method is suitable for time series without trend and seasonal components.\n",
        "\n",
        "The difference between observed and predicted values is called the residual error. These errors from forecasts on a time series provide another source of information that we can model. It is calculated as:\n",
        "\n",
        "`residual error = observed - predicted`\n",
        "\n",
        "Therefore, the moving average method is also called the model of residual error, this method models the next step in the sequence as a linear function of the residual errors. You can observe this difference in the following equation.\n",
        "\n",
        "$ X(t) = \\beta_0 + \\beta_1 \\epsilon(t-1) + \\beta_2 \\epsilon(t-2) + ... + \\beta_q \\epsilon(t-q) $ \n",
        "\n",
        "A pure Moving Average (MA only) model of order $q$ is one where $X_t$ depends only on the lagged forecast errors.\n",
        "\n",
        "$ X_{t} = \\alpha + \\epsilon_{t} + \\sum_{i=1}^{q} \\phi_{i} \\epsilon_{t-i} $\n",
        "\n",
        "Notice that each value of $X_t$ can be thought of as a weighted moving average of the past few forecast errors. However, moving average models should not be confused with the moving average smoothing. 'q’ is the moving-average trend parameter, ideal value for q can be determined from the partial auto-correlation plot."
      ]
    },
    {
      "cell_type": "markdown",
      "metadata": {
        "id": "tD4WrrpCTkI6"
      },
      "source": [
        "## Finding q (order of MA term)\n",
        "\n",
        "Just like how we looked at the PACF plot for the number of AR terms, you can look at the ACF plot for the number of MA terms. An MA term is technically, the error of the lagged forecast. The ACF tells how many MA terms are required to remove any autocorrelation in the stationarized series.\n",
        "\n",
        "Autocorrelation is simply the correlation of a series with its own lags. If a series is significantly autocorrelated, that means, the previous values of the series (lags) may be helpful in predicting the current value."
      ]
    },
    {
      "cell_type": "markdown",
      "metadata": {
        "id": "3ekadpzaUsl6"
      },
      "source": [
        "## Import libraries"
      ]
    },
    {
      "cell_type": "code",
      "metadata": {
        "colab": {
          "base_uri": "https://localhost:8080/"
        },
        "id": "SCri3ZcLN0O5",
        "outputId": "7cc8a821-650c-46e1-aa18-14df02e60671"
      },
      "source": [
        "import numpy as np\n",
        "from statsmodels.tsa.arima_model import ARMA"
      ],
      "execution_count": 1,
      "outputs": [
        {
          "output_type": "stream",
          "text": [
            "/usr/local/lib/python3.7/dist-packages/statsmodels/tools/_testing.py:19: FutureWarning: pandas.util.testing is deprecated. Use the functions in the public API at pandas.testing instead.\n",
            "  import pandas.util.testing as tm\n"
          ],
          "name": "stderr"
        }
      ]
    },
    {
      "cell_type": "markdown",
      "metadata": {
        "id": "Lcg5voudU2iS"
      },
      "source": [
        "## Load data"
      ]
    },
    {
      "cell_type": "code",
      "metadata": {
        "colab": {
          "base_uri": "https://localhost:8080/"
        },
        "id": "vhTqyXkMU1Y6",
        "outputId": "4eaeedc4-85ae-47c0-9e82-d094cbdef0bd"
      },
      "source": [
        "# generate random data\n",
        "data = np.random.randn(100)\n",
        "data.shape"
      ],
      "execution_count": 2,
      "outputs": [
        {
          "output_type": "execute_result",
          "data": {
            "text/plain": [
              "(100,)"
            ]
          },
          "metadata": {},
          "execution_count": 2
        }
      ]
    },
    {
      "cell_type": "markdown",
      "metadata": {
        "id": "EUmSNUptU-Ej"
      },
      "source": [
        "## MA Model Implementation"
      ]
    },
    {
      "cell_type": "code",
      "metadata": {
        "colab": {
          "base_uri": "https://localhost:8080/"
        },
        "id": "MYjBcy_TU85g",
        "outputId": "ed3aeec1-f845-4c35-998b-44f8fa241333"
      },
      "source": [
        "# only demonstration (summary values not important here)\n",
        "model = ARMA(data, order=(0, 1)) # (p,q)\n",
        "model_fit = model.fit(disp=False)\n",
        "print(model_fit.summary())"
      ],
      "execution_count": 3,
      "outputs": [
        {
          "output_type": "stream",
          "text": [
            "                              ARMA Model Results                              \n",
            "==============================================================================\n",
            "Dep. Variable:                      y   No. Observations:                  100\n",
            "Model:                     ARMA(0, 1)   Log Likelihood                -133.483\n",
            "Method:                       css-mle   S.D. of innovations              0.919\n",
            "Date:                Fri, 20 Aug 2021   AIC                            272.965\n",
            "Time:                        11:35:17   BIC                            280.781\n",
            "Sample:                             0   HQIC                           276.128\n",
            "                                                                              \n",
            "==============================================================================\n",
            "                 coef    std err          z      P>|z|      [0.025      0.975]\n",
            "------------------------------------------------------------------------------\n",
            "const          0.0881      0.098      0.901      0.370      -0.104       0.280\n",
            "ma.L1.y        0.0647      0.089      0.731      0.467      -0.109       0.238\n",
            "                                    Roots                                    \n",
            "=============================================================================\n",
            "                  Real          Imaginary           Modulus         Frequency\n",
            "-----------------------------------------------------------------------------\n",
            "MA.1          -15.4659           +0.0000j           15.4659            0.5000\n",
            "-----------------------------------------------------------------------------\n"
          ],
          "name": "stdout"
        }
      ]
    },
    {
      "cell_type": "markdown",
      "metadata": {
        "id": "kbXVQH_4VgFj"
      },
      "source": [
        "## Make Prediction"
      ]
    },
    {
      "cell_type": "code",
      "metadata": {
        "colab": {
          "base_uri": "https://localhost:8080/"
        },
        "id": "HxX4LS9wVZCk",
        "outputId": "95bf2404-f573-4c4f-d1e4-9e62ac9db9e5"
      },
      "source": [
        "# just one prediction so start=end\n",
        "yhat = model_fit.predict(start=data.shape[0], end=data.shape[0])\n",
        "print(yhat)"
      ],
      "execution_count": 4,
      "outputs": [
        {
          "output_type": "stream",
          "text": [
            "[0.06796967]\n"
          ],
          "name": "stdout"
        }
      ]
    },
    {
      "cell_type": "code",
      "metadata": {
        "id": "K43SPuL2VlfF"
      },
      "source": [
        ""
      ],
      "execution_count": 4,
      "outputs": []
    },
    {
      "cell_type": "code",
      "metadata": {
        "id": "JR9Ie-HbVqOF"
      },
      "source": [
        ""
      ],
      "execution_count": 4,
      "outputs": []
    }
  ]
}
