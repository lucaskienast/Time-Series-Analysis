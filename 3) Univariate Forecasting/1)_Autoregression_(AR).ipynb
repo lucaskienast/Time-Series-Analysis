{
  "nbformat": 4,
  "nbformat_minor": 0,
  "metadata": {
    "colab": {
      "name": "1) Autoregression (AR).ipynb",
      "provenance": [],
      "collapsed_sections": []
    },
    "kernelspec": {
      "name": "python3",
      "display_name": "Python 3"
    },
    "language_info": {
      "name": "python"
    }
  },
  "cells": [
    {
      "cell_type": "markdown",
      "metadata": {
        "id": "ove_vJZfFxlk"
      },
      "source": [
        "# Univariate TS Forecasting: Autoregression (AR)\n",
        "\n",
        "Autoregression models an output (value at the next step) based on the linear combination of input variables (values at prior time steps). For example, in linear regression y-hat is the prediction, β₀ and β₁ are coefficients calculated by the model on training data, and X is an input value.\n",
        "\n",
        "$ \\hat{y} = \\beta_{0} + \\beta_{1} X_{1} $\n",
        "\n",
        "Similarly, in time series we can predict the value at the next time step given the observations at current and previous time steps.\n",
        "\n",
        "$ X(t) = \\beta_{0} + \\beta_{1} X(t-1) + \\beta_{2} X(t-2) + ... + \\beta_{p} X(t-p) $\n",
        "\n",
        "A pure Auto Regressive (AR only) model of order $p$ is one where $Y_t$ depends only on its own lags. That is, $Y_t$ is a function of the ‘lags of $Y_t$’. ‘p’ is the auto-regressive trend parameter, the ideal value for p can be determined from an autocorrelation plot.\n",
        "\n",
        "$ X_{t} = \\alpha + \\sum_{i=1}^{p} \\beta_{i} X_{t-i} + \\epsilon_{t}$\n",
        "\n",
        "where,\n",
        "\n",
        "- $X_{t-1}$ is the lag1 of the series\n",
        "- $\\beta_1$ is the coefficient of lag1 that the model estimates\n",
        "- $\\alpha$ is the intercept term, also estimated by the model\n",
        "- $\\epsilon_{t}$ is white noise\n"
      ]
    },
    {
      "cell_type": "markdown",
      "metadata": {
        "id": "3UuLFw4oLXJW"
      },
      "source": [
        "## Finding p (order of AR term)\n",
        "\n",
        "You can find out the required number of AR terms by inspecting the Partial Autocorrelation (PACF) plot.\n",
        "\n",
        "Partial autocorrelation can be imagined as the correlation between the series and its lag, after excluding the contributions from the intermediate lags. So, PACF sort of conveys the pure correlation between a lag and the series. That way, you will know if that lag is needed in the AR term or not.\n",
        "\n",
        "The partial autocorrelation of lag (k) of a series is the coefficient of that lag in the autoregression equation of $Y$. The autoregressive equation of $Y$ is nothing but the linear regression of $Y$ with its own lags as predictors.\n",
        "\n",
        "For Example, if $X_{t}$ is the current series and $X_{t-1}$ is the lag 1 of $X$, then the partial autocorrelation of lag 3 $X_{t-3}$ is the coefficient $\\alpha_3$ of $X_{t-3}$ in the following equation:\n",
        "\n",
        "$X_{t} = \\alpha_{0} + \\alpha_{1} X_{t-1} + \\alpha_{2} X_{t-2} + \\alpha_{3} X_{t-3}$\n",
        "\n",
        "Any autocorrelation in a stationarized series can be rectified by adding enough AR terms. So, we initially take the order of AR term to be equal to as many lags that crosses the significance limit in the PACF plot.\n",
        "\n",
        "The Ljung-Box test helps us check whether the lag we chose gives autocorrelations that are significantly different from zero. The null hypothesis is that the previous lags as a whole are not correlated with the current period. If the p-value is small enough (say 0.05), we can reject the null and assume that the past lags have some correlation with the current period."
      ]
    },
    {
      "cell_type": "markdown",
      "metadata": {
        "id": "DQG8NyOXMDI7"
      },
      "source": [
        "## Import libraries"
      ]
    },
    {
      "cell_type": "code",
      "metadata": {
        "id": "zpTd5TQ9MZMu"
      },
      "source": [
        "pip install statsmodels --upgrade"
      ],
      "execution_count": null,
      "outputs": []
    },
    {
      "cell_type": "code",
      "metadata": {
        "id": "XHkM8mjsMCeD"
      },
      "source": [
        "import numpy as np\n",
        "from statsmodels.tsa.ar_model import AutoReg"
      ],
      "execution_count": 2,
      "outputs": []
    },
    {
      "cell_type": "markdown",
      "metadata": {
        "id": "9KZlWb0xMN8S"
      },
      "source": [
        "## Load data"
      ]
    },
    {
      "cell_type": "code",
      "metadata": {
        "colab": {
          "base_uri": "https://localhost:8080/"
        },
        "id": "423bZla9A4Kk",
        "outputId": "b83867e5-9452-454a-90b7-7b0b7ab10d07"
      },
      "source": [
        "# generate random data\n",
        "data = np.random.randn(100)\n",
        "data.shape"
      ],
      "execution_count": 3,
      "outputs": [
        {
          "output_type": "execute_result",
          "data": {
            "text/plain": [
              "(100,)"
            ]
          },
          "metadata": {},
          "execution_count": 3
        }
      ]
    },
    {
      "cell_type": "markdown",
      "metadata": {
        "id": "HNq3rDNgMmMd"
      },
      "source": [
        "## AR Model Implementation"
      ]
    },
    {
      "cell_type": "code",
      "metadata": {
        "colab": {
          "base_uri": "https://localhost:8080/"
        },
        "id": "Kn_WAjk4MhJ8",
        "outputId": "efb1f854-f65a-44e5-b30c-08ad82e3fd87"
      },
      "source": [
        "# only demonstration (summary values not important here)\n",
        "model = AutoReg(data, lags=3)\n",
        "model_fit = model.fit()\n",
        "print(model_fit.summary()) "
      ],
      "execution_count": 4,
      "outputs": [
        {
          "output_type": "stream",
          "text": [
            "                            AutoReg Model Results                             \n",
            "==============================================================================\n",
            "Dep. Variable:                      y   No. Observations:                  100\n",
            "Model:                     AutoReg(3)   Log Likelihood                -131.710\n",
            "Method:               Conditional MLE   S.D. of innovations              0.941\n",
            "Date:                Fri, 20 Aug 2021   AIC                             -0.019\n",
            "Time:                        10:58:38   BIC                              0.114\n",
            "Sample:                             3   HQIC                             0.035\n",
            "                                  100                                         \n",
            "==============================================================================\n",
            "                 coef    std err          z      P>|z|      [0.025      0.975]\n",
            "------------------------------------------------------------------------------\n",
            "intercept     -0.0512      0.096     -0.535      0.593      -0.239       0.136\n",
            "y.L1           0.1526      0.099      1.539      0.124      -0.042       0.347\n",
            "y.L2          -0.2854      0.097     -2.937      0.003      -0.476      -0.095\n",
            "y.L3           0.0843      0.100      0.839      0.401      -0.112       0.281\n",
            "                                    Roots                                    \n",
            "=============================================================================\n",
            "                  Real          Imaginary           Modulus         Frequency\n",
            "-----------------------------------------------------------------------------\n",
            "AR.1           -0.1807           -1.7701j            1.7793           -0.2662\n",
            "AR.2           -0.1807           +1.7701j            1.7793            0.2662\n",
            "AR.3            3.7488           -0.0000j            3.7488           -0.0000\n",
            "-----------------------------------------------------------------------------\n"
          ],
          "name": "stdout"
        },
        {
          "output_type": "stream",
          "text": [
            "/usr/local/lib/python3.7/dist-packages/statsmodels/tsa/ar_model.py:252: FutureWarning: The parameter names will change after 0.12 is released. Set old_names to False to use the new names now. Set old_names to True to use the old names. \n",
            "  FutureWarning,\n"
          ],
          "name": "stderr"
        }
      ]
    },
    {
      "cell_type": "markdown",
      "metadata": {
        "id": "kVlRN5DzNCao"
      },
      "source": [
        "## Make Prediction"
      ]
    },
    {
      "cell_type": "code",
      "metadata": {
        "colab": {
          "base_uri": "https://localhost:8080/"
        },
        "id": "fnQ_KGlXM2FG",
        "outputId": "2f7caaff-0c49-47e4-b499-cc5c1bee7f59"
      },
      "source": [
        "yhat = model_fit.predict(data.shape[0], data.shape[0])\n",
        "print(yhat)"
      ],
      "execution_count": 5,
      "outputs": [
        {
          "output_type": "stream",
          "text": [
            "[-0.455281]\n"
          ],
          "name": "stdout"
        }
      ]
    },
    {
      "cell_type": "code",
      "metadata": {
        "id": "X136PLlHNNEx"
      },
      "source": [
        ""
      ],
      "execution_count": 5,
      "outputs": []
    }
  ]
}