{
  "nbformat": 4,
  "nbformat_minor": 0,
  "metadata": {
    "colab": {
      "name": "1) Autoregression (AR).ipynb",
      "provenance": [],
      "collapsed_sections": [],
      "authorship_tag": "ABX9TyO//9DzRRUurmo4PXSaoDId"
    },
    "kernelspec": {
      "name": "python3",
      "display_name": "Python 3"
    },
    "language_info": {
      "name": "python"
    }
  },
  "cells": [
    {
      "cell_type": "markdown",
      "metadata": {
        "id": "ove_vJZfFxlk"
      },
      "source": [
        "# Univariate TS Forecasting: Autoregression (AR)\n",
        "\n",
        "The method is suitable for time series without trend and seasonal components.\n",
        "\n",
        "Autoregression models an output (value at the next step) based on the linear combination of input variables (values at prior time steps). For example, in linear regression y-hat is the prediction, β₀ and β₁ are coefficients calculated by the model on training data, and X is an input value.\n",
        "\n",
        "$ \\hat{y} = \\beta_{0} + \\beta_{1} X_{1} $\n",
        "\n",
        "Similarly, in time series we can predict the value at the next time step given the observations at current and previous time steps.\n",
        "\n",
        "$ X(t) = \\beta_{0} + \\beta_{1} X(t-1) + \\beta_{2} X(t-2) + ... + \\beta_{p} X(t-p) $\n",
        "\n",
        "A pure Auto Regressive (AR only) model of order $p$ is one where $Y_t$ depends only on its own lags. That is, $Y_t$ is a function of the ‘lags of $Y_t$’. ‘p’ is the auto-regressive trend parameter, the ideal value for p can be determined from an autocorrelation plot.\n",
        "\n",
        "$ X_{t} = \\alpha + \\sum_{i=1}^{p} \\beta_{i} X_{t-i} + \\epsilon_{t}$\n",
        "\n",
        "where,\n",
        "\n",
        "- $X_{t-1}$ is the lag1 of the series\n",
        "- $\\beta_1$ is the coefficient of lag1 that the model estimates\n",
        "- $\\alpha$ is the intercept term, also estimated by the model\n",
        "- $\\epsilon_{t}$ is white noise\n"
      ]
    },
    {
      "cell_type": "markdown",
      "metadata": {
        "id": "3UuLFw4oLXJW"
      },
      "source": [
        "## Finding p (order of AR term)\n",
        "\n",
        "You can find out the required number of AR terms by inspecting the Partial Autocorrelation (PACF) plot.\n",
        "\n",
        "Partial autocorrelation can be imagined as the correlation between the series and its lag, after excluding the contributions from the intermediate lags. So, PACF sort of conveys the pure correlation between a lag and the series. That way, you will know if that lag is needed in the AR term or not.\n",
        "\n",
        "The partial autocorrelation of lag (k) of a series is the coefficient of that lag in the autoregression equation of $Y$. The autoregressive equation of $Y$ is nothing but the linear regression of $Y$ with its own lags as predictors.\n",
        "\n",
        "For Example, if $X_{t}$ is the current series and $X_{t-1}$ is the lag 1 of $X$, then the partial autocorrelation of lag 3 $X_{t-3}$ is the coefficient $\\alpha_3$ of $X_{t-3}$ in the following equation:\n",
        "\n",
        "$X_{t} = \\alpha_{0} + \\alpha_{1} X_{t-1} + \\alpha_{2} X_{t-2} + \\alpha_{3} X_{t-3}$\n",
        "\n",
        "Any autocorrelation in a stationarized series can be rectified by adding enough AR terms. So, we initially take the order of AR term to be equal to as many lags that crosses the significance limit in the PACF plot.\n",
        "\n",
        "The Ljung-Box test helps us check whether the lag we chose gives autocorrelations that are significantly different from zero. The null hypothesis is that the previous lags as a whole are not correlated with the current period. If the p-value is small enough (say 0.05), we can reject the null and assume that the past lags have some correlation with the current period."
      ]
    },
    {
      "cell_type": "markdown",
      "metadata": {
        "id": "DQG8NyOXMDI7"
      },
      "source": [
        "## Import libraries"
      ]
    },
    {
      "cell_type": "code",
      "metadata": {
        "colab": {
          "base_uri": "https://localhost:8080/"
        },
        "id": "zpTd5TQ9MZMu",
        "executionInfo": {
          "status": "ok",
          "timestamp": 1629459398765,
          "user_tz": -120,
          "elapsed": 3705,
          "user": {
            "displayName": "Max Lucas Kienast",
            "photoUrl": "",
            "userId": "18136220580306165387"
          }
        },
        "outputId": "b6a5c209-0869-40f5-e1cc-51a87cee278c"
      },
      "source": [
        "pip install statsmodels --upgrade"
      ],
      "execution_count": 1,
      "outputs": [
        {
          "output_type": "stream",
          "text": [
            "Requirement already satisfied: statsmodels in /usr/local/lib/python3.7/dist-packages (0.12.2)\n",
            "Requirement already satisfied: numpy>=1.15 in /usr/local/lib/python3.7/dist-packages (from statsmodels) (1.19.5)\n",
            "Requirement already satisfied: patsy>=0.5 in /usr/local/lib/python3.7/dist-packages (from statsmodels) (0.5.1)\n",
            "Requirement already satisfied: pandas>=0.21 in /usr/local/lib/python3.7/dist-packages (from statsmodels) (1.1.5)\n",
            "Requirement already satisfied: scipy>=1.1 in /usr/local/lib/python3.7/dist-packages (from statsmodels) (1.4.1)\n",
            "Requirement already satisfied: pytz>=2017.2 in /usr/local/lib/python3.7/dist-packages (from pandas>=0.21->statsmodels) (2018.9)\n",
            "Requirement already satisfied: python-dateutil>=2.7.3 in /usr/local/lib/python3.7/dist-packages (from pandas>=0.21->statsmodels) (2.8.2)\n",
            "Requirement already satisfied: six in /usr/local/lib/python3.7/dist-packages (from patsy>=0.5->statsmodels) (1.15.0)\n"
          ],
          "name": "stdout"
        }
      ]
    },
    {
      "cell_type": "code",
      "metadata": {
        "id": "XHkM8mjsMCeD",
        "executionInfo": {
          "status": "ok",
          "timestamp": 1629459398766,
          "user_tz": -120,
          "elapsed": 8,
          "user": {
            "displayName": "Max Lucas Kienast",
            "photoUrl": "",
            "userId": "18136220580306165387"
          }
        }
      },
      "source": [
        "import numpy as np\n",
        "from statsmodels.tsa.ar_model import AutoReg"
      ],
      "execution_count": 2,
      "outputs": []
    },
    {
      "cell_type": "markdown",
      "metadata": {
        "id": "9KZlWb0xMN8S"
      },
      "source": [
        "## Load data"
      ]
    },
    {
      "cell_type": "code",
      "metadata": {
        "colab": {
          "base_uri": "https://localhost:8080/"
        },
        "id": "423bZla9A4Kk",
        "executionInfo": {
          "status": "ok",
          "timestamp": 1629459398766,
          "user_tz": -120,
          "elapsed": 6,
          "user": {
            "displayName": "Max Lucas Kienast",
            "photoUrl": "",
            "userId": "18136220580306165387"
          }
        },
        "outputId": "6e4435d6-b3dd-46d2-a40e-d6c383838082"
      },
      "source": [
        "# generate random data\n",
        "data = np.random.randn(100)\n",
        "data.shape"
      ],
      "execution_count": 3,
      "outputs": [
        {
          "output_type": "execute_result",
          "data": {
            "text/plain": [
              "(100,)"
            ]
          },
          "metadata": {},
          "execution_count": 3
        }
      ]
    },
    {
      "cell_type": "markdown",
      "metadata": {
        "id": "HNq3rDNgMmMd"
      },
      "source": [
        "## AR Model Implementation"
      ]
    },
    {
      "cell_type": "code",
      "metadata": {
        "colab": {
          "base_uri": "https://localhost:8080/"
        },
        "id": "Kn_WAjk4MhJ8",
        "executionInfo": {
          "status": "ok",
          "timestamp": 1629459399330,
          "user_tz": -120,
          "elapsed": 569,
          "user": {
            "displayName": "Max Lucas Kienast",
            "photoUrl": "",
            "userId": "18136220580306165387"
          }
        },
        "outputId": "08707861-721a-469a-d425-8039dd3caecd"
      },
      "source": [
        "# only demonstration (summary values not important here)\n",
        "model = AutoReg(data, lags=3)\n",
        "model_fit = model.fit()\n",
        "print(model_fit.summary()) "
      ],
      "execution_count": 4,
      "outputs": [
        {
          "output_type": "stream",
          "text": [
            "                            AutoReg Model Results                             \n",
            "==============================================================================\n",
            "Dep. Variable:                      y   No. Observations:                  100\n",
            "Model:                     AutoReg(3)   Log Likelihood                -131.742\n",
            "Method:               Conditional MLE   S.D. of innovations              0.941\n",
            "Date:                Fri, 20 Aug 2021   AIC                             -0.018\n",
            "Time:                        11:36:38   BIC                              0.114\n",
            "Sample:                             3   HQIC                             0.035\n",
            "                                  100                                         \n",
            "==============================================================================\n",
            "                 coef    std err          z      P>|z|      [0.025      0.975]\n",
            "------------------------------------------------------------------------------\n",
            "intercept     -0.1600      0.098     -1.635      0.102      -0.352       0.032\n",
            "y.L1          -0.2426      0.099     -2.457      0.014      -0.436      -0.049\n",
            "y.L2          -0.1299      0.101     -1.289      0.198      -0.327       0.068\n",
            "y.L3           0.0331      0.099      0.335      0.738      -0.161       0.227\n",
            "                                    Roots                                    \n",
            "=============================================================================\n",
            "                  Real          Imaginary           Modulus         Frequency\n",
            "-----------------------------------------------------------------------------\n",
            "AR.1           -1.0329           -1.9948j            2.2464           -0.3260\n",
            "AR.2           -1.0329           +1.9948j            2.2464            0.3260\n",
            "AR.3            5.9959           -0.0000j            5.9959           -0.0000\n",
            "-----------------------------------------------------------------------------\n"
          ],
          "name": "stdout"
        },
        {
          "output_type": "stream",
          "text": [
            "/usr/local/lib/python3.7/dist-packages/statsmodels/tsa/ar_model.py:252: FutureWarning: The parameter names will change after 0.12 is released. Set old_names to False to use the new names now. Set old_names to True to use the old names. \n",
            "  FutureWarning,\n"
          ],
          "name": "stderr"
        }
      ]
    },
    {
      "cell_type": "markdown",
      "metadata": {
        "id": "kVlRN5DzNCao"
      },
      "source": [
        "## Make Prediction"
      ]
    },
    {
      "cell_type": "code",
      "metadata": {
        "colab": {
          "base_uri": "https://localhost:8080/"
        },
        "id": "fnQ_KGlXM2FG",
        "executionInfo": {
          "status": "ok",
          "timestamp": 1629459399330,
          "user_tz": -120,
          "elapsed": 5,
          "user": {
            "displayName": "Max Lucas Kienast",
            "photoUrl": "",
            "userId": "18136220580306165387"
          }
        },
        "outputId": "0b11a671-38f7-4123-ef5c-c3307200a3d5"
      },
      "source": [
        "# just one prediction so start=end\n",
        "yhat = model_fit.predict(start=data.shape[0], end=data.shape[0])\n",
        "print(yhat)"
      ],
      "execution_count": 5,
      "outputs": [
        {
          "output_type": "stream",
          "text": [
            "[-0.13646636]\n"
          ],
          "name": "stdout"
        }
      ]
    },
    {
      "cell_type": "code",
      "metadata": {
        "id": "X136PLlHNNEx",
        "executionInfo": {
          "status": "ok",
          "timestamp": 1629459399330,
          "user_tz": -120,
          "elapsed": 3,
          "user": {
            "displayName": "Max Lucas Kienast",
            "photoUrl": "",
            "userId": "18136220580306165387"
          }
        }
      },
      "source": [
        ""
      ],
      "execution_count": 5,
      "outputs": []
    }
  ]
}
