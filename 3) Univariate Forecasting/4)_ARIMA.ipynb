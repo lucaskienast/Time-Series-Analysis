{
  "nbformat": 4,
  "nbformat_minor": 0,
  "metadata": {
    "colab": {
      "name": "4) ARIMA.ipynb",
      "provenance": [],
      "collapsed_sections": []
    },
    "kernelspec": {
      "name": "python3",
      "display_name": "Python 3"
    },
    "language_info": {
      "name": "python"
    }
  },
  "cells": [
    {
      "cell_type": "markdown",
      "metadata": {
        "id": "-UrOhaREYbnJ"
      },
      "source": [
        "# Univariate TS Forecasting: AutoRegressive Integrated Moving Average (ARIMA)\n",
        "\n",
        "The method is suitable for time series with trend and without seasonal components.\n",
        "\n",
        "The statistical models we have discussed so far assume the time series to be stationary, but in reality, most of the time series is not stationary, i.e the statistical properties of a series like mean, variance changes over time.\n",
        "Therefore, we can add one more step as a pre-processing step, i.e., differencing (‘d’) the time series to make it stationary.\n",
        "\n",
        "Now, we have a method that combines both Autoregression (AR) and Moving Average (MA) models as well as a differencing pre-processing step of the sequence to make the sequence stationary, called integration (I). Therefore, we need to find out whether the time series we are dealing with is stationary or not. We can diagnose stationarity by looking at seasonality and trend in time series plots, checking the difference in mean and variance for various periods, and the Augmented Dickey-Fuller (ADF) test (among others)."
      ]
    },
    {
      "cell_type": "markdown",
      "metadata": {
        "id": "Y5_o17paY866"
      },
      "source": [
        "## Import libraries"
      ]
    },
    {
      "cell_type": "code",
      "metadata": {
        "colab": {
          "base_uri": "https://localhost:8080/"
        },
        "id": "o-dgbcr4YNQC",
        "outputId": "02678dd5-1583-49f4-b7ad-a5d498e86062"
      },
      "source": [
        "import numpy as np\n",
        "from statsmodels.tsa.arima_model import ARIMA"
      ],
      "execution_count": 1,
      "outputs": [
        {
          "output_type": "stream",
          "text": [
            "/usr/local/lib/python3.7/dist-packages/statsmodels/tools/_testing.py:19: FutureWarning: pandas.util.testing is deprecated. Use the functions in the public API at pandas.testing instead.\n",
            "  import pandas.util.testing as tm\n"
          ],
          "name": "stderr"
        }
      ]
    },
    {
      "cell_type": "markdown",
      "metadata": {
        "id": "YCBaHyhLZGcj"
      },
      "source": [
        "## Load data"
      ]
    },
    {
      "cell_type": "code",
      "metadata": {
        "colab": {
          "base_uri": "https://localhost:8080/"
        },
        "id": "yMjN57XpZD_Z",
        "outputId": "87c1a5f4-9277-485e-d789-d3d34b744361"
      },
      "source": [
        "# generate random data\n",
        "data = np.random.randn(100)\n",
        "data.shape"
      ],
      "execution_count": 2,
      "outputs": [
        {
          "output_type": "execute_result",
          "data": {
            "text/plain": [
              "(100,)"
            ]
          },
          "metadata": {},
          "execution_count": 2
        }
      ]
    },
    {
      "cell_type": "markdown",
      "metadata": {
        "id": "ZQ5svmlbZL9O"
      },
      "source": [
        "## ARIMA Model Implementation"
      ]
    },
    {
      "cell_type": "code",
      "metadata": {
        "colab": {
          "base_uri": "https://localhost:8080/"
        },
        "id": "8yAtQWtdZKNW",
        "outputId": "088db4d8-a3f7-47a0-b378-ab4889adc9d9"
      },
      "source": [
        "# only demonstration (summary values not important here)\n",
        "model = ARIMA(data, order=(1, 1, 1)) #(p, d, q)\n",
        "model_fit = model.fit(disp=False)\n",
        "print(model_fit.summary())"
      ],
      "execution_count": 3,
      "outputs": [
        {
          "output_type": "stream",
          "text": [
            "                             ARIMA Model Results                              \n",
            "==============================================================================\n",
            "Dep. Variable:                    D.y   No. Observations:                   99\n",
            "Model:                 ARIMA(1, 1, 1)   Log Likelihood                -128.136\n",
            "Method:                       css-mle   S.D. of innovations              0.862\n",
            "Date:                Fri, 20 Aug 2021   AIC                            264.272\n",
            "Time:                        11:51:10   BIC                            274.653\n",
            "Sample:                             1   HQIC                           268.472\n",
            "                                                                              \n",
            "==============================================================================\n",
            "                 coef    std err          z      P>|z|      [0.025      0.975]\n",
            "------------------------------------------------------------------------------\n",
            "const          0.0037      0.003      1.326      0.188      -0.002       0.009\n",
            "ar.L1.D.y     -0.0649      0.102     -0.633      0.528      -0.266       0.136\n",
            "ma.L1.D.y     -1.0000      0.028    -36.125      0.000      -1.054      -0.946\n",
            "                                    Roots                                    \n",
            "=============================================================================\n",
            "                  Real          Imaginary           Modulus         Frequency\n",
            "-----------------------------------------------------------------------------\n",
            "AR.1          -15.4066           +0.0000j           15.4066            0.5000\n",
            "MA.1            1.0000           +0.0000j            1.0000            0.0000\n",
            "-----------------------------------------------------------------------------\n"
          ],
          "name": "stdout"
        }
      ]
    },
    {
      "cell_type": "markdown",
      "metadata": {
        "id": "qhvyUqKPZi6u"
      },
      "source": [
        "## Make Prediction"
      ]
    },
    {
      "cell_type": "code",
      "metadata": {
        "colab": {
          "base_uri": "https://localhost:8080/"
        },
        "id": "5DEQ_LY7ZRMv",
        "outputId": "7cd1d237-8010-43d2-a6c2-239500acbe25"
      },
      "source": [
        "# just one prediction so start=end\n",
        "yhat = model_fit.predict(start=data.shape[0], end=data.shape[0])\n",
        "print(yhat)"
      ],
      "execution_count": 4,
      "outputs": [
        {
          "output_type": "stream",
          "text": [
            "[1.90721702]\n"
          ],
          "name": "stdout"
        }
      ]
    },
    {
      "cell_type": "code",
      "metadata": {
        "id": "7P4aMUFIZmOh"
      },
      "source": [
        ""
      ],
      "execution_count": 4,
      "outputs": []
    }
  ]
}