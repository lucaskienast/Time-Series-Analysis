{
  "nbformat": 4,
  "nbformat_minor": 0,
  "metadata": {
    "colab": {
      "name": "5) SARIMA.ipynb",
      "provenance": [],
      "collapsed_sections": []
    },
    "kernelspec": {
      "name": "python3",
      "display_name": "Python 3"
    },
    "language_info": {
      "name": "python"
    }
  },
  "cells": [
    {
      "cell_type": "markdown",
      "metadata": {
        "id": "erTbV10KZ2mj"
      },
      "source": [
        "# Univariate TS Forecasting: AutoRegressive Integrated Moving Average (ARIMA)\n",
        "\n",
        "The method is suitable for time series with trend and/or seasonal components.\n",
        "\n",
        "This method is an extension of the ARIMA model to deal with seasonal data. It models seasonal and non-seasonal components of the series separately. There are four other seasonal parameters added to this approach in addition to three trend related parameters used in the ARIMA approach.\n",
        "\n",
        "Non-seasonal parameters (same as ARIMA):\n",
        "\n",
        "- p: autoregressive order\n",
        "- d: differencing order\n",
        "- q: moving average order\n",
        "\n",
        "Seasonal parameters (not in ARIMA):\n",
        "\n",
        "- P: seasonal autoregressive order\n",
        "- D: seasonal differencing order\n",
        "- Q: seasonal moving average order"
      ]
    },
    {
      "cell_type": "markdown",
      "metadata": {
        "id": "XegosGTbaX1Z"
      },
      "source": [
        "## Import libraries"
      ]
    },
    {
      "cell_type": "code",
      "metadata": {
        "colab": {
          "base_uri": "https://localhost:8080/"
        },
        "id": "oVLF-4zHZxZr",
        "outputId": "7b11188b-6d22-4a6d-ed0d-0d363860f611"
      },
      "source": [
        "import numpy as np\n",
        "from statsmodels.tsa.statespace.sarimax import SARIMAX"
      ],
      "execution_count": 1,
      "outputs": [
        {
          "output_type": "stream",
          "text": [
            "/usr/local/lib/python3.7/dist-packages/statsmodels/tools/_testing.py:19: FutureWarning: pandas.util.testing is deprecated. Use the functions in the public API at pandas.testing instead.\n",
            "  import pandas.util.testing as tm\n"
          ],
          "name": "stderr"
        }
      ]
    },
    {
      "cell_type": "markdown",
      "metadata": {
        "id": "Oowyk6gKanq8"
      },
      "source": [
        "## Load data"
      ]
    },
    {
      "cell_type": "code",
      "metadata": {
        "colab": {
          "base_uri": "https://localhost:8080/"
        },
        "id": "feSyR1robG-0",
        "outputId": "9023d24d-19eb-41d4-dcbd-1f3d38e14ba2"
      },
      "source": [
        "# generate random data\n",
        "data = np.random.randn(100)\n",
        "data.shape"
      ],
      "execution_count": 2,
      "outputs": [
        {
          "output_type": "execute_result",
          "data": {
            "text/plain": [
              "(100,)"
            ]
          },
          "metadata": {},
          "execution_count": 2
        }
      ]
    },
    {
      "cell_type": "markdown",
      "metadata": {
        "id": "AnT07x0kbRwo"
      },
      "source": [
        "## SARIMA Model Implementation"
      ]
    },
    {
      "cell_type": "code",
      "metadata": {
        "colab": {
          "base_uri": "https://localhost:8080/"
        },
        "id": "PiqVgjrJbRQq",
        "outputId": "2a37a642-307c-40cc-fb01-789bc8995978"
      },
      "source": [
        "# only demonstration (summary values not important here)\n",
        "model = SARIMAX(data, order=(1, 1, 1), seasonal=(1, 1, 1, 1)) # (p, d, q) & (P, D, Q, s)\n",
        "model_fit = model.fit(disp=False)\n",
        "print(model_fit.summary())"
      ],
      "execution_count": 3,
      "outputs": [
        {
          "output_type": "stream",
          "text": [
            "                           Statespace Model Results                           \n",
            "==============================================================================\n",
            "Dep. Variable:                      y   No. Observations:                  100\n",
            "Model:               SARIMAX(1, 1, 1)   Log Likelihood                -149.534\n",
            "Date:                Fri, 20 Aug 2021   AIC                            305.068\n",
            "Time:                        12:01:10   BIC                            312.853\n",
            "Sample:                             0   HQIC                           308.217\n",
            "                                - 100                                         \n",
            "Covariance Type:                  opg                                         \n",
            "==============================================================================\n",
            "                 coef    std err          z      P>|z|      [0.025      0.975]\n",
            "------------------------------------------------------------------------------\n",
            "ar.L1          0.2493      0.123      2.031      0.042       0.009       0.490\n",
            "ma.L1         -0.9998      7.363     -0.136      0.892     -15.431      13.431\n",
            "sigma2         1.1523      8.457      0.136      0.892     -15.422      17.727\n",
            "===================================================================================\n",
            "Ljung-Box (Q):                       32.23   Jarque-Bera (JB):                 2.52\n",
            "Prob(Q):                              0.80   Prob(JB):                         0.28\n",
            "Heteroskedasticity (H):               1.17   Skew:                            -0.31\n",
            "Prob(H) (two-sided):                  0.65   Kurtosis:                         3.49\n",
            "===================================================================================\n",
            "\n",
            "Warnings:\n",
            "[1] Covariance matrix calculated using the outer product of gradients (complex-step).\n"
          ],
          "name": "stdout"
        }
      ]
    },
    {
      "cell_type": "markdown",
      "metadata": {
        "id": "dIxjRMbhb2EV"
      },
      "source": [
        "## Make Prediction"
      ]
    },
    {
      "cell_type": "code",
      "metadata": {
        "colab": {
          "base_uri": "https://localhost:8080/"
        },
        "id": "YNtT1B8Ubw4V",
        "outputId": "a4d6b7ca-f2b0-452c-f8d5-a6d4d29f9eee"
      },
      "source": [
        "# just one prediction so start=end\n",
        "yhat = model_fit.predict(start=data.shape[0], end=data.shape[0])\n",
        "print(yhat)"
      ],
      "execution_count": 4,
      "outputs": [
        {
          "output_type": "stream",
          "text": [
            "[-0.18682596]\n"
          ],
          "name": "stdout"
        }
      ]
    },
    {
      "cell_type": "code",
      "metadata": {
        "id": "RO1U9UrEb44V"
      },
      "source": [
        ""
      ],
      "execution_count": 4,
      "outputs": []
    }
  ]
}