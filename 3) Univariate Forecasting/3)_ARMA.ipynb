{
  "nbformat": 4,
  "nbformat_minor": 0,
  "metadata": {
    "colab": {
      "name": "3) ARMA.ipynb",
      "provenance": [],
      "collapsed_sections": []
    },
    "kernelspec": {
      "name": "python3",
      "display_name": "Python 3"
    },
    "language_info": {
      "name": "python"
    }
  },
  "cells": [
    {
      "cell_type": "markdown",
      "metadata": {
        "id": "viFNC-9iWjei"
      },
      "source": [
        "# Univariate TS Forecasting: AutoRegressive Moving Average (ARMA)\n",
        "\n",
        "The method is suitable for time series without trend and seasonal components.\n",
        "\n",
        "The Autoregressive Moving Average (ARMA) method uses the original observations and residual errors for forecasting, it as an advancement over individual AR and MA models. Therefore, this method models the next step in the sequence as a linear function of the observations and residual errors at prior time steps.\n",
        "Modelers have to specify both the parameters p and q for both components of the model, i.e., autoregressive (AR) and moving average (MA)."
      ]
    },
    {
      "cell_type": "markdown",
      "metadata": {
        "id": "F_tpaYXAXWNl"
      },
      "source": [
        "## Import libraries"
      ]
    },
    {
      "cell_type": "code",
      "metadata": {
        "colab": {
          "base_uri": "https://localhost:8080/"
        },
        "id": "Hu2yOGXEWfpj",
        "outputId": "93cce196-42cf-433a-ed44-0e822b441f54"
      },
      "source": [
        "import numpy as np\n",
        "from statsmodels.tsa.arima_model import ARMA"
      ],
      "execution_count": 1,
      "outputs": [
        {
          "output_type": "stream",
          "text": [
            "/usr/local/lib/python3.7/dist-packages/statsmodels/tools/_testing.py:19: FutureWarning: pandas.util.testing is deprecated. Use the functions in the public API at pandas.testing instead.\n",
            "  import pandas.util.testing as tm\n"
          ],
          "name": "stderr"
        }
      ]
    },
    {
      "cell_type": "markdown",
      "metadata": {
        "id": "CiKLkJoNXfHT"
      },
      "source": [
        "## Load data"
      ]
    },
    {
      "cell_type": "code",
      "metadata": {
        "colab": {
          "base_uri": "https://localhost:8080/"
        },
        "id": "fYkAubZ0Xc-F",
        "outputId": "87e40e3d-06f4-4f08-a0b9-a59f5b8415d8"
      },
      "source": [
        "# generate random data\n",
        "data = np.random.randn(100)\n",
        "data.shape"
      ],
      "execution_count": 2,
      "outputs": [
        {
          "output_type": "execute_result",
          "data": {
            "text/plain": [
              "(100,)"
            ]
          },
          "metadata": {},
          "execution_count": 2
        }
      ]
    },
    {
      "cell_type": "markdown",
      "metadata": {
        "id": "jxJBXyUOXh_Q"
      },
      "source": [
        "## ARMA Model Implementation"
      ]
    },
    {
      "cell_type": "code",
      "metadata": {
        "colab": {
          "base_uri": "https://localhost:8080/"
        },
        "id": "OsOu7e71XgKy",
        "outputId": "10a9d187-6330-4ba1-cef0-34f3099bbbcf"
      },
      "source": [
        "# only demonstration (summary values not important here)\n",
        "model = ARMA(data, order=(2, 1)) #(p, q)\n",
        "model_fit = model.fit(disp=False)\n",
        "print(model_fit.summary())"
      ],
      "execution_count": 3,
      "outputs": [
        {
          "output_type": "stream",
          "text": [
            "                              ARMA Model Results                              \n",
            "==============================================================================\n",
            "Dep. Variable:                      y   No. Observations:                  100\n",
            "Model:                     ARMA(2, 1)   Log Likelihood                -147.183\n",
            "Method:                       css-mle   S.D. of innovations              1.045\n",
            "Date:                Fri, 20 Aug 2021   AIC                            304.366\n",
            "Time:                        11:43:23   BIC                            317.391\n",
            "Sample:                             0   HQIC                           309.637\n",
            "                                                                              \n",
            "==============================================================================\n",
            "                 coef    std err          z      P>|z|      [0.025      0.975]\n",
            "------------------------------------------------------------------------------\n",
            "const         -0.0129      0.041     -0.316      0.753      -0.093       0.067\n",
            "ar.L1.y        1.1248      0.098     11.437      0.000       0.932       1.318\n",
            "ar.L2.y       -0.1975      0.100     -1.982      0.050      -0.393      -0.002\n",
            "ma.L1.y       -1.0000      0.026    -38.787      0.000      -1.051      -0.949\n",
            "                                    Roots                                    \n",
            "=============================================================================\n",
            "                  Real          Imaginary           Modulus         Frequency\n",
            "-----------------------------------------------------------------------------\n",
            "AR.1            1.1024           +0.0000j            1.1024            0.0000\n",
            "AR.2            4.5924           +0.0000j            4.5924            0.0000\n",
            "MA.1            1.0000           +0.0000j            1.0000            0.0000\n",
            "-----------------------------------------------------------------------------\n"
          ],
          "name": "stdout"
        }
      ]
    },
    {
      "cell_type": "markdown",
      "metadata": {
        "id": "Kjkt7ibsXzhk"
      },
      "source": [
        "## Make Prediction"
      ]
    },
    {
      "cell_type": "code",
      "metadata": {
        "colab": {
          "base_uri": "https://localhost:8080/"
        },
        "id": "zpPlH5SmXt2z",
        "outputId": "074a3966-513a-42d5-abd7-cec9c902c8d9"
      },
      "source": [
        "# just one prediction so start=end\n",
        "yhat = model_fit.predict(start=data.shape[0], end=data.shape[0])\n",
        "print(yhat)"
      ],
      "execution_count": 4,
      "outputs": [
        {
          "output_type": "stream",
          "text": [
            "[0.10643898]\n"
          ],
          "name": "stdout"
        }
      ]
    },
    {
      "cell_type": "code",
      "metadata": {
        "id": "GLwX7LciX0nt"
      },
      "source": [
        ""
      ],
      "execution_count": 4,
      "outputs": []
    }
  ]
}