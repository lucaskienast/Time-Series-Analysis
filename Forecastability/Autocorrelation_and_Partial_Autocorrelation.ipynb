{
  "nbformat": 4,
  "nbformat_minor": 0,
  "metadata": {
    "colab": {
      "name": "Autocorrelation and Partial Autocorrelation.ipynb",
      "provenance": [],
      "collapsed_sections": []
    },
    "kernelspec": {
      "name": "python3",
      "display_name": "Python 3"
    },
    "language_info": {
      "name": "python"
    }
  },
  "cells": [
    {
      "cell_type": "markdown",
      "metadata": {
        "id": "jCquWTir0P2m"
      },
      "source": [
        "# Autocorrelation and Partial Autocorrelation\n",
        "\n",
        "(Sourced from: https://www.machinelearningplus.com/time-series/time-series-analysis-python/)\n",
        "\n",
        "Autocorrelation is simply the correlation of a series with its own lags. If a series is significantly autocorrelated, that means, the previous values of the series (lags) may be helpful in predicting the current value.\n",
        "\n",
        "Partial Autocorrelation also conveys similar information but it conveys the pure correlation of a series and its lag, excluding the correlation contributions from the intermediate lags."
      ]
    },
    {
      "cell_type": "markdown",
      "metadata": {
        "id": "SZwAi0ys27jj"
      },
      "source": [
        "## Computation of Autocorrelation\n",
        "\n",
        "The partial autocorrelation of lag (k) of a series is the coefficient of that lag in the autoregression equation of $Y$. The autoregressive equation of $Y$ is nothing but the linear regression of $Y$ with its own lags as predictors.\n",
        "\n",
        "For Example, if $Y_{t}$ is the current series and $Y_{t-1}$ is the lag 1 of $Y$, then the partial autocorrelation of lag 3 $Y_{t-3}$ is the coefficient $\\alpha_3$ of $Y_{t-3}$ in the following equation:\n",
        "\n",
        "$Y_{t} = \\alpha_{0} + \\alpha_{1} Y_{t-1} + \\alpha_{2} Y_{t-2} + \\alpha_{3} Y_{t-3}$\n",
        "\n"
      ]
    },
    {
      "cell_type": "code",
      "metadata": {
        "colab": {
          "base_uri": "https://localhost:8080/"
        },
        "id": "cRoDGo0wtO_3",
        "outputId": "d9474d45-32a0-49f2-c48d-c411b94ea6fb"
      },
      "source": [
        "# import libraries\n",
        "import numpy as np\n",
        "import pandas as pd\n",
        "import matplotlib.pyplot as plt\n",
        "from statsmodels.tsa.stattools import acf, pacf\n",
        "from statsmodels.graphics.tsaplots import plot_acf, plot_pacf"
      ],
      "execution_count": 1,
      "outputs": [
        {
          "output_type": "stream",
          "text": [
            "/usr/local/lib/python3.7/dist-packages/statsmodels/tools/_testing.py:19: FutureWarning: pandas.util.testing is deprecated. Use the functions in the public API at pandas.testing instead.\n",
            "  import pandas.util.testing as tm\n"
          ],
          "name": "stderr"
        }
      ]
    },
    {
      "cell_type": "code",
      "metadata": {
        "colab": {
          "base_uri": "https://localhost:8080/",
          "height": 450
        },
        "id": "asHnFTA202V-",
        "outputId": "d0fb9824-f601-4f12-c14b-02185318d752"
      },
      "source": [
        "# load data\n",
        "url = \"https://raw.githubusercontent.com/selva86/datasets/master/a10.csv\"\n",
        "df = pd.read_csv(url, parse_dates=[\"date\"], index_col=\"date\")\n",
        "df"
      ],
      "execution_count": 2,
      "outputs": [
        {
          "output_type": "execute_result",
          "data": {
            "text/html": [
              "<div>\n",
              "<style scoped>\n",
              "    .dataframe tbody tr th:only-of-type {\n",
              "        vertical-align: middle;\n",
              "    }\n",
              "\n",
              "    .dataframe tbody tr th {\n",
              "        vertical-align: top;\n",
              "    }\n",
              "\n",
              "    .dataframe thead th {\n",
              "        text-align: right;\n",
              "    }\n",
              "</style>\n",
              "<table border=\"1\" class=\"dataframe\">\n",
              "  <thead>\n",
              "    <tr style=\"text-align: right;\">\n",
              "      <th></th>\n",
              "      <th>value</th>\n",
              "    </tr>\n",
              "    <tr>\n",
              "      <th>date</th>\n",
              "      <th></th>\n",
              "    </tr>\n",
              "  </thead>\n",
              "  <tbody>\n",
              "    <tr>\n",
              "      <th>1991-07-01</th>\n",
              "      <td>3.526591</td>\n",
              "    </tr>\n",
              "    <tr>\n",
              "      <th>1991-08-01</th>\n",
              "      <td>3.180891</td>\n",
              "    </tr>\n",
              "    <tr>\n",
              "      <th>1991-09-01</th>\n",
              "      <td>3.252221</td>\n",
              "    </tr>\n",
              "    <tr>\n",
              "      <th>1991-10-01</th>\n",
              "      <td>3.611003</td>\n",
              "    </tr>\n",
              "    <tr>\n",
              "      <th>1991-11-01</th>\n",
              "      <td>3.565869</td>\n",
              "    </tr>\n",
              "    <tr>\n",
              "      <th>...</th>\n",
              "      <td>...</td>\n",
              "    </tr>\n",
              "    <tr>\n",
              "      <th>2008-02-01</th>\n",
              "      <td>21.654285</td>\n",
              "    </tr>\n",
              "    <tr>\n",
              "      <th>2008-03-01</th>\n",
              "      <td>18.264945</td>\n",
              "    </tr>\n",
              "    <tr>\n",
              "      <th>2008-04-01</th>\n",
              "      <td>23.107677</td>\n",
              "    </tr>\n",
              "    <tr>\n",
              "      <th>2008-05-01</th>\n",
              "      <td>22.912510</td>\n",
              "    </tr>\n",
              "    <tr>\n",
              "      <th>2008-06-01</th>\n",
              "      <td>19.431740</td>\n",
              "    </tr>\n",
              "  </tbody>\n",
              "</table>\n",
              "<p>204 rows × 1 columns</p>\n",
              "</div>"
            ],
            "text/plain": [
              "                value\n",
              "date                 \n",
              "1991-07-01   3.526591\n",
              "1991-08-01   3.180891\n",
              "1991-09-01   3.252221\n",
              "1991-10-01   3.611003\n",
              "1991-11-01   3.565869\n",
              "...               ...\n",
              "2008-02-01  21.654285\n",
              "2008-03-01  18.264945\n",
              "2008-04-01  23.107677\n",
              "2008-05-01  22.912510\n",
              "2008-06-01  19.431740\n",
              "\n",
              "[204 rows x 1 columns]"
            ]
          },
          "metadata": {
            "tags": []
          },
          "execution_count": 2
        }
      ]
    },
    {
      "cell_type": "code",
      "metadata": {
        "colab": {
          "base_uri": "https://localhost:8080/"
        },
        "id": "aJAbQvP41IfX",
        "outputId": "f42c2d81-a81d-4b91-f586-01c761452042"
      },
      "source": [
        "# example (partial) autocorrelations up to 50 lags\n",
        "acf_50 = acf(df.loc[:, \"value\"], nlags=50)\n",
        "pacf_50 = pacf(df.loc[:, \"value\"], nlags=50)\n",
        "\n",
        "print(len(acf_50))\n",
        "print(len(pacf_50))"
      ],
      "execution_count": 3,
      "outputs": [
        {
          "output_type": "stream",
          "text": [
            "51\n",
            "51\n"
          ],
          "name": "stdout"
        },
        {
          "output_type": "stream",
          "text": [
            "/usr/local/lib/python3.7/dist-packages/statsmodels/tsa/stattools.py:541: FutureWarning: fft=True will become the default in a future version of statsmodels. To suppress this warning, explicitly set fft=False.\n",
            "  warnings.warn(msg, FutureWarning)\n"
          ],
          "name": "stderr"
        }
      ]
    },
    {
      "cell_type": "code",
      "metadata": {
        "colab": {
          "base_uri": "https://localhost:8080/",
          "height": 350
        },
        "id": "IjFVksCc1e44",
        "outputId": "cfdef20d-e6bc-4d7f-c18f-00281ad237e0"
      },
      "source": [
        "# plot (partial) autocorrelations\n",
        "fig, axes = plt.subplots(nrows=1, ncols=2, figsize=(16, 5))\n",
        "\n",
        "axes[0].set_title(\"Autocorrelation\")\n",
        "axes[0].set_xlabel('Lags')\n",
        "axes[0].set_ylabel('Autocorr. values')\n",
        "plot_acf(df.value.tolist(), lags=50, ax=axes[0])\n",
        "\n",
        "axes[1].set_title(\"Partial Autocorrelation\")\n",
        "axes[1].set_xlabel('Lags (excluding intermediates)')\n",
        "axes[1].set_ylabel('Part. Autocorr. values')\n",
        "plot_pacf(df.value.tolist(), lags=50, ax=axes[1])\n",
        "\n",
        "plt.show()"
      ],
      "execution_count": 4,
      "outputs": [
        {
          "output_type": "display_data",
          "data": {
            "image/png": "[encoded data removed]",
            "text/plain": [
              "<Figure size 1152x360 with 2 Axes>"
            ]
          },
          "metadata": {
            "tags": [],
            "needs_background": "light"
          }
        }
      ]
    },
    {
      "cell_type": "code",
      "metadata": {
        "id": "IvJFC6wg2YWw"
      },
      "source": [
        ""
      ],
      "execution_count": 4,
      "outputs": []
    }
  ]
}
