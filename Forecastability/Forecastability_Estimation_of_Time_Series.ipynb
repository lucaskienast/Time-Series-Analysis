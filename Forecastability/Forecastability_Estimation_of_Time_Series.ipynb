{
  "nbformat": 4,
  "nbformat_minor": 0,
  "metadata": {
    "colab": {
      "name": "Forecastability Estimation of Time Series.ipynb",
      "provenance": [],
      "collapsed_sections": []
    },
    "kernelspec": {
      "name": "python3",
      "display_name": "Python 3"
    },
    "language_info": {
      "name": "python"
    }
  },
  "cells": [
    {
      "cell_type": "markdown",
      "metadata": {
        "id": "Gy3KxKHg54sn"
      },
      "source": [
        "# Estimating the Forecastability of a Time Series\n",
        "\n",
        "(Sourced from: https://www.machinelearningplus.com/time-series/time-series-analysis-python/)\n",
        "\n",
        "- The more regular and repeatable patterns a time series has, the easier it is to forecast. \n",
        "\n",
        "- The ‘Approximate Entropy’ can be used to quantify the regularity and unpredictability of fluctuations in a time series. **The higher the approximate entropy, the more difficult it is to forecast it.**\n",
        "\n",
        "- Another better alternative is the ‘Sample Entropy’. Sample Entropy is similar to approximate entropy but is more consistent in estimating the complexity even for smaller time series. \n",
        "\n",
        "- For example, a random time series with fewer data points can have a lower ‘approximate entropy’ than a more ‘regular’ time series, whereas, a longer random time series will have a higher ‘approximate entropy’. Sample Entropy handles this problem nicely (see below)\n",
        "\n",
        "https://en.wikipedia.org/wiki/Approximate_entropy\n",
        "\n",
        "https://en.wikipedia.org/wiki/Sample_entropy"
      ]
    },
    {
      "cell_type": "markdown",
      "metadata": {
        "id": "A2mhg81w6_mV"
      },
      "source": [
        "## Import libraries"
      ]
    },
    {
      "cell_type": "code",
      "metadata": {
        "id": "-d6XlJao5pm4"
      },
      "source": [
        "import numpy as np\n",
        "import pandas as pd\n",
        "import sys\n",
        "import matplotlib.pyplot as plt"
      ],
      "execution_count": 1,
      "outputs": []
    },
    {
      "cell_type": "markdown",
      "metadata": {
        "id": "OBmjQkdJ7Hlw"
      },
      "source": [
        "## Load data"
      ]
    },
    {
      "cell_type": "code",
      "metadata": {
        "id": "6PGGVeYK7I2r"
      },
      "source": [
        "url = \"https://raw.githubusercontent.com/selva86/datasets/master/sunspotarea.csv\"\n",
        "sunspots_df = pd.read_csv(url, parse_dates=[\"date\"], index_col=\"date\")\n",
        "url2 = \"https://raw.githubusercontent.com/selva86/datasets/master/a10.csv\"\n",
        "a10_df = pd.read_csv(url2, parse_dates=[\"date\"], index_col=\"date\")\n",
        "\n",
        "rand_small = np.random.randint(0, 100, size=36)\n",
        "rand_big = np.random.randint(0, 100, size=136)"
      ],
      "execution_count": 2,
      "outputs": []
    },
    {
      "cell_type": "markdown",
      "metadata": {
        "id": "aFkG0Pug7DUV"
      },
      "source": [
        "## Approximate Entropy"
      ]
    },
    {
      "cell_type": "code",
      "metadata": {
        "id": "qV-gGEPM64Ol"
      },
      "source": [
        "def AproximateEntropy(U, m, r):\n",
        "    \"\"\"Compute Aproximate entropy\"\"\"\n",
        "    def _maxdist(x_i, x_j):\n",
        "        return max([abs(ua - va) for ua, va in zip(x_i, x_j)])\n",
        "\n",
        "    def _phi(m):\n",
        "        x = [[U[j] for j in range(i, i + m - 1 + 1)] for i in range(N - m + 1)]\n",
        "        C = [len([1 for x_j in x if _maxdist(x_i, x_j) <= r]) / (N - m + 1.0) for x_i in x]\n",
        "        return (N - m + 1.0)**(-1) * sum(np.log(C))\n",
        "\n",
        "    N = len(U)\n",
        "    return abs(_phi(m+1) - _phi(m))"
      ],
      "execution_count": 3,
      "outputs": []
    },
    {
      "cell_type": "code",
      "metadata": {
        "colab": {
          "base_uri": "https://localhost:8080/"
        },
        "id": "_fbTpCy08fIE",
        "outputId": "0b104e2c-62ae-49e8-8e90-46fd6eb666d2"
      },
      "source": [
        "print(AproximateEntropy(sunspots_df.value, m=2, r=0.2*np.std(sunspots_df.value)))\n",
        "print(AproximateEntropy(a10_df.value, m=2, r=0.2*np.std(a10_df.value)))\n",
        "print(AproximateEntropy(rand_small, m=2, r=0.2*np.std(rand_small)))\n",
        "print(AproximateEntropy(rand_big, m=2, r=0.2*np.std(rand_big)))"
      ],
      "execution_count": 4,
      "outputs": [
        {
          "output_type": "stream",
          "text": [
            "0.6514704970333534\n",
            "0.5374775224973489\n",
            "0.40521594801760186\n",
            "0.79382081886467\n"
          ],
          "name": "stdout"
        }
      ]
    },
    {
      "cell_type": "markdown",
      "metadata": {
        "id": "uPnkxptq8aac"
      },
      "source": [
        "## Sample Entropy"
      ]
    },
    {
      "cell_type": "code",
      "metadata": {
        "id": "OjxQJyZV7T9-"
      },
      "source": [
        "def SampleEntropy(U, m, r):\n",
        "    \"\"\"Compute Sample entropy\"\"\"\n",
        "    def _maxdist(x_i, x_j):\n",
        "        return max([abs(ua - va) for ua, va in zip(x_i, x_j)])\n",
        "\n",
        "    def _phi(m):\n",
        "        x = [[U[j] for j in range(i, i + m - 1 + 1)] for i in range(N - m + 1)]\n",
        "        C = [len([1 for j in range(len(x)) if i != j and _maxdist(x[i], x[j]) <= r]) for i in range(len(x))]\n",
        "        return sum(C)\n",
        "\n",
        "    N = len(U)\n",
        "    return -np.log(_phi(m+1) / _phi(m))"
      ],
      "execution_count": 5,
      "outputs": []
    },
    {
      "cell_type": "code",
      "metadata": {
        "colab": {
          "base_uri": "https://localhost:8080/"
        },
        "id": "mjwAvb538kei",
        "outputId": "21ecd627-a3aa-4e40-b410-084258508981"
      },
      "source": [
        "print(SampleEntropy(sunspots_df.value, m=2, r=0.2*np.std(sunspots_df.value)))\n",
        "print(SampleEntropy(a10_df.value, m=2, r=0.2*np.std(a10_df.value)))\n",
        "print(SampleEntropy(rand_small, m=2, r=0.2*np.std(rand_small)))\n",
        "print(SampleEntropy(rand_big, m=2, r=0.2*np.std(rand_big)))"
      ],
      "execution_count": 6,
      "outputs": [
        {
          "output_type": "stream",
          "text": [
            "0.7853311366380039\n",
            "0.41887013457621214\n",
            "inf\n",
            "2.2472349979108808\n"
          ],
          "name": "stdout"
        },
        {
          "output_type": "stream",
          "text": [
            "/usr/local/lib/python3.7/dist-packages/ipykernel_launcher.py:12: RuntimeWarning: divide by zero encountered in log\n",
            "  if sys.path[0] == '':\n"
          ],
          "name": "stderr"
        }
      ]
    },
    {
      "cell_type": "code",
      "metadata": {
        "id": "rXdOK9JN8tU0"
      },
      "source": [
        "del sys.path[0]"
      ],
      "execution_count": 7,
      "outputs": []
    },
    {
      "cell_type": "code",
      "metadata": {
        "id": "ghokBLFt8zwN"
      },
      "source": [
        ""
      ],
      "execution_count": 7,
      "outputs": []
    }
  ]
}
