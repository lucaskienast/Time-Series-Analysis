{
  "nbformat": 4,
  "nbformat_minor": 0,
  "metadata": {
    "colab": {
      "name": "3) Vector Autoregression (VAR).ipynb",
      "provenance": [],
      "collapsed_sections": []
    },
    "kernelspec": {
      "name": "python3",
      "display_name": "Python 3"
    },
    "language_info": {
      "name": "python"
    }
  },
  "cells": [
    {
      "cell_type": "markdown",
      "metadata": {
        "id": "uklyNlfu10cm"
      },
      "source": [
        "# Multivariate TS Forecasting: Vector Auto-Regression (VAR)\n",
        "\n",
        "It is a generalized version of the autoregression model to forecast multiple parallel stationary time series. It comprises one equation per variable in the system. The right-hand side of each equation includes a constant and lags of all of the variables in the system. There are two decisions we have to make when using a VAR to forecast, namely:\n",
        "\n",
        "- how many variables (K), and\n",
        "- how many lags (p) should be included in the system.\n",
        "\n",
        "The number of coefficients to be estimated in a VAR is equal to K+pK² (or 1+pK per equation). For example, for a VAR with K=5 variables and p=2 lags, there are 11 coefficients per equation, giving a total of 55 coefficients to be estimated. The more coefficients that need to be estimated, the larger the estimation error.\n",
        "\n",
        "Therefore, it is advisable to keep K small and include only variables that are correlated with each other, and therefore useful in forecasting each other. Information criteria are commonly used to select the number of lags (p) to be included.\n",
        "\n",
        "### Example 1: Y1 & Y2 (Lag 1)\n",
        "\n",
        "For example, the system of equations for a VAR(1) (i.e. lag 1) model with two time series (variables `Y1` and `Y2`) is as follows:\n",
        "\n",
        "$ Y_{1,t} = \\alpha_{1} + \\beta_{11,1} Y_{1,t-1} + \\beta_{12,1} Y_{2,t-1} + \\epsilon_{1,t}$\n",
        "\n",
        "$ Y_{2,t} = \\alpha_{2} + \\beta_{21,1} Y_{1,t-1} + \\beta_{22,1} Y_{2,t-1} + \\epsilon_{2,t}$\n",
        "\n",
        "\n",
        "- $Y_{1,t-1}$ & $Y_{2,t-1}$: first lag of time series $Y_1$ and $Y_2$\n",
        "- The above equation is referred to as a VAR(1) model, because, each equation is of order 1, that is, it contains up to one lag of each of the predictors (Y1 and Y2).\n",
        "- Since the Y terms in the equations are interrelated, the Y’s are considered as endogenous variables, rather than as exogenous predictors.\n",
        "\n",
        "### Example 2: Y1, Y2, & Y3 (Lag 2)\n",
        "\n",
        "$ Y_{1,t} = \\alpha_{1} + \\beta_{11,1} Y_{1,t-1} + \\beta_{12,1} Y_{2,t-1} + \\beta_{13,1} Y_{3,t-1} + \\beta_{11,2} Y_{1,t-2} + \\beta_{12,2} Y_{2,t-2} + \\beta_{13,2} Y_{3,t-2} + \\epsilon_{1,t}$\n",
        "\n",
        "$ Y_{2,t} = \\alpha_{2} + \\beta_{21,1} Y_{1,t-1} + \\beta_{22,1} Y_{2,t-1} + \\beta_{23,1} Y_{3,t-1} + \\beta_{21,2} Y_{1,t-2} + \\beta_{22,2} Y_{2,t-2} + \\beta_{23,2} Y_{3,t-2} + \\epsilon_{2,t}$\n",
        "\n",
        "$ Y_{3,t} = \\alpha_{3} + \\beta_{31,1} Y_{1,t-1} + \\beta_{32,1} Y_{2,t-1} + \\beta_{33,1} Y_{3,t-1} + \\beta_{31,2} Y_{1,t-2} + \\beta_{32,2} Y_{2,t-2} + \\beta_{33,2} Y_{3,t-2} + \\epsilon_{3,t}$\n",
        "\n",
        "The VAR can also be implemented using VARMAX function in Statsmodels which allows estimation of VAR, VMA, VARMA, and VARMAX models through the order argument."
      ]
    },
    {
      "cell_type": "markdown",
      "metadata": {
        "id": "EMBqC3x-3g2M"
      },
      "source": [
        "## Import libraries"
      ]
    },
    {
      "cell_type": "code",
      "metadata": {
        "colab": {
          "base_uri": "https://localhost:8080/"
        },
        "id": "GMW54fdt1pWE",
        "outputId": "cf84b1dd-b963-443b-d48d-a0b28ebfaedf"
      },
      "source": [
        "import numpy as np\n",
        "from statsmodels.tsa.vector_ar.var_model import VAR"
      ],
      "execution_count": 1,
      "outputs": [
        {
          "output_type": "stream",
          "text": [
            "/usr/local/lib/python3.7/dist-packages/statsmodels/tools/_testing.py:19: FutureWarning: pandas.util.testing is deprecated. Use the functions in the public API at pandas.testing instead.\n",
            "  import pandas.util.testing as tm\n"
          ],
          "name": "stderr"
        }
      ]
    },
    {
      "cell_type": "markdown",
      "metadata": {
        "id": "WxOsLG_435_T"
      },
      "source": [
        "## Load data"
      ]
    },
    {
      "cell_type": "code",
      "metadata": {
        "colab": {
          "base_uri": "https://localhost:8080/"
        },
        "id": "8P8VGmvl3vVh",
        "outputId": "5a33da4e-bf13-472a-feb9-9d1b0966ffd9"
      },
      "source": [
        "# generate random data\n",
        "v1 = np.arange(10) + np.random.normal(loc=1, scale=0.5, size=10)\n",
        "v2 = v1 + np.random.normal(loc=1, scale=0.5, size=10)\n",
        "data = np.column_stack((v1, v2))\n",
        "data"
      ],
      "execution_count": 2,
      "outputs": [
        {
          "output_type": "execute_result",
          "data": {
            "text/plain": [
              "array([[0.71351521, 1.96163036],\n",
              "       [1.86483075, 2.21992456],\n",
              "       [3.2339081 , 4.14695737],\n",
              "       [4.04250609, 5.60739667],\n",
              "       [4.97257699, 5.93527076],\n",
              "       [5.33924381, 6.32092579],\n",
              "       [6.44514184, 6.86437087],\n",
              "       [8.00074845, 9.00373449],\n",
              "       [8.25558248, 8.80281284],\n",
              "       [9.67540189, 9.96447416]])"
            ]
          },
          "metadata": {},
          "execution_count": 2
        }
      ]
    },
    {
      "cell_type": "markdown",
      "metadata": {
        "id": "cXzwdrre5BJz"
      },
      "source": [
        "## VAR Model Implementation"
      ]
    },
    {
      "cell_type": "code",
      "metadata": {
        "colab": {
          "base_uri": "https://localhost:8080/"
        },
        "id": "BOEyu5WY4b7b",
        "outputId": "281244d2-7aa6-4eb2-ff1a-bc7f569f1567"
      },
      "source": [
        "# only demonstration (summary values not important here)\n",
        "model = VAR(data)\n",
        "model_fit = model.fit()\n",
        "print(model_fit.summary())"
      ],
      "execution_count": 3,
      "outputs": [
        {
          "output_type": "stream",
          "text": [
            "  Summary of Regression Results   \n",
            "==================================\n",
            "Model:                         VAR\n",
            "Method:                        OLS\n",
            "Date:           Fri, 20, Aug, 2021\n",
            "Time:                     14:16:04\n",
            "--------------------------------------------------------------------\n",
            "No. of Equations:         2.00000    BIC:                   -2.74096\n",
            "Nobs:                     9.00000    HQIC:                  -3.15619\n",
            "Log likelihood:          -6.61488    FPE:                  0.0596366\n",
            "AIC:                     -2.87245    Det(Omega_mle):       0.0335456\n",
            "--------------------------------------------------------------------\n",
            "Results for equation y1\n",
            "========================================================================\n",
            "           coefficient       std. error           t-stat            prob\n",
            "------------------------------------------------------------------------\n",
            "const         1.830064         0.526112            3.478           0.001\n",
            "L1.y1         1.613919         0.386988            4.170           0.000\n",
            "L1.y2        -0.665045         0.397198           -1.674           0.094\n",
            "========================================================================\n",
            "\n",
            "Results for equation y2\n",
            "========================================================================\n",
            "           coefficient       std. error           t-stat            prob\n",
            "------------------------------------------------------------------------\n",
            "const         2.946636         0.620288            4.750           0.000\n",
            "L1.y1         1.693198         0.456260            3.711           0.000\n",
            "L1.y2        -0.791104         0.468297           -1.689           0.091\n",
            "========================================================================\n",
            "\n",
            "Correlation matrix of residuals\n",
            "            y1        y2\n",
            "y1    1.000000  0.532084\n",
            "y2    0.532084  1.000000\n",
            "\n",
            "\n",
            "\n"
          ],
          "name": "stdout"
        }
      ]
    },
    {
      "cell_type": "markdown",
      "metadata": {
        "id": "ZZpdVv336E-0"
      },
      "source": [
        "## Make Prediction"
      ]
    },
    {
      "cell_type": "code",
      "metadata": {
        "colab": {
          "base_uri": "https://localhost:8080/"
        },
        "id": "pPNdtOEd5S4j",
        "outputId": "6bb21548-f94a-4cdc-d10f-30878217f159"
      },
      "source": [
        "# just one prediction so start=end\n",
        "yhat = model_fit.forecast(model_fit.y, steps=1)\n",
        "print(yhat)"
      ],
      "execution_count": 4,
      "outputs": [
        {
          "output_type": "stream",
          "text": [
            "[[10.81855508 11.44606767]]\n"
          ],
          "name": "stdout"
        },
        {
          "output_type": "stream",
          "text": [
            "/usr/local/lib/python3.7/dist-packages/statsmodels/base/wrapper.py:35: FutureWarning: y is a deprecated alias for endog, will be removed in version 0.11.0\n",
            "  obj = getattr(results, attr)\n"
          ],
          "name": "stderr"
        }
      ]
    },
    {
      "cell_type": "code",
      "metadata": {
        "id": "Bq16cQWU6TBp"
      },
      "source": [
        ""
      ],
      "execution_count": 4,
      "outputs": []
    }
  ]
}