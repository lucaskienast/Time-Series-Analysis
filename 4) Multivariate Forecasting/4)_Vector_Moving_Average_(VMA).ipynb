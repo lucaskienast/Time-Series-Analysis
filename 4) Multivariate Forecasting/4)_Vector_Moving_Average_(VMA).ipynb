{
  "nbformat": 4,
  "nbformat_minor": 0,
  "metadata": {
    "colab": {
      "name": "4) Vector Moving Average (VMA).ipynb",
      "provenance": [],
      "collapsed_sections": []
    },
    "kernelspec": {
      "name": "python3",
      "display_name": "Python 3"
    },
    "language_info": {
      "name": "python"
    }
  },
  "cells": [
    {
      "cell_type": "markdown",
      "metadata": {
        "id": "M4RYzQCa7Iud"
      },
      "source": [
        "# Multivariate TS Forecasting: Vector Moving Average (VMA)\n",
        "\n",
        "It is a generalized version of the moving average model to forecast multiple parallel stationary time series."
      ]
    },
    {
      "cell_type": "markdown",
      "metadata": {
        "id": "69F50G_f7Rcv"
      },
      "source": [
        "## Import libraries"
      ]
    },
    {
      "cell_type": "code",
      "metadata": {
        "colab": {
          "base_uri": "https://localhost:8080/"
        },
        "id": "-2X-axLd616P",
        "outputId": "6887aa18-8764-40a3-8a7e-48d49d7e2db0"
      },
      "source": [
        "import numpy as np\n",
        "from statsmodels.tsa.statespace.varmax import VARMAX"
      ],
      "execution_count": 1,
      "outputs": [
        {
          "output_type": "stream",
          "text": [
            "/usr/local/lib/python3.7/dist-packages/statsmodels/tools/_testing.py:19: FutureWarning: pandas.util.testing is deprecated. Use the functions in the public API at pandas.testing instead.\n",
            "  import pandas.util.testing as tm\n"
          ],
          "name": "stderr"
        }
      ]
    },
    {
      "cell_type": "markdown",
      "metadata": {
        "id": "1EMTm-Kl7ToQ"
      },
      "source": [
        "## Load data"
      ]
    },
    {
      "cell_type": "code",
      "metadata": {
        "colab": {
          "base_uri": "https://localhost:8080/"
        },
        "id": "I5HbMMtQ7TCY",
        "outputId": "3ec7a751-ebf9-4b32-d3dd-0b2c57abe558"
      },
      "source": [
        "# generate random data\n",
        "v1 = np.arange(10) + np.random.normal(loc=1, scale=0.5, size=10)\n",
        "v2 = v1 + np.random.normal(loc=1, scale=0.5, size=10)\n",
        "data = np.column_stack((v1, v2))\n",
        "data"
      ],
      "execution_count": 2,
      "outputs": [
        {
          "output_type": "execute_result",
          "data": {
            "text/plain": [
              "array([[ 0.34395031,  1.41721086],\n",
              "       [ 1.42062373,  2.4364486 ],\n",
              "       [ 2.46958889,  1.83157315],\n",
              "       [ 4.25179498,  4.54262331],\n",
              "       [ 4.57929438,  5.35630071],\n",
              "       [ 6.57168231,  7.4247552 ],\n",
              "       [ 7.20365771,  8.6782438 ],\n",
              "       [ 8.17015991,  9.51480364],\n",
              "       [ 9.64264282, 10.54303481],\n",
              "       [10.52859409, 11.36190268]])"
            ]
          },
          "metadata": {},
          "execution_count": 2
        }
      ]
    },
    {
      "cell_type": "markdown",
      "metadata": {
        "id": "_O8u29Uc7XsJ"
      },
      "source": [
        "## VMA Model Implementation"
      ]
    },
    {
      "cell_type": "code",
      "metadata": {
        "colab": {
          "base_uri": "https://localhost:8080/"
        },
        "id": "9d_cQUfD7W1l",
        "outputId": "43552044-6b46-469d-bb5b-97ba3b1ec6b5"
      },
      "source": [
        "# only demonstration (summary values not important here)\n",
        "model = VARMAX(data, order=(0, 1)) # set p(AR) = 0 \n",
        "model_fit = model.fit(disp=False)\n",
        "print(model_fit.summary())"
      ],
      "execution_count": 3,
      "outputs": [
        {
          "output_type": "stream",
          "text": [
            "                           Statespace Model Results                           \n",
            "==============================================================================\n",
            "Dep. Variable:           ['y1', 'y2']   No. Observations:                   10\n",
            "Model:                         VMA(1)   Log Likelihood                 -28.694\n",
            "                          + intercept   AIC                             75.388\n",
            "Date:                Fri, 20 Aug 2021   BIC                             78.111\n",
            "Time:                        14:22:34   HQIC                            72.401\n",
            "Sample:                             0                                         \n",
            "                                 - 10                                         \n",
            "Covariance Type:                  opg                                         \n",
            "===================================================================================\n",
            "Ljung-Box (Q):                         nan   Jarque-Bera (JB):           0.50, 6.03\n",
            "Prob(Q):                               nan   Prob(JB):                   0.78, 0.05\n",
            "Heteroskedasticity (H):         1.08, 0.08   Skew:                     -0.43, -1.60\n",
            "Prob(H) (two-sided):            0.95, 0.07   Kurtosis:                   2.32, 5.05\n",
            "                           Results for equation y1                            \n",
            "==============================================================================\n",
            "                 coef    std err          z      P>|z|      [0.025      0.975]\n",
            "------------------------------------------------------------------------------\n",
            "intercept      5.4502      2.670      2.041      0.041       0.217      10.684\n",
            "L1.e(y1)       1.3681     16.905      0.081      0.935     -31.765      34.502\n",
            "L1.e(y2)      -0.3468     25.857     -0.013      0.989     -51.026      50.332\n",
            "                           Results for equation y2                            \n",
            "==============================================================================\n",
            "                 coef    std err          z      P>|z|      [0.025      0.975]\n",
            "------------------------------------------------------------------------------\n",
            "intercept      6.3644      4.726      1.347      0.178      -2.898      15.627\n",
            "L1.e(y1)       0.8221     21.924      0.037      0.970     -42.149      43.793\n",
            "L1.e(y2)       0.4839     30.104      0.016      0.987     -58.518      59.486\n",
            "                             Error covariance matrix                              \n",
            "==================================================================================\n",
            "                     coef    std err          z      P>|z|      [0.025      0.975]\n",
            "----------------------------------------------------------------------------------\n",
            "sqrt.var.y1        1.8803      3.087      0.609      0.542      -4.170       7.930\n",
            "sqrt.cov.y1.y2     1.6609      2.951      0.563      0.574      -4.123       7.445\n",
            "sqrt.var.y2        0.4034      3.603      0.112      0.911      -6.659       7.466\n",
            "==================================================================================\n",
            "\n",
            "Warnings:\n",
            "[1] Covariance matrix calculated using the outer product of gradients (complex-step).\n"
          ],
          "name": "stdout"
        },
        {
          "output_type": "stream",
          "text": [
            "/usr/local/lib/python3.7/dist-packages/statsmodels/base/model.py:512: ConvergenceWarning: Maximum Likelihood optimization failed to converge. Check mle_retvals\n",
            "  \"Check mle_retvals\", ConvergenceWarning)\n"
          ],
          "name": "stderr"
        }
      ]
    },
    {
      "cell_type": "markdown",
      "metadata": {
        "id": "Z2AUu_MZ8EjH"
      },
      "source": [
        "## Make Prediction"
      ]
    },
    {
      "cell_type": "code",
      "metadata": {
        "colab": {
          "base_uri": "https://localhost:8080/"
        },
        "id": "DdxEdTpA7xs2",
        "outputId": "1c693944-3f5b-4cde-90b4-f9459ba92bf8"
      },
      "source": [
        "# just one prediction so steps=1\n",
        "yhat = model_fit.forecast(steps=1)\n",
        "print(yhat)"
      ],
      "execution_count": 4,
      "outputs": [
        {
          "output_type": "stream",
          "text": [
            "[[8.37984121 9.8590812 ]]\n"
          ],
          "name": "stdout"
        }
      ]
    },
    {
      "cell_type": "code",
      "metadata": {
        "id": "vdseQtuF8Lx1"
      },
      "source": [
        ""
      ],
      "execution_count": 4,
      "outputs": []
    }
  ]
}
