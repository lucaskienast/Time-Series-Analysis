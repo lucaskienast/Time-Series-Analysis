{
  "nbformat": 4,
  "nbformat_minor": 0,
  "metadata": {
    "colab": {
      "name": "5) VARMA.ipynb",
      "provenance": [],
      "collapsed_sections": [],
      "authorship_tag": "ABX9TyNzAFGH26hQeFsaX+grmxiF"
    },
    "kernelspec": {
      "name": "python3",
      "display_name": "Python 3"
    },
    "language_info": {
      "name": "python"
    }
  },
  "cells": [
    {
      "cell_type": "markdown",
      "metadata": {
        "id": "B7Hd4mii8yAH"
      },
      "source": [
        "# Multivariate TS Forecasting: Vector Auto-Regressive Moving Average (VARMA)\n",
        "\n",
        "It is the combination of VAR and VMA and a generalized version of the ARMA model to forecast multiple parallel stationary time series. This method requires ‘p’ and ‘q’ parameters and is also capable of acting like a VAR model by setting the ‘q’ parameter as 0 and as a VMA model by setting the ‘p’ parameter as 0."
      ]
    },
    {
      "cell_type": "markdown",
      "metadata": {
        "id": "Lyyeuode9Ogj"
      },
      "source": [
        "## Import libraries"
      ]
    },
    {
      "cell_type": "code",
      "metadata": {
        "colab": {
          "base_uri": "https://localhost:8080/"
        },
        "id": "InfImHL_8jTb",
        "executionInfo": {
          "status": "ok",
          "timestamp": 1629475732476,
          "user_tz": -120,
          "elapsed": 1107,
          "user": {
            "displayName": "Max Lucas Kienast",
            "photoUrl": "",
            "userId": "18136220580306165387"
          }
        },
        "outputId": "0c9ccf33-5aa7-4dfd-dc3a-20bfa19d2d38"
      },
      "source": [
        "import numpy as np\n",
        "from statsmodels.tsa.statespace.varmax import VARMAX"
      ],
      "execution_count": 1,
      "outputs": [
        {
          "output_type": "stream",
          "text": [
            "/usr/local/lib/python3.7/dist-packages/statsmodels/tools/_testing.py:19: FutureWarning: pandas.util.testing is deprecated. Use the functions in the public API at pandas.testing instead.\n",
            "  import pandas.util.testing as tm\n"
          ],
          "name": "stderr"
        }
      ]
    },
    {
      "cell_type": "markdown",
      "metadata": {
        "id": "pI23Nqu39s19"
      },
      "source": [
        "## Load data"
      ]
    },
    {
      "cell_type": "code",
      "metadata": {
        "colab": {
          "base_uri": "https://localhost:8080/"
        },
        "id": "Ogtvr3vQ9ZX0",
        "executionInfo": {
          "status": "ok",
          "timestamp": 1629475732478,
          "user_tz": -120,
          "elapsed": 7,
          "user": {
            "displayName": "Max Lucas Kienast",
            "photoUrl": "",
            "userId": "18136220580306165387"
          }
        },
        "outputId": "7e6b1915-2fb0-4b95-c3af-c0ee385132a3"
      },
      "source": [
        "# generate random data\n",
        "v1 = np.arange(10) + np.random.normal(loc=0, scale=0.5, size=10)\n",
        "v2 = v1 + np.random.normal(loc=0, scale=0.5, size=10)\n",
        "data = np.column_stack((v1, v2))\n",
        "data"
      ],
      "execution_count": 2,
      "outputs": [
        {
          "output_type": "execute_result",
          "data": {
            "text/plain": [
              "array([[-0.0512598 , -1.46643118],\n",
              "       [ 1.33005568,  1.51180118],\n",
              "       [ 1.44985039,  2.19399048],\n",
              "       [ 3.31232613,  3.15403416],\n",
              "       [ 4.62204113,  4.50119176],\n",
              "       [ 4.48746369,  4.01985253],\n",
              "       [ 5.22156181,  5.61722727],\n",
              "       [ 7.29072135,  7.92714533],\n",
              "       [ 7.18486711,  7.35179516],\n",
              "       [ 9.13051787,  9.31848619]])"
            ]
          },
          "metadata": {},
          "execution_count": 2
        }
      ]
    },
    {
      "cell_type": "markdown",
      "metadata": {
        "id": "u1oAFhws9_r2"
      },
      "source": [
        "## VARMA Model Implementation"
      ]
    },
    {
      "cell_type": "code",
      "metadata": {
        "colab": {
          "base_uri": "https://localhost:8080/"
        },
        "id": "aEvwjP7y903E",
        "executionInfo": {
          "status": "ok",
          "timestamp": 1629475733569,
          "user_tz": -120,
          "elapsed": 1095,
          "user": {
            "displayName": "Max Lucas Kienast",
            "photoUrl": "",
            "userId": "18136220580306165387"
          }
        },
        "outputId": "41ca8d89-d68b-4ffe-a640-9055e7745750"
      },
      "source": [
        "# only demonstration (summary values not important here)\n",
        "model = VARMAX(data, order=(1, 1)) #(p, q) \n",
        "model_fit = model.fit(disp=False)\n",
        "print(model_fit.summary())"
      ],
      "execution_count": 3,
      "outputs": [
        {
          "output_type": "stream",
          "text": [
            "/usr/local/lib/python3.7/dist-packages/statsmodels/tsa/statespace/varmax.py:159: EstimationWarning: Estimation of VARMA(p,q) models is not generically robust, due especially to identification issues.\n",
            "  EstimationWarning)\n"
          ],
          "name": "stderr"
        },
        {
          "output_type": "stream",
          "text": [
            "                           Statespace Model Results                           \n",
            "==============================================================================\n",
            "Dep. Variable:           ['y1', 'y2']   No. Observations:                   10\n",
            "Model:                     VARMA(1,1)   Log Likelihood                 -19.722\n",
            "                          + intercept   AIC                             65.443\n",
            "Date:                Fri, 20 Aug 2021   BIC                             69.377\n",
            "Time:                        16:08:53   HQIC                            61.128\n",
            "Sample:                             0                                         \n",
            "                                 - 10                                         \n",
            "Covariance Type:                  opg                                         \n",
            "===================================================================================\n",
            "Ljung-Box (Q):                         nan   Jarque-Bera (JB):           0.66, 0.73\n",
            "Prob(Q):                               nan   Prob(JB):                   0.72, 0.69\n",
            "Heteroskedasticity (H):         0.38, 1.32   Skew:                      -0.26, 0.24\n",
            "Prob(H) (two-sided):            0.45, 0.83   Kurtosis:                   1.85, 1.76\n",
            "                           Results for equation y1                            \n",
            "==============================================================================\n",
            "                 coef    std err          z      P>|z|      [0.025      0.975]\n",
            "------------------------------------------------------------------------------\n",
            "intercept      1.3094      0.324      4.038      0.000       0.674       1.945\n",
            "L1.y1         -0.2061      0.809     -0.255      0.799      -1.792       1.380\n",
            "L1.y2          1.0362      0.633      1.637      0.102      -0.204       2.277\n",
            "L1.e(y1)      -1.4442      0.650     -2.221      0.026      -2.719      -0.170\n",
            "L1.e(y2)       0.9976      0.278      3.585      0.000       0.452       1.543\n",
            "                           Results for equation y2                            \n",
            "==============================================================================\n",
            "                 coef    std err          z      P>|z|      [0.025      0.975]\n",
            "------------------------------------------------------------------------------\n",
            "intercept      1.5014      0.416      3.608      0.000       0.686       2.317\n",
            "L1.y1         -0.5731      0.187     -3.060      0.002      -0.940      -0.206\n",
            "L1.y2          1.3277      0.373      3.560      0.000       0.597       2.059\n",
            "L1.e(y1)      -1.5797      0.277     -5.695      0.000      -2.123      -1.036\n",
            "L1.e(y2)       1.4413      0.495      2.910      0.004       0.471       2.412\n",
            "                             Error covariance matrix                              \n",
            "==================================================================================\n",
            "                     coef    std err          z      P>|z|      [0.025      0.975]\n",
            "----------------------------------------------------------------------------------\n",
            "sqrt.var.y1        0.9460      0.526      1.799      0.072      -0.085       1.977\n",
            "sqrt.cov.y1.y2     1.3668      0.562      2.433      0.015       0.266       2.468\n",
            "sqrt.var.y2        0.3269      0.372      0.879      0.379      -0.402       1.056\n",
            "==================================================================================\n",
            "\n",
            "Warnings:\n",
            "[1] Covariance matrix calculated using the outer product of gradients (complex-step).\n",
            "[2] Covariance matrix is singular or near-singular, with condition number 4.65e+17. Standard errors may be unstable.\n"
          ],
          "name": "stdout"
        },
        {
          "output_type": "stream",
          "text": [
            "/usr/local/lib/python3.7/dist-packages/statsmodels/base/model.py:512: ConvergenceWarning: Maximum Likelihood optimization failed to converge. Check mle_retvals\n",
            "  \"Check mle_retvals\", ConvergenceWarning)\n"
          ],
          "name": "stderr"
        }
      ]
    },
    {
      "cell_type": "markdown",
      "metadata": {
        "id": "ffbDXlMJ-jwW"
      },
      "source": [
        "## Make Prediction"
      ]
    },
    {
      "cell_type": "code",
      "metadata": {
        "colab": {
          "base_uri": "https://localhost:8080/"
        },
        "id": "acd6E6SA-QP8",
        "executionInfo": {
          "status": "ok",
          "timestamp": 1629475733569,
          "user_tz": -120,
          "elapsed": 6,
          "user": {
            "displayName": "Max Lucas Kienast",
            "photoUrl": "",
            "userId": "18136220580306165387"
          }
        },
        "outputId": "6ecf3583-1198-403b-aa7f-734109b1c530"
      },
      "source": [
        "# just one prediction so step=1\n",
        "yhat = model_fit.forecast(steps=1)\n",
        "print(yhat)"
      ],
      "execution_count": 4,
      "outputs": [
        {
          "output_type": "stream",
          "text": [
            "/usr/local/lib/python3.7/dist-packages/statsmodels/tsa/statespace/varmax.py:159: EstimationWarning: Estimation of VARMA(p,q) models is not generically robust, due especially to identification issues.\n",
            "  EstimationWarning)\n"
          ],
          "name": "stderr"
        },
        {
          "output_type": "stream",
          "text": [
            "[[9.07368415 9.29713596]]\n"
          ],
          "name": "stdout"
        }
      ]
    },
    {
      "cell_type": "code",
      "metadata": {
        "id": "72en4r-u-vE9",
        "executionInfo": {
          "status": "ok",
          "timestamp": 1629475733570,
          "user_tz": -120,
          "elapsed": 5,
          "user": {
            "displayName": "Max Lucas Kienast",
            "photoUrl": "",
            "userId": "18136220580306165387"
          }
        }
      },
      "source": [
        ""
      ],
      "execution_count": 4,
      "outputs": []
    }
  ]
}
