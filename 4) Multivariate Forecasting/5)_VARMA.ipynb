{
  "nbformat": 4,
  "nbformat_minor": 0,
  "metadata": {
    "colab": {
      "name": "5) VARMA.ipynb",
      "provenance": [],
      "collapsed_sections": []
    },
    "kernelspec": {
      "name": "python3",
      "display_name": "Python 3"
    },
    "language_info": {
      "name": "python"
    }
  },
  "cells": [
    {
      "cell_type": "markdown",
      "metadata": {
        "id": "B7Hd4mii8yAH"
      },
      "source": [
        "# Multivariate TS Forecasting: Vector Auto-Regressive Moving Average (VARMA)\n",
        "\n",
        "It is the combination of VAR and VMA and a generalized version of the ARMA model to forecast multiple parallel stationary time series. This method requires ‘p’ and ‘q’ parameters and is also capable of acting like a VAR model by setting the ‘q’ parameter as 0 and as a VMA model by setting the ‘p’ parameter as 0."
      ]
    },
    {
      "cell_type": "markdown",
      "metadata": {
        "id": "Lyyeuode9Ogj"
      },
      "source": [
        "## Import libraries"
      ]
    },
    {
      "cell_type": "code",
      "metadata": {
        "colab": {
          "base_uri": "https://localhost:8080/"
        },
        "id": "InfImHL_8jTb",
        "outputId": "9aabb11c-7093-4d34-d05b-fd4acbc3ef64"
      },
      "source": [
        "import numpy as np\n",
        "from statsmodels.tsa.statespace.varmax import VARMAX"
      ],
      "execution_count": 1,
      "outputs": [
        {
          "output_type": "stream",
          "text": [
            "/usr/local/lib/python3.7/dist-packages/statsmodels/tools/_testing.py:19: FutureWarning: pandas.util.testing is deprecated. Use the functions in the public API at pandas.testing instead.\n",
            "  import pandas.util.testing as tm\n"
          ],
          "name": "stderr"
        }
      ]
    },
    {
      "cell_type": "markdown",
      "metadata": {
        "id": "pI23Nqu39s19"
      },
      "source": [
        "## Load data"
      ]
    },
    {
      "cell_type": "code",
      "metadata": {
        "colab": {
          "base_uri": "https://localhost:8080/"
        },
        "id": "Ogtvr3vQ9ZX0",
        "outputId": "6481748c-7d55-4ac8-a5a6-5d35d423afd6"
      },
      "source": [
        "# generate random data\n",
        "v1 = np.arange(10) + np.random.normal(loc=1, scale=0.5, size=10)\n",
        "v2 = v1 + np.random.normal(loc=1, scale=0.5, size=10)\n",
        "data = np.column_stack((v1, v2))\n",
        "data"
      ],
      "execution_count": 2,
      "outputs": [
        {
          "output_type": "execute_result",
          "data": {
            "text/plain": [
              "array([[ 1.30739822,  2.328452  ],\n",
              "       [ 2.4878831 ,  3.79605728],\n",
              "       [ 2.44013209,  2.92086599],\n",
              "       [ 4.01350503,  4.85882108],\n",
              "       [ 5.37399457,  5.94392868],\n",
              "       [ 5.5775185 ,  6.77173543],\n",
              "       [ 7.04683684,  8.39932226],\n",
              "       [ 8.3210884 ,  9.57508585],\n",
              "       [ 9.99008675, 11.05748438],\n",
              "       [10.31283185, 11.51640235]])"
            ]
          },
          "metadata": {},
          "execution_count": 2
        }
      ]
    },
    {
      "cell_type": "markdown",
      "metadata": {
        "id": "u1oAFhws9_r2"
      },
      "source": [
        "## VARMA Model Implementation"
      ]
    },
    {
      "cell_type": "code",
      "metadata": {
        "colab": {
          "base_uri": "https://localhost:8080/"
        },
        "id": "aEvwjP7y903E",
        "outputId": "c2f5a712-4586-43b8-c408-e8b2235ab7a0"
      },
      "source": [
        "# only demonstration (summary values not important here)\n",
        "model = VARMAX(data, order=(1, 1)) #(p, q) \n",
        "model_fit = model.fit(disp=False)\n",
        "print(model_fit.summary())"
      ],
      "execution_count": 3,
      "outputs": [
        {
          "output_type": "stream",
          "text": [
            "/usr/local/lib/python3.7/dist-packages/statsmodels/tsa/statespace/varmax.py:159: EstimationWarning: Estimation of VARMA(p,q) models is not generically robust, due especially to identification issues.\n",
            "  EstimationWarning)\n"
          ],
          "name": "stderr"
        },
        {
          "output_type": "stream",
          "text": [
            "                           Statespace Model Results                           \n",
            "==============================================================================\n",
            "Dep. Variable:           ['y1', 'y2']   No. Observations:                   10\n",
            "Model:                     VARMA(1,1)   Log Likelihood                 -14.241\n",
            "                          + intercept   AIC                             54.483\n",
            "Date:                Fri, 20 Aug 2021   BIC                             58.417\n",
            "Time:                        14:33:27   HQIC                            50.168\n",
            "Sample:                             0                                         \n",
            "                                 - 10                                         \n",
            "Covariance Type:                  opg                                         \n",
            "===================================================================================\n",
            "Ljung-Box (Q):                         nan   Jarque-Bera (JB):           0.93, 0.41\n",
            "Prob(Q):                               nan   Prob(JB):                   0.63, 0.82\n",
            "Heteroskedasticity (H):         2.14, 3.42   Skew:                      -0.51, 0.09\n",
            "Prob(H) (two-sided):            0.55, 0.34   Kurtosis:                   1.90, 2.03\n",
            "                           Results for equation y1                            \n",
            "==============================================================================\n",
            "                 coef    std err          z      P>|z|      [0.025      0.975]\n",
            "------------------------------------------------------------------------------\n",
            "intercept      0.6457      0.772      0.836      0.403      -0.868       2.159\n",
            "L1.y1          1.4641      0.854      1.714      0.087      -0.210       3.139\n",
            "L1.y2         -0.4885      0.848     -0.576      0.565      -2.151       1.174\n",
            "L1.e(y1)       0.4475      0.941      0.476      0.634      -1.396       2.291\n",
            "L1.e(y2)      -0.2883      1.001     -0.288      0.773      -2.250       1.673\n",
            "                           Results for equation y2                            \n",
            "==============================================================================\n",
            "                 coef    std err          z      P>|z|      [0.025      0.975]\n",
            "------------------------------------------------------------------------------\n",
            "intercept      1.2067      0.671      1.798      0.072      -0.109       2.522\n",
            "L1.y1          1.5539      1.613      0.964      0.335      -1.607       4.715\n",
            "L1.y2         -0.4579      1.507     -0.304      0.761      -3.411       2.496\n",
            "L1.e(y1)       0.7537      1.844      0.409      0.683      -2.861       4.368\n",
            "L1.e(y2)      -0.8753      1.784     -0.491      0.624      -4.372       2.621\n",
            "                             Error covariance matrix                              \n",
            "==================================================================================\n",
            "                     coef    std err          z      P>|z|      [0.025      0.975]\n",
            "----------------------------------------------------------------------------------\n",
            "sqrt.var.y1        1.4620      0.927      1.577      0.115      -0.355       3.279\n",
            "sqrt.cov.y1.y2     1.5338      0.854      1.797      0.072      -0.139       3.207\n",
            "sqrt.var.y2        0.1569      0.134      1.169      0.243      -0.106       0.420\n",
            "==================================================================================\n",
            "\n",
            "Warnings:\n",
            "[1] Covariance matrix calculated using the outer product of gradients (complex-step).\n",
            "[2] Covariance matrix is singular or near-singular, with condition number 3.45e+17. Standard errors may be unstable.\n"
          ],
          "name": "stdout"
        },
        {
          "output_type": "stream",
          "text": [
            "/usr/local/lib/python3.7/dist-packages/statsmodels/base/model.py:512: ConvergenceWarning: Maximum Likelihood optimization failed to converge. Check mle_retvals\n",
            "  \"Check mle_retvals\", ConvergenceWarning)\n"
          ],
          "name": "stderr"
        }
      ]
    },
    {
      "cell_type": "markdown",
      "metadata": {
        "id": "ffbDXlMJ-jwW"
      },
      "source": [
        "## Make Prediction"
      ]
    },
    {
      "cell_type": "code",
      "metadata": {
        "colab": {
          "base_uri": "https://localhost:8080/"
        },
        "id": "acd6E6SA-QP8",
        "outputId": "646c465c-45a0-4d29-f260-fb858e19caf0"
      },
      "source": [
        "# just one prediction so step=1\n",
        "yhat = model_fit.forecast(steps=1)\n",
        "print(yhat)"
      ],
      "execution_count": 4,
      "outputs": [
        {
          "output_type": "stream",
          "text": [
            "[[10.17628586 12.02988274]]\n"
          ],
          "name": "stdout"
        },
        {
          "output_type": "stream",
          "text": [
            "/usr/local/lib/python3.7/dist-packages/statsmodels/tsa/statespace/varmax.py:159: EstimationWarning: Estimation of VARMA(p,q) models is not generically robust, due especially to identification issues.\n",
            "  EstimationWarning)\n"
          ],
          "name": "stderr"
        }
      ]
    },
    {
      "cell_type": "code",
      "metadata": {
        "id": "72en4r-u-vE9"
      },
      "source": [
        ""
      ],
      "execution_count": 4,
      "outputs": []
    }
  ]
}