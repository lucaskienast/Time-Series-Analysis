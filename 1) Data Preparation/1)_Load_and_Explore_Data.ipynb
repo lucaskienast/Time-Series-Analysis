{
  "nbformat": 4,
  "nbformat_minor": 0,
  "metadata": {
    "colab": {
      "name": "1) Load and Explore Data.ipynb",
      "provenance": [],
      "collapsed_sections": []
    },
    "kernelspec": {
      "name": "python3",
      "display_name": "Python 3"
    },
    "language_info": {
      "name": "python"
    }
  },
  "cells": [
    {
      "cell_type": "markdown",
      "metadata": {
        "id": "w-nHowP1SaRI"
      },
      "source": [
        "# Data Preparation: Load & Explore TS Data"
      ]
    },
    {
      "cell_type": "markdown",
      "metadata": {
        "id": "xehhVfFmSsfX"
      },
      "source": [
        "## Import libraries"
      ]
    },
    {
      "cell_type": "code",
      "metadata": {
        "id": "vqGdkpOSIzmL"
      },
      "source": [
        "import numpy as np\n",
        "import pandas as pd"
      ],
      "execution_count": 1,
      "outputs": []
    },
    {
      "cell_type": "markdown",
      "metadata": {
        "id": "Ug1lh0eXS0VN"
      },
      "source": [
        "## Load data\n",
        "\n",
        "- header: ‘0’ specifies the header information is available for use.\n",
        "- parse_dates: ‘True’ helps pandas to recognize that data in the first column contains dates that need to be parsed. But there are always weird formats that need to be defined manually, in such a case adding a date_parser() function is the better approach.\n",
        "- index_col: ‘0’ hints pandas that our first column, the time series column contains our index information\n",
        "- squeeze: ‘True’ hints pandas that we only have one column and we want to use this as Series"
      ]
    },
    {
      "cell_type": "code",
      "metadata": {
        "colab": {
          "base_uri": "https://localhost:8080/"
        },
        "id": "u7V0C2HdSzYn",
        "outputId": "c3cc5b3e-b5b5-4bc0-96fd-6fde43a4cd06"
      },
      "source": [
        "# download series\n",
        "url = \"https://raw.githubusercontent.com/Kanbc/ar-model-python/master/data/daily-minimum-temperatures.csv\"\n",
        "series = pd.read_csv(url, \n",
        "                     header=0, \n",
        "                     index_col=0, \n",
        "                     parse_dates=True,\n",
        "                     squeeze=True)\n",
        "print(type(series))"
      ],
      "execution_count": 2,
      "outputs": [
        {
          "output_type": "stream",
          "text": [
            "<class 'pandas.core.series.Series'>\n"
          ],
          "name": "stdout"
        }
      ]
    },
    {
      "cell_type": "markdown",
      "metadata": {
        "id": "DNkdS_hfXbmX"
      },
      "source": [
        "## Explore data\n",
        "\n",
        "- Use the head() function to look at the first five records, we can also specify the first n records to view.\n",
        "- Validate the number of observations in the given series to avoid any error.\n",
        "- Slice and dice the time series by querying different time intervals. For example, let’s take a look at all the observations from January 1981.\n",
        "- Calculating and reviewing summary statistics is an important step in time series data exploration as well, it gives us an idea about the distribution and spread of the values. The describe() function will help us in calculating these statistics.\n"
      ]
    },
    {
      "cell_type": "code",
      "metadata": {
        "colab": {
          "base_uri": "https://localhost:8080/"
        },
        "id": "MN0rO_7TTONp",
        "outputId": "f8483bf6-a402-45fc-b0df-92b3ea576ea7"
      },
      "source": [
        "# first glance at data\n",
        "print(series.head())"
      ],
      "execution_count": 3,
      "outputs": [
        {
          "output_type": "stream",
          "text": [
            "Date\n",
            "1981-01-01    20.7\n",
            "1981-01-02    17.9\n",
            "1981-01-03    18.8\n",
            "1981-01-04    14.6\n",
            "1981-01-05    15.8\n",
            "Name: Temp, dtype: float64\n"
          ],
          "name": "stdout"
        }
      ]
    },
    {
      "cell_type": "code",
      "metadata": {
        "colab": {
          "base_uri": "https://localhost:8080/"
        },
        "id": "xXBq7HweXBUo",
        "outputId": "af16e299-78ef-4d92-f791-6820c7d60a38"
      },
      "source": [
        "# number of observations\n",
        "print(series.size)"
      ],
      "execution_count": 4,
      "outputs": [
        {
          "output_type": "stream",
          "text": [
            "3650\n"
          ],
          "name": "stdout"
        }
      ]
    },
    {
      "cell_type": "code",
      "metadata": {
        "colab": {
          "base_uri": "https://localhost:8080/"
        },
        "id": "xvrLExk4YE7d",
        "outputId": "c2d8b058-73cc-4aa3-fe6e-9c3554d6680f"
      },
      "source": [
        "# querying by time\n",
        "print(series[\"1981-01\"])"
      ],
      "execution_count": 5,
      "outputs": [
        {
          "output_type": "stream",
          "text": [
            "Date\n",
            "1981-01-01    20.7\n",
            "1981-01-02    17.9\n",
            "1981-01-03    18.8\n",
            "1981-01-04    14.6\n",
            "1981-01-05    15.8\n",
            "1981-01-06    15.8\n",
            "1981-01-07    15.8\n",
            "1981-01-08    17.4\n",
            "1981-01-09    21.8\n",
            "1981-01-10    20.0\n",
            "1981-01-11    16.2\n",
            "1981-01-12    13.3\n",
            "1981-01-13    16.7\n",
            "1981-01-14    21.5\n",
            "1981-01-15    25.0\n",
            "1981-01-16    20.7\n",
            "1981-01-17    20.6\n",
            "1981-01-18    24.8\n",
            "1981-01-19    17.7\n",
            "1981-01-20    15.5\n",
            "1981-01-21    18.2\n",
            "1981-01-22    12.1\n",
            "1981-01-23    14.4\n",
            "1981-01-24    16.0\n",
            "1981-01-25    16.5\n",
            "1981-01-26    18.7\n",
            "1981-01-27    19.4\n",
            "1981-01-28    17.2\n",
            "1981-01-29    15.5\n",
            "1981-01-30    15.1\n",
            "1981-01-31    15.4\n",
            "Name: Temp, dtype: float64\n"
          ],
          "name": "stdout"
        }
      ]
    },
    {
      "cell_type": "code",
      "metadata": {
        "colab": {
          "base_uri": "https://localhost:8080/"
        },
        "id": "2Z1zS2msYQ2u",
        "outputId": "29cd5659-ff62-46e1-da99-699759ac0280"
      },
      "source": [
        "# summary statistics of data\n",
        "print(series.describe())"
      ],
      "execution_count": 6,
      "outputs": [
        {
          "output_type": "stream",
          "text": [
            "count    3650.000000\n",
            "mean       11.177753\n",
            "std         4.071837\n",
            "min         0.000000\n",
            "25%         8.300000\n",
            "50%        11.000000\n",
            "75%        14.000000\n",
            "max        26.300000\n",
            "Name: Temp, dtype: float64\n"
          ],
          "name": "stdout"
        }
      ]
    },
    {
      "cell_type": "code",
      "metadata": {
        "id": "B-3TE3PiYY52"
      },
      "source": [
        ""
      ],
      "execution_count": 6,
      "outputs": []
    }
  ]
}