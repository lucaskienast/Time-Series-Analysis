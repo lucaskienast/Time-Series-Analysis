{
  "nbformat": 4,
  "nbformat_minor": 0,
  "metadata": {
    "colab": {
      "name": "3) Triple Exp Smooth.ipynb",
      "provenance": [],
      "collapsed_sections": []
    },
    "kernelspec": {
      "name": "python3",
      "display_name": "Python 3"
    },
    "language_info": {
      "name": "python"
    }
  },
  "cells": [
    {
      "cell_type": "markdown",
      "metadata": {
        "id": "09cYZyrfXsF9"
      },
      "source": [
        "# TS Forecasting with MA Smoothing: Triple Exponential Smoothing\n",
        "\n",
        "A method that often provides accurate and robust forecasts for seasonal data.\n",
        "\n",
        "Triple Exponential Smoothing is the most advanced variation in the family, this method is also known as Holt-Winters Exponential Smoothing, named for two contributors to the method: Charles Holt and Peter Winters.\n",
        "\n",
        "- Level: $ l(t) = \\alpha y(t) + (1 - \\alpha)(l(t-1) + b(t-1)) $\n",
        "- Trend: $ b(t) = \\beta (l(t) - l(t-1)) + (1 - \\beta) b(t-1) $\n",
        "- Seasonal: $S(x) = \\gamma (y(t) - l(t)) + (1 - \\gamma) S(x-L)$\n",
        "- Forecast: $\\hat{y} (t+h|t) = l(t)+hb(t) + S(t-L+1+(h-1)modL$\n",
        "\n",
        "In addition to the alpha and beta smoothing factors, a new parameter is added called gamma (g) that controls the influence on the seasonal component.\n",
        "Damping is possible with both additive and multiplicative Holt-Winters’ methods. "
      ]
    },
    {
      "cell_type": "markdown",
      "metadata": {
        "id": "tsZabvIiYZ4w"
      },
      "source": [
        "## Import libraries"
      ]
    },
    {
      "cell_type": "code",
      "metadata": {
        "colab": {
          "base_uri": "https://localhost:8080/"
        },
        "id": "kkNMRtYwXma3",
        "outputId": "4ddcb43b-4c78-4a4d-ad86-1c98be3d73b0"
      },
      "source": [
        "import numpy as np\n",
        "from statsmodels.tsa.holtwinters import ExponentialSmoothing"
      ],
      "execution_count": 1,
      "outputs": [
        {
          "output_type": "stream",
          "text": [
            "/usr/local/lib/python3.7/dist-packages/statsmodels/tools/_testing.py:19: FutureWarning: pandas.util.testing is deprecated. Use the functions in the public API at pandas.testing instead.\n",
            "  import pandas.util.testing as tm\n"
          ],
          "name": "stderr"
        }
      ]
    },
    {
      "cell_type": "markdown",
      "metadata": {
        "id": "44Hoh_xWYhhA"
      },
      "source": [
        "## Load data"
      ]
    },
    {
      "cell_type": "code",
      "metadata": {
        "id": "_4TYR7B4Yiir"
      },
      "source": [
        "# Generate a sample dataset\n",
        "data = np.arange(1, 100, 1) + np.random.normal(0, 1, 99)"
      ],
      "execution_count": 2,
      "outputs": []
    },
    {
      "cell_type": "markdown",
      "metadata": {
        "id": "MsfEWHYpYl62"
      },
      "source": [
        "## Triple Exp. Smooth. Model Implementation"
      ]
    },
    {
      "cell_type": "code",
      "metadata": {
        "colab": {
          "base_uri": "https://localhost:8080/"
        },
        "id": "fA02I6zyYlLy",
        "outputId": "556dcb9d-0565-4ac9-d988-e91a250f4cd6"
      },
      "source": [
        "# demonstration only (summary values not important here)\n",
        "model = ExponentialSmoothing(data, trend=\"add\", seasonal=\"add\", seasonal_periods=12, damped=True)\n",
        "model_fit = model.fit()\n",
        "print(model_fit.summary())"
      ],
      "execution_count": 3,
      "outputs": [
        {
          "output_type": "stream",
          "text": [
            "                       ExponentialSmoothing Model Results                       \n",
            "================================================================================\n",
            "Dep. Variable:                    endog   No. Observations:                   99\n",
            "Model:             ExponentialSmoothing   SSE                            222.732\n",
            "Optimized:                         True   AIC                            114.274\n",
            "Trend:                         Additive   BIC                            158.391\n",
            "Seasonal:                      Additive   AICC                           123.894\n",
            "Seasonal Periods:                    12   Date:                 Fri, 20 Aug 2021\n",
            "Box-Cox:                          False   Time:                         16:27:13\n",
            "Box-Cox Coeff.:                    None                                         \n",
            "=================================================================================\n",
            "                          coeff                 code              optimized      \n",
            "---------------------------------------------------------------------------------\n",
            "smoothing_level               0.0717441                alpha                 True\n",
            "smoothing_slope               0.0717441                 beta                 True\n",
            "smoothing_seasonal            0.4835392                gamma                 True\n",
            "initial_level                 41.478680                  l.0                 True\n",
            "initial_slope                 0.9591168                  b.0                 True\n",
            "damping_slope                 0.9999421                  phi                 True\n",
            "initial_seasons.0            -46.015548                  s.0                 True\n",
            "initial_seasons.1            -44.917203                  s.1                 True\n",
            "initial_seasons.2            -43.023259                  s.2                 True\n",
            "initial_seasons.3            -43.830605                  s.3                 True\n",
            "initial_seasons.4            -43.761524                  s.4                 True\n",
            "initial_seasons.5            -43.201538                  s.5                 True\n",
            "initial_seasons.6            -42.229495                  s.6                 True\n",
            "initial_seasons.7            -43.741049                  s.7                 True\n",
            "initial_seasons.8            -41.638844                  s.8                 True\n",
            "initial_seasons.9            -39.712104                  s.9                 True\n",
            "initial_seasons.10           -39.395941                 s.10                 True\n",
            "initial_seasons.11           -39.719702                 s.11                 True\n",
            "---------------------------------------------------------------------------------\n"
          ],
          "name": "stdout"
        },
        {
          "output_type": "stream",
          "text": [
            "/usr/local/lib/python3.7/dist-packages/statsmodels/tsa/holtwinters.py:712: ConvergenceWarning: Optimization failed to converge. Check mle_retvals.\n",
            "  ConvergenceWarning)\n"
          ],
          "name": "stderr"
        }
      ]
    },
    {
      "cell_type": "markdown",
      "metadata": {
        "id": "YT2d2yt4Y11z"
      },
      "source": [
        "## Make Prediction"
      ]
    },
    {
      "cell_type": "code",
      "metadata": {
        "colab": {
          "base_uri": "https://localhost:8080/"
        },
        "id": "84MmJkLcY0KJ",
        "outputId": "c56a68b2-a9b8-4bc7-a480-dccb36e8efcf"
      },
      "source": [
        "yhat = model_fit.predict(data.shape[0], data.shape[0])\n",
        "print(yhat)"
      ],
      "execution_count": 4,
      "outputs": [
        {
          "output_type": "stream",
          "text": [
            "[99.83724594]\n"
          ],
          "name": "stdout"
        }
      ]
    },
    {
      "cell_type": "code",
      "metadata": {
        "id": "99XiANCuY6CK"
      },
      "source": [
        ""
      ],
      "execution_count": null,
      "outputs": []
    }
  ]
}
