{
  "nbformat": 4,
  "nbformat_minor": 0,
  "metadata": {
    "colab": {
      "name": "2) Double Exp Smooth.ipynb",
      "provenance": [],
      "collapsed_sections": []
    },
    "kernelspec": {
      "name": "python3",
      "display_name": "Python 3"
    },
    "language_info": {
      "name": "python"
    }
  },
  "cells": [
    {
      "cell_type": "markdown",
      "metadata": {
        "id": "pUOoOKFuVfZ4"
      },
      "source": [
        "# TS Forecasting with MA Smoothing: Double Exponential Smoothing\n",
        "\n",
        "Double exponential smoothing is an extension to SES, this method allows the forecasting of data with a trend.\n",
        "\n",
        "- Level: $ l(t) = \\alpha y(t) + (1 - \\alpha)(l(t-1) + b(t-1)) $\n",
        "- Trend: $ b(t) = \\beta (l(t) - l(t-1)) + (1 - \\beta) b(t-1) $\n",
        "- Forecast: $\\hat{y} (t+h|t) = l(t)+hb(t)$\n",
        "\n",
        "In addition to the alpha, a smoothing factor for the level, an additional smoothing factor is added to control the decay of the influence of the change in a trend called beta. These methods tend to over-forecast, especially for longer forecast horizons. Motivated by this observation, Gardner & McKenzie (1985) introduced a parameter that “dampens” the trend to a flat line sometime in the future. Therefore, in conjunction with the smoothing parameters α and β (with values between 0 and 1), this method also includes a damping parameter ϕ which also ranges between 0 and 1."
      ]
    },
    {
      "cell_type": "markdown",
      "metadata": {
        "id": "5rRGhCWbW1xQ"
      },
      "source": [
        "## Import libraries"
      ]
    },
    {
      "cell_type": "code",
      "metadata": {
        "colab": {
          "base_uri": "https://localhost:8080/"
        },
        "id": "g-ax2pRpVc_H",
        "outputId": "1a2bc3b5-dc80-4187-e8a5-e6c3a5b23c77"
      },
      "source": [
        "import numpy as np\n",
        "from statsmodels.tsa.holtwinters import ExponentialSmoothing"
      ],
      "execution_count": 1,
      "outputs": [
        {
          "output_type": "stream",
          "text": [
            "/usr/local/lib/python3.7/dist-packages/statsmodels/tools/_testing.py:19: FutureWarning: pandas.util.testing is deprecated. Use the functions in the public API at pandas.testing instead.\n",
            "  import pandas.util.testing as tm\n"
          ],
          "name": "stderr"
        }
      ]
    },
    {
      "cell_type": "markdown",
      "metadata": {
        "id": "_wRk5bxcXAiI"
      },
      "source": [
        "## Load data"
      ]
    },
    {
      "cell_type": "code",
      "metadata": {
        "id": "2fESWmvsW_8W"
      },
      "source": [
        "# Generate a sample dataset\n",
        "data = np.arange(1, 100, 1) + np.random.normal(0, 1, 99)"
      ],
      "execution_count": 2,
      "outputs": []
    },
    {
      "cell_type": "markdown",
      "metadata": {
        "id": "4mZbjDOWXNzH"
      },
      "source": [
        "## Double Exp. Smooth. Model Implementation"
      ]
    },
    {
      "cell_type": "code",
      "metadata": {
        "colab": {
          "base_uri": "https://localhost:8080/"
        },
        "id": "Kr-Rjje1XMwk",
        "outputId": "0a2f7ef0-c40d-49e5-9c83-8be72fab373a"
      },
      "source": [
        "# demonstration only (summary values not important here)\n",
        "model = ExponentialSmoothing(data, trend=\"add\", seasonal=None, damped=True)\n",
        "model_fit = model.fit()\n",
        "print(model_fit.summary())"
      ],
      "execution_count": 3,
      "outputs": [
        {
          "output_type": "stream",
          "text": [
            "                       ExponentialSmoothing Model Results                       \n",
            "================================================================================\n",
            "Dep. Variable:                    endog   No. Observations:                   99\n",
            "Model:             ExponentialSmoothing   SSE                             99.935\n",
            "Optimized:                         True   AIC                             10.931\n",
            "Trend:                         Additive   BIC                             23.906\n",
            "Seasonal:                          None   AICC                            12.161\n",
            "Seasonal Periods:                  None   Date:                 Fri, 20 Aug 2021\n",
            "Box-Cox:                          False   Time:                         16:21:29\n",
            "Box-Cox Coeff.:                    None                                         \n",
            "==============================================================================\n",
            "                       coeff                 code              optimized      \n",
            "------------------------------------------------------------------------------\n",
            "smoothing_level           2.9287e-09                alpha                 True\n",
            "smoothing_slope             0.000000                 beta                 True\n",
            "initial_level              0.1193490                  l.0                 True\n",
            "initial_slope              0.9983796                  b.0                 True\n",
            "damping_slope              1.0000000                  phi                 True\n",
            "------------------------------------------------------------------------------\n"
          ],
          "name": "stdout"
        }
      ]
    },
    {
      "cell_type": "markdown",
      "metadata": {
        "id": "hpmkRWZlXasU"
      },
      "source": [
        "## Make Prediction"
      ]
    },
    {
      "cell_type": "code",
      "metadata": {
        "colab": {
          "base_uri": "https://localhost:8080/"
        },
        "id": "d5t08ZUnXZ9M",
        "outputId": "e3a4dc07-e4cb-417e-cbb3-70539a8f23bd"
      },
      "source": [
        "yhat = model_fit.predict(data.shape[0], data.shape[0])\n",
        "print(yhat)"
      ],
      "execution_count": 4,
      "outputs": [
        {
          "output_type": "stream",
          "text": [
            "[99.9573107]\n"
          ],
          "name": "stdout"
        }
      ]
    },
    {
      "cell_type": "code",
      "metadata": {
        "id": "zN7gh6_MXeRU"
      },
      "source": [
        ""
      ],
      "execution_count": 4,
      "outputs": []
    }
  ]
}