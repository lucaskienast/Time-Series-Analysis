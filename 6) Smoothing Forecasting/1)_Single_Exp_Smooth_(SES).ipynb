{
  "nbformat": 4,
  "nbformat_minor": 0,
  "metadata": {
    "colab": {
      "name": "1) Single Exp Smooth (SES).ipynb",
      "provenance": [],
      "collapsed_sections": []
    },
    "kernelspec": {
      "name": "python3",
      "display_name": "Python 3"
    },
    "language_info": {
      "name": "python"
    }
  },
  "cells": [
    {
      "cell_type": "markdown",
      "metadata": {
        "id": "5yCYrT7nQakc"
      },
      "source": [
        "# TS Forecasting with MA Smoothing: Single Exponential Smoothing (SES)\n",
        "\n",
        "This method is also called Simple Exponential Smoothing, suitable for forecasting data with no clear trend or seasonal pattern.\n",
        "\n",
        "$ y(t+1|t) = \\alpha y(t) + \\alpha (1 - \\alpha) y(t-1) + \\alpha (1 - \\alpha)^2 y(t-2) + ... + y(1)$\n",
        "\n",
        "where, alpha, a smoothing parameter falls between 0 and 1. A large value means the model pays importance to the most recent observation, whereas smaller value means the oldest observations are more significant."
      ]
    },
    {
      "cell_type": "markdown",
      "metadata": {
        "id": "4Kn79tLPTAye"
      },
      "source": [
        "## Import libraries"
      ]
    },
    {
      "cell_type": "code",
      "metadata": {
        "colab": {
          "base_uri": "https://localhost:8080/"
        },
        "id": "7ALDHV-FQDP-",
        "outputId": "048d5fef-8439-490c-c627-95a4fcb8ac58"
      },
      "source": [
        "import numpy as np\n",
        "from statsmodels.tsa.holtwinters import SimpleExpSmoothing"
      ],
      "execution_count": 1,
      "outputs": [
        {
          "output_type": "stream",
          "text": [
            "/usr/local/lib/python3.7/dist-packages/statsmodels/tools/_testing.py:19: FutureWarning: pandas.util.testing is deprecated. Use the functions in the public API at pandas.testing instead.\n",
            "  import pandas.util.testing as tm\n"
          ],
          "name": "stderr"
        }
      ]
    },
    {
      "cell_type": "markdown",
      "metadata": {
        "id": "fOaSndskTKCl"
      },
      "source": [
        "## Load data"
      ]
    },
    {
      "cell_type": "code",
      "metadata": {
        "id": "pHETIkVnTI02"
      },
      "source": [
        "# Generate a sample dataset\n",
        "data = np.arange(1, 100, 1) + np.random.normal(0, 1, 99)"
      ],
      "execution_count": 2,
      "outputs": []
    },
    {
      "cell_type": "markdown",
      "metadata": {
        "id": "RcHm1OkUU5fy"
      },
      "source": [
        "## SES Model Implementation"
      ]
    },
    {
      "cell_type": "code",
      "metadata": {
        "colab": {
          "base_uri": "https://localhost:8080/"
        },
        "id": "Fvz01ci5U438",
        "outputId": "6384d27c-f351-4a67-c4f6-5ff148116bd4"
      },
      "source": [
        "# demonstration only (summary values not important here)\n",
        "model = SimpleExpSmoothing(data)\n",
        "model_fit = model.fit()\n",
        "print(model_fit.summary())"
      ],
      "execution_count": 3,
      "outputs": [
        {
          "output_type": "stream",
          "text": [
            "                       SimpleExpSmoothing Model Results                       \n",
            "==============================================================================\n",
            "Dep. Variable:                  endog   No. Observations:                   99\n",
            "Model:             SimpleExpSmoothing   SSE                            325.522\n",
            "Optimized:                       True   AIC                            121.841\n",
            "Trend:                           None   BIC                            127.031\n",
            "Seasonal:                        None   AICC                           122.266\n",
            "Seasonal Periods:                None   Date:                 Fri, 20 Aug 2021\n",
            "Box-Cox:                        False   Time:                         16:12:03\n",
            "Box-Cox Coeff.:                  None                                         \n",
            "==============================================================================\n",
            "                       coeff                 code              optimized      \n",
            "------------------------------------------------------------------------------\n",
            "smoothing_level            0.9718449                alpha                 True\n",
            "initial_level              0.2001882                  l.0                 True\n",
            "------------------------------------------------------------------------------\n"
          ],
          "name": "stdout"
        }
      ]
    },
    {
      "cell_type": "markdown",
      "metadata": {
        "id": "vxrIFTqaVJyQ"
      },
      "source": [
        "## Make Prediction"
      ]
    },
    {
      "cell_type": "code",
      "metadata": {
        "colab": {
          "base_uri": "https://localhost:8080/"
        },
        "id": "wLkuk4TlVGqx",
        "outputId": "20fcbf3a-9d0a-40d8-96ba-ec5e2ba89211"
      },
      "source": [
        "yhat = model_fit.predict(data.shape[0], data.shape[0])\n",
        "print(yhat)"
      ],
      "execution_count": 4,
      "outputs": [
        {
          "output_type": "stream",
          "text": [
            "[98.78064876]\n"
          ],
          "name": "stdout"
        }
      ]
    },
    {
      "cell_type": "code",
      "metadata": {
        "id": "VQY9Db8iVSRR"
      },
      "source": [
        ""
      ],
      "execution_count": 4,
      "outputs": []
    }
  ]
}